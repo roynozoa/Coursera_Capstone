{
 "metadata": {
  "language_info": {
   "codemirror_mode": {
    "name": "ipython",
    "version": 3
   },
   "file_extension": ".py",
   "mimetype": "text/x-python",
   "name": "python",
   "nbconvert_exporter": "python",
   "pygments_lexer": "ipython3",
   "version": 3
  },
  "orig_nbformat": 2
 },
 "nbformat": 4,
 "nbformat_minor": 2,
 "cells": [
  {
   "source": [
    "<h1 align=\"center\"> Battle of Neighborhoods - Clustering and Segmenting the Neighborhoods of Jakarta and Surabaya</h1>\n",
    "\n",
    "<p align =\"center\"> Muhammad Adisatriyo Pratama\n",
    "<br>\n",
    "<br>\n",
    "14 December 2020\n",
    "</p>\n",
    "\n",
    "\n"
   ],
   "cell_type": "markdown",
   "metadata": {}
  },
  {
   "source": [
    "# 1. Introduction\n",
    "\n",
    "In this report i will analyze area of cluster between two major metropolitan area in Indonesia that is Jakarta and Surabaya. Jakarta and Surabaya are very popular and most populated metropolitan area in Indonesia. Altough Jakarta have approximately 3 times population than Surabaya, Surabaya has it's own destination, unique places, and landmark to go to. \n",
    "\n",
    "# 2. Business Problem\n",
    "\n",
    "The aim of this report is try to help tourist or business owner to open new detinations or places in the neighborhood depending on the experiences that neighborhood have. Once the data is obtained, the cluster and segmentation between neighborhood is created to see wich neighborhood has the same simmilarity based on destination and places. This also will help people to make decision if they are want to migrate or move into another neighborhood.\n",
    "\n",
    "# 3. Data Collecting\n",
    "\n",
    "In this report, we require neighborhood (Kecamatan) for Jakarta and Surabaya. Using the location of the neighborhood we can search most popular venue or places for each categories using **Foursquare API**. We also need the coordinates/geographical location for each neighborhood in Jakarta and Surabaya. Using the coordinates of the neighborhood we can visualize with **OpenStreetMap using Folium API**.\n",
    "\n",
    "## 3.1 Jakarta\n",
    "\n",
    "In order to get neighborhood (Kecamatan) in Jakarta we scrape the data from : https://id.wikipedia.org/wiki/Daftar_kecamatan_dan_kelurahan_di_Daerah_Khusus_Ibukota_Jakarta\n",
    "\n",
    "In this wikipedia page there is several table representing each Town in Jakarta. in each table, there is data about name of neighborhood (Kecamatan) for each town and name of villages (Kelurahan) for each neighborhood.\n",
    "\n",
    "After doing data processing we limit the data and concatenate 5 table into 1 table containing information about : \n",
    "\n",
    "1. *Neighborhood* : Name of kecamatan, we call this neighborhood to make it easy for report.\n",
    "2. *Town* : Name of Administrative Town for each neighborhood.\n",
    "\n",
    "At the end, we obtained 48 rows of data each representing its neighborhood.\n",
    "\n",
    "## 3.2 Surabaya\n",
    "\n",
    "We scrape neighborhood data in Surabaya also from wikipedia page : https://id.wikipedia.org/wiki/Daftar_kecamatan_dan_kelurahan_di_Kota_Surabaya\n",
    "\n",
    "In this wikipedia page there is just containing 1 table with the same information from wikipedia page in Jakarta. Because the table contains some data that we do not need so we can keep the same information we got fram table Jakarta.\n",
    "\n",
    "## 3.3 Nominatim OpenStreetMap\n",
    "\n",
    "The data scraping from wikipedia page does not give information about the coordinates for each neighborhood. So we can use Nominatim OpenStreetMap API in order to get *latitude* and *longitude* for each neighborhood.\n",
    "\n",
    "Using Nominatim OpenStreetMap API in python we can use **geopy** library and import **geopy.geocoders.Nominatim** package into notebook.\n",
    "\n",
    "Using nominatim we can pass neighborhood keyword into nominatim object and get the representing latitude and longitude so we can add this information into neighborhood table for Jakarta and Surabaya.\n",
    "\n",
    "## 3.4 Foursquare API\n",
    "\n",
    "Foursquare is a company focusing on social media services. One of their products is Foursquare City Guide commonly called Foursquare is a product that give information about venues, places, or events within an area of interest. This app also proveides personalized reccomendations of places to go in near the user's current location based on other user's rating for the places. Using Foursquare API we can find data about different venues for different neighborhood. With Foursquare API we can make a call containing neighborhood information so we can gain information about the places or venues.\n",
    "\n",
    "After using Foursquare API we can find data about venues for each neighborhood and we can create a **Pandas Dataframe** object for information about Jakarta and Surabaya. After this, the information we obtained as follows:\n",
    "\n",
    "1. *Neighborhood* : Name of kecamatan, we call this neighborhood to make it easy for report.\n",
    "2. *Town* : Name of Administrative Town for each neighborhood.\n",
    "3. *Latitude* : Latitude coordinates of the neighborhood.\n",
    "4. *Longitude* : Longitude coordinates of the neighborhood.\n",
    "5. *Venue* : Name of the venue.\n",
    "6. *Venue Category* : Category of the venue.\n",
    "7. *Venue Latitude* : Latitude coordinates of the venue.\n",
    "8. *Venue Longitude* : Longitude coordinates of the venue.\n"
   ],
   "cell_type": "markdown",
   "metadata": {}
  },
  {
   "source": [
    "# References :\n",
    "- [Coursera Applied Data Science Capstone Course](https://www.coursera.org/learn/applied-data-science-capstone)\n",
    "- [Foursquare Developer API](https://foursquare.com/developers/)\n",
    "- [Indonesian Ministry of Internal Affairs (Kemendagri)](https://www.kemendagri.go.id/page/read/48/peraturan-menteri-dalam-negeri-no72-tahun-2019) Accessed via Wikipedia page [neighborhood Jakarta](https://id.wikipedia.org/wiki/Daftar_kecamatan_dan_kelurahan_di_Daerah_Khusus_Ibukota_Jakarta) and [neighborhood Surabaya](https://id.wikipedia.org/wiki/Daftar_kecamatan_dan_kelurahan_di_Kota_Surabaya)."
   ],
   "cell_type": "markdown",
   "metadata": {}
  },
  {
   "cell_type": "code",
   "execution_count": null,
   "metadata": {},
   "outputs": [],
   "source": []
  }
 ]
}