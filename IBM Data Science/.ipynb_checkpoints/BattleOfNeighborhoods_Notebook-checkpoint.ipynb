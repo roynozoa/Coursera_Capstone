{
 "metadata": {
  "language_info": {
   "codemirror_mode": {
    "name": "ipython",
    "version": 3
   },
   "file_extension": ".py",
   "mimetype": "text/x-python",
   "name": "python",
   "nbconvert_exporter": "python",
   "pygments_lexer": "ipython3",
   "version": "3.8.3-final"
  },
  "orig_nbformat": 2,
  "kernelspec": {
   "name": "python3",
   "display_name": "Python 3",
   "language": "python"
  }
 },
 "nbformat": 4,
 "nbformat_minor": 2,
 "cells": [
  {
   "source": [
    "<h1 align=\"center\"> Battle of Neighborhoods - Clustering and Segmenting the Neighborhoods of Jakarta and Surabaya</h1>\n",
    "\n",
    "<p align =\"center\"> Muhammad Adisatriyo Pratama\n",
    "<br>\n",
    "<br>\n",
    "14 December 2020\n",
    "</p>\n",
    "\n",
    "\n"
   ],
   "cell_type": "markdown",
   "metadata": {}
  },
  {
   "source": [
    "# 1. Introduction\n",
    "\n",
    "In this report i will analyze area of cluster between two major metropolitan area in Indonesia that is Jakarta and Surabaya. Jakarta and Surabaya are very popular and most populated metropolitan area in Indonesia. Altough Jakarta have approximately 3 times population than Surabaya, Surabaya has it's own destination, unique places, and landmark to go to. \n",
    "\n",
    "# 2. Business Problem\n",
    "\n",
    "The aim of this report is try to help tourist or business owner to open new detinations or places in the neighborhood depending on the experiences that neighborhood have. Once the data is obtained, the cluster and segmentation between neighborhood is created to see wich neighborhood has the same simmilarity based on destination and places. This also will help people to make decision if they are want to migrate or move into another neighborhood.\n",
    "\n",
    "# 3. Data Collecting\n",
    "\n",
    "In this report, we require neighborhood (Kecamatan) for Jakarta and Surabaya. Using the location of the neighborhood we can search most popular venue or places for each categories using **Foursquare API**. We also need the coordinates/geographical location for each neighborhood in Jakarta and Surabaya. Using the coordinates of the neighborhood we can visualize with **OpenStreetMap using Folium API**.\n",
    "\n",
    "## 3.1 Jakarta\n",
    "\n",
    "In order to get neighborhood (Kecamatan) in Jakarta we scrape the data from : https://id.wikipedia.org/wiki/Daftar_kecamatan_dan_kelurahan_di_Daerah_Khusus_Ibukota_Jakarta\n",
    "\n",
    "In this wikipedia page there is several table representing each Town in Jakarta. in each table, there is data about name of neighborhood (Kecamatan) for each town and name of villages (Kelurahan) for each neighborhood.\n",
    "\n",
    "After doing data processing we limit the data and concatenate 5 table into 1 table containing information about : \n",
    "\n",
    "1. *Neighborhood* : Name of kecamatan, we call this neighborhood to make it easy for report.\n",
    "2. *Town* : Name of Administrative Town for each neighborhood.\n",
    "\n",
    "At the end, we obtained 48 rows of data each representing its neighborhood.\n",
    "\n",
    "## 3.2 Surabaya\n",
    "\n",
    "We scrape neighborhood data in Surabaya also from wikipedia page : https://id.wikipedia.org/wiki/Daftar_kecamatan_dan_kelurahan_di_Kota_Surabaya\n",
    "\n",
    "In this wikipedia page there is just containing 1 table with the same information from wikipedia page in Jakarta. Because the table contains some data that we do not need so we can keep the same information we got fram table Jakarta.\n",
    "\n",
    "## 3.3 Nominatim OpenStreetMap\n",
    "\n",
    "The data scraping from wikipedia page does not give information about the coordinates for each neighborhood. So we can use Nominatim OpenStreetMap API in order to get *latitude* and *longitude* for each neighborhood.\n",
    "\n",
    "Using Nominatim OpenStreetMap API in python we can use **geopy** library and import **geopy.geocoders.Nominatim** package into notebook.\n",
    "\n",
    "Using nominatim we can pass neighborhood keyword into nominatim object and get the representing latitude and longitude so we can add this information into neighborhood table for Jakarta and Surabaya.\n",
    "\n",
    "## 3.4 Foursquare API\n",
    "\n",
    "Foursquare is a company focusing on social media services. One of their products is Foursquare City Guide commonly called Foursquare is a product that give information about venues, places, or events within an area of interest. This app also proveides personalized reccomendations of places to go in near the user's current location based on other user's rating for the places. Using Foursquare API we can find data about different venues for different neighborhood. With Foursquare API we can make a call containing neighborhood information so we can gain information about the places or venues.\n",
    "\n",
    "After using Foursquare API we can find data about venues for each neighborhood and we can create a **Pandas Dataframe** object for information about Jakarta and Surabaya. After this, the information we obtained as follows:\n",
    "\n",
    "1. *Neighborhood* : Name of kecamatan, we call this neighborhood to make it easy for report.\n",
    "2. *Town* : Name of Administrative Town for each neighborhood.\n",
    "3. *Latitude* : Latitude coordinates of the neighborhood.\n",
    "4. *Longitude* : Longitude coordinates of the neighborhood.\n",
    "5. *Venue* : Name of the venue.\n",
    "6. *Venue Category* : Category of the venue.\n",
    "7. *Venue Latitude* : Latitude coordinates of the venue.\n",
    "8. *Venue Longitude* : Longitude coordinates of the venue.\n"
   ],
   "cell_type": "markdown",
   "metadata": {}
  },
  {
   "source": [
    "# 4. Methodology\n",
    "\n",
    "In this part of the section, i will collecting data (data scrapping) from wikipedia page in order to get **neighborhood information** for **Jakarta** and **Surabaya**. After getting that information, i will use name of the neighborhood as a keyword to providing information about **neighborhood coordinates** (latitude and longitude) using **Nominatim** with *geopy.geocoders.Nominatim* package. Using coordinates for each neighborhood i will use **Foursquare API** to get relevant venues and places near the given **latitude** and **longitude**. Using that information we create a pandas dataframe to sort **5 most popular venues (categories) for each neighborhood**"
   ],
   "cell_type": "markdown",
   "metadata": {}
  },
  {
   "source": [
    "### Import library\n",
    "Before we start collecting and processing data we want to import necessary library that we use in this research notebook."
   ],
   "cell_type": "markdown",
   "metadata": {}
  },
  {
   "cell_type": "code",
   "execution_count": 1,
   "metadata": {},
   "outputs": [],
   "source": [
    "# basic library\n",
    "import pandas as pd\n",
    "import requests\n",
    "import numpy as np\n",
    "import matplotlib.cm as cm\n",
    "import matplotlib.colors as colors\n",
    "\n",
    "# import folium library for map visualization\n",
    "# !pip install folium # uncomment this if you have not already insalled folium\n",
    "import folium\n",
    "\n",
    "# Import Nominatim API from geopy.geocoders.Nominatim package for providing information about latitude and longitude\n",
    "# !pip install geopy # uncomment this if you have not already installed folium\n",
    "from geopy.geocoders import Nominatim\n",
    "\n",
    "# import k-means for the clustering stage\n",
    "from sklearn.cluster import KMeans"
   ]
  },
  {
   "source": [
    "## 4.1 Data Collection"
   ],
   "cell_type": "markdown",
   "metadata": {}
  },
  {
   "source": [
    "## Explore Jakarta\n",
    "\n",
    "### In this part i will do data wrangling from wikipedia page for providing neighborhood data and information in Jakarta\n",
    "URL : https://id.wikipedia.org/wiki/Daftar_kecamatan_dan_kelurahan_di_Daerah_Khusus_Ibukota_Jakarta\n",
    "\n",
    "From this wikipedia page there is several table that we need so we can use **pandas.read_html()** function to get a list of table that we need."
   ],
   "cell_type": "markdown",
   "metadata": {}
  },
  {
   "cell_type": "code",
   "execution_count": 2,
   "metadata": {},
   "outputs": [
    {
     "output_type": "execute_result",
     "data": {
      "text/plain": [
       "<Response [200]>"
      ]
     },
     "metadata": {},
     "execution_count": 2
    }
   ],
   "source": [
    "jakarta_url = 'https://id.wikipedia.org/wiki/Daftar_kecamatan_dan_kelurahan_di_Daerah_Khusus_Ibukota_Jakarta'\n",
    "jakarta_wiki = requests.get(jakarta_url)\n",
    "jakarta_wiki"
   ]
  },
  {
   "source": [
    "We got response 200 wich means connection is established"
   ],
   "cell_type": "markdown",
   "metadata": {}
  },
  {
   "cell_type": "code",
   "execution_count": 3,
   "metadata": {},
   "outputs": [
    {
     "output_type": "execute_result",
     "data": {
      "text/plain": [
       "[   No. Kode Kemendagri         Kabupaten/Kota Luas Wilayah (km²)  \\\n",
       "    No. Kode Kemendagri         Kabupaten/Kota Luas Wilayah (km²)   \n",
       " 0  1.0           31.01  Kab. Kepulauan Seribu               1018   \n",
       " 1  2.0           31.73     Kota Jakarta Barat              12444   \n",
       " 2  3.0           31.71     Kota Jakarta Pusat               5238   \n",
       " 3  4.0           31.74   Kota Jakarta Selatan              15432   \n",
       " 4  5.0           31.75     Kota Jakarta Timur              18270   \n",
       " 5  6.0           31.72     Kota Jakarta Utara              13999   \n",
       " 6  NaN             NaN                  TOTAL              66401   \n",
       " \n",
       "   Penduduk (jiwa) Kepadatan (jiwa/km²)      2017                 \n",
       "   Penduduk (jiwa) Kepadatan (jiwa/km²) Kecamatan Kelurahan Desa  \n",
       " 0          27.123              2.66434         2         6    -  \n",
       " 1       2.324.121             18.67664         8        56    -  \n",
       " 2       1.138.346             21.73246         8        44    -  \n",
       " 3       2.188.457             14.18129        10        65    -  \n",
       " 4       2.944.493             16.11655        10        65    -  \n",
       " 5       1.711.386             12.22506         6        31    -  \n",
       " 6      10.333.926             15.56291        44       267    0  ,\n",
       "   Kode Kemendagri      Kecamatan  Jumlah Kelurahan  \\\n",
       " 0        31.71.05  Cempaka Putih                 3   \n",
       " 1        31.71.01         Gambir                 6   \n",
       " 2        31.71.08     Johar Baru                 4   \n",
       " 3        31.71.03      Kemayoran                 8   \n",
       " 4        31.71.06        Menteng                 5   \n",
       " 5        31.71.02    Sawah Besar                 5   \n",
       " 6        31.71.04          Senen                 6   \n",
       " 7        31.71.07    Tanah Abang                 7   \n",
       " 8             NaN          TOTAL                44   \n",
       " \n",
       "                                     Daftar Kelurahan  \n",
       " 0   Cempaka Putih Barat Cempaka Putih Timur Rawasari  \n",
       " 1  Cideng Duri Pulo Gambir Kebon Kelapa Petojo Se...  \n",
       " 2         Galur Johar Baru Kampung Rawa Tanah Tinggi  \n",
       " 3  Cempaka Baru Gunung Sahari Selatan Harapan Mul...  \n",
       " 4   Cikini Gondangdia Kebon Sirih Menteng Pegangsaan  \n",
       " 5  Gunung Sahari Utara Karang Anyar Kartini Mangg...  \n",
       " 6         Bungur Kenari Kramat Kwitang Paseban Senen  \n",
       " 7  Bendungan Hilir Gelora Kampung Bali Karet Teng...  \n",
       " 8                                                NaN  ]"
      ]
     },
     "metadata": {},
     "execution_count": 3
    }
   ],
   "source": [
    "# Read data\n",
    "jakarta_data = pd.read_html(jakarta_wiki.text)\n",
    "\n",
    "# See first couple of data\n",
    "jakarta_data[0:2]"
   ]
  },
  {
   "source": [
    " Here are the sample of data that we want"
   ],
   "cell_type": "markdown",
   "metadata": {}
  },
  {
   "cell_type": "code",
   "execution_count": 4,
   "metadata": {},
   "outputs": [
    {
     "output_type": "execute_result",
     "data": {
      "text/plain": [
       "  Kode Kemendagri      Kecamatan  Jumlah Kelurahan  \\\n",
       "0        31.71.05  Cempaka Putih                 3   \n",
       "1        31.71.01         Gambir                 6   \n",
       "\n",
       "                                    Daftar Kelurahan  \n",
       "0   Cempaka Putih Barat Cempaka Putih Timur Rawasari  \n",
       "1  Cideng Duri Pulo Gambir Kebon Kelapa Petojo Se...  "
      ],
      "text/html": "<div>\n<style scoped>\n    .dataframe tbody tr th:only-of-type {\n        vertical-align: middle;\n    }\n\n    .dataframe tbody tr th {\n        vertical-align: top;\n    }\n\n    .dataframe thead th {\n        text-align: right;\n    }\n</style>\n<table border=\"1\" class=\"dataframe\">\n  <thead>\n    <tr style=\"text-align: right;\">\n      <th></th>\n      <th>Kode Kemendagri</th>\n      <th>Kecamatan</th>\n      <th>Jumlah Kelurahan</th>\n      <th>Daftar Kelurahan</th>\n    </tr>\n  </thead>\n  <tbody>\n    <tr>\n      <th>0</th>\n      <td>31.71.05</td>\n      <td>Cempaka Putih</td>\n      <td>3</td>\n      <td>Cempaka Putih Barat Cempaka Putih Timur Rawasari</td>\n    </tr>\n    <tr>\n      <th>1</th>\n      <td>31.71.01</td>\n      <td>Gambir</td>\n      <td>6</td>\n      <td>Cideng Duri Pulo Gambir Kebon Kelapa Petojo Se...</td>\n    </tr>\n  </tbody>\n</table>\n</div>"
     },
     "metadata": {},
     "execution_count": 4
    }
   ],
   "source": [
    "jakarta_data[1].head(2)"
   ]
  },
  {
   "source": [
    "## Data Processing"
   ],
   "cell_type": "markdown",
   "metadata": {}
  },
  {
   "source": [
    "Add information about administrative town"
   ],
   "cell_type": "markdown",
   "metadata": {}
  },
  {
   "cell_type": "code",
   "execution_count": 5,
   "metadata": {},
   "outputs": [],
   "source": [
    "jakarta_data[1]['Town'] = 'Central Jakarta'\n",
    "jakarta_data[2]['Town'] = 'North Jakarta'\n",
    "jakarta_data[3]['Town'] = 'East Jakarta'\n",
    "jakarta_data[4]['Town'] = 'South Jakarta'\n",
    "jakarta_data[5]['Town'] = 'West Jakarta Barat'\n",
    "jakarta_data[6]['Town'] = 'Kepulauan Seribu'"
   ]
  },
  {
   "source": [
    "Some of the table have different name but same meaning so we rename those column name"
   ],
   "cell_type": "markdown",
   "metadata": {}
  },
  {
   "cell_type": "code",
   "execution_count": 6,
   "metadata": {},
   "outputs": [],
   "source": [
    "jakarta_data[2].rename(columns={'Kemendagri':'Kode Kemendagri'}, inplace=True)\n",
    "jakarta_data[3].rename(columns={'Kemendagri':'Kode Kemendagri'}, inplace=True)\n"
   ]
  },
  {
   "source": [
    "Append all table into one dataframe containing all of information"
   ],
   "cell_type": "markdown",
   "metadata": {}
  },
  {
   "cell_type": "code",
   "execution_count": 7,
   "metadata": {},
   "outputs": [],
   "source": [
    "jakarta_df = jakarta_data[1].append(jakarta_data[2]).append(jakarta_data[3]).append([jakarta_data[4]]).append(jakarta_data[5]).append(jakarta_data[6]).reset_index(drop=True).dropna()"
   ]
  },
  {
   "source": [
    "Here are the combined data for Neighborhood in Jakarta"
   ],
   "cell_type": "markdown",
   "metadata": {}
  },
  {
   "cell_type": "code",
   "execution_count": 8,
   "metadata": {},
   "outputs": [
    {
     "output_type": "execute_result",
     "data": {
      "text/plain": [
       "   Kode Kemendagri                 Kecamatan  Jumlah Kelurahan  \\\n",
       "0         31.71.05             Cempaka Putih                 3   \n",
       "1         31.71.01                    Gambir                 6   \n",
       "2         31.71.08                Johar Baru                 4   \n",
       "3         31.71.03                 Kemayoran                 8   \n",
       "4         31.71.06                   Menteng                 5   \n",
       "5         31.71.02               Sawah Besar                 5   \n",
       "6         31.71.04                     Senen                 6   \n",
       "7         31.71.07               Tanah Abang                 7   \n",
       "9         31.72.04                 Cilincing                 7   \n",
       "10        31.72.06             Kelapa Gading                 3   \n",
       "11        31.72.03                      Koja                 6   \n",
       "12        31.72.05                Pademangan                 3   \n",
       "13        31.72.01               Penjaringan                 5   \n",
       "14        31.72.02             Tanjung Priok                 7   \n",
       "16        31.75.06                    Cakung                 7   \n",
       "17        31.75.10                  Cipayung                 8   \n",
       "18        31.75.09                   Ciracas                 5   \n",
       "19        31.75.07               Duren Sawit                 7   \n",
       "20        31.75.03                Jatinegara                 8   \n",
       "21        31.75.04               Kramat Jati                 7   \n",
       "22        31.75.08                   Makasar                 5   \n",
       "23        31.75.01                  Matraman                 6   \n",
       "24        31.75.05                Pasar Rebo                 5   \n",
       "25        31.75.02               Pulo Gadung                 7   \n",
       "27        31.74.06                  Cilandak                 5   \n",
       "28        31.74.09                 Jagakarsa                 6   \n",
       "29        31.74.07            Kebayoran Baru                10   \n",
       "30        31.74.05            Kebayoran Lama                 6   \n",
       "31        31.74.03          Mampang Prapatan                 5   \n",
       "32        31.74.08                  Pancoran                 6   \n",
       "33        31.74.04              Pasar Minggu                 7   \n",
       "34        31.74.10              Pesanggrahan                 5   \n",
       "35        31.74.02                 Setiabudi                 8   \n",
       "36        31.74.01                     Tebet                 7   \n",
       "38        31.73.01                Cengkareng                 6   \n",
       "39        31.73.02         Grogol Petamburan                 7   \n",
       "40        31.73.03                Taman Sari                 8   \n",
       "41        31.73.04                   Tambora                11   \n",
       "42        31.73.05               Kebon Jeruk                 7   \n",
       "43        31.73.06                 Kalideres                 5   \n",
       "44        31.73.07                  Palmerah                 6   \n",
       "45        31.73.08                 Kembangan                 6   \n",
       "47        31.01.01    Kepulauan Seribu Utara                 3   \n",
       "48        31.01.02  Kepulauan Seribu Selatan                 3   \n",
       "\n",
       "                                     Daftar Kelurahan                Town  \n",
       "0    Cempaka Putih Barat Cempaka Putih Timur Rawasari     Central Jakarta  \n",
       "1   Cideng Duri Pulo Gambir Kebon Kelapa Petojo Se...     Central Jakarta  \n",
       "2          Galur Johar Baru Kampung Rawa Tanah Tinggi     Central Jakarta  \n",
       "3   Cempaka Baru Gunung Sahari Selatan Harapan Mul...     Central Jakarta  \n",
       "4    Cikini Gondangdia Kebon Sirih Menteng Pegangsaan     Central Jakarta  \n",
       "5   Gunung Sahari Utara Karang Anyar Kartini Mangg...     Central Jakarta  \n",
       "6          Bungur Kenari Kramat Kwitang Paseban Senen     Central Jakarta  \n",
       "7   Bendungan Hilir Gelora Kampung Bali Karet Teng...     Central Jakarta  \n",
       "9   Cilincing Kalibaru Marunda Rorotan Semper Bara...       North Jakarta  \n",
       "10  Kelapa Gading Barat Kelapa Gading Timur Pegang...       North Jakarta  \n",
       "11  Koja Lagoa Rawa Badak Selatan Rawa Badak Utara...       North Jakarta  \n",
       "12            Ancol Pademangan Barat Pademangan Timur       North Jakarta  \n",
       "13  Kamal Muara Kapuk Muara Pejagalan Penjaringan ...       North Jakarta  \n",
       "14  Kebon Bawang Papanggo Sungai Bambu Sunter Agun...       North Jakarta  \n",
       "16  Cakung Barat Cakung Timur Jatinegara Penggilin...        East Jakarta  \n",
       "17  Bambu Apus Ceger Cilangkap Cipayung Lubang Bua...        East Jakarta  \n",
       "18  Cibubur Ciracas Kelapa Dua Wetan Rambutan Susukan        East Jakarta  \n",
       "19  Duren Sawit Klender Malaka Jaya Malaka Sari Po...        East Jakarta  \n",
       "20  Bali Mester Bidara Cina Cipinang Besar Selatan...        East Jakarta  \n",
       "21  Balekambang Batu Ampar Cawang Cililitan Dukuh ...        East Jakarta  \n",
       "22  Cipinang Melayu Halim Perdana Kusuma Kebon Pal...        East Jakarta  \n",
       "23  Kayu Manis Kebon Manggis Pal Meriam Pisangan B...        East Jakarta  \n",
       "24             Baru Cijantung Gedong Kalisari Pekayon        East Jakarta  \n",
       "25  Cipinang Jati Jatinegara Kaum Kayu Putih Pisan...        East Jakarta  \n",
       "27  Cilandak Barat Cipete Selatan Gandaria Selatan...       South Jakarta  \n",
       "28  Ciganjur Cipedak Jagakarsa Lenteng Agung Sreng...       South Jakarta  \n",
       "29  Cipete Utara Gandaria Utara Gunung Kramat Pela...       South Jakarta  \n",
       "30  Cipulir Grogol Selatan Grogol Utara Kebayoran ...       South Jakarta  \n",
       "31  Bangka Kuningan Barat Mampang Prapatan Pela Ma...       South Jakarta  \n",
       "32  Cikoko Duren Tiga Kalibata Pancoran Pengadegan...       South Jakarta  \n",
       "33  Cilandak Timur Jati Padang Kebagusan Pasar Min...       South Jakarta  \n",
       "34  Bintaro Pesanggrahan Petukangan Selatan Petuka...       South Jakarta  \n",
       "35  Guntur Karet Kuningan Karet Semanggi Karet Kun...       South Jakarta  \n",
       "36  Bukit Duri Kebon Baru Manggarai Selatan Mangga...       South Jakarta  \n",
       "38  Cengkareng Barat Cengkareng Timur Duri Kosambi...  West Jakarta Barat  \n",
       "39  Grogol Jelambar Baru Jelambar Tanjung Duren Se...  West Jakarta Barat  \n",
       "40  Glodok Keagungan Krukut Mangga Besar Maphar Pi...  West Jakarta Barat  \n",
       "41  Angke Duri Selatan Duri Utara Jembatan Besi Je...  West Jakarta Barat  \n",
       "42  Duri Kepa Kebon Jeruk Kedoya Selatan Kedoya Ut...  West Jakarta Barat  \n",
       "43      Kalideres Kamal Pegadungan Semanan Tegal Alur  West Jakarta Barat  \n",
       "44  Jatipulo Kemanggisan Kota Bambu Selatan Kota B...  West Jakarta Barat  \n",
       "45  Joglo Kembangan Selatan Kembangan Utara Meruya...  West Jakarta Barat  \n",
       "47          Pulau Harapan Pulau Kelapa Pulau Panggang    Kepulauan Seribu  \n",
       "48          Pulau Pari Pulau Tidung Pulau Untung Jawa    Kepulauan Seribu  "
      ],
      "text/html": "<div>\n<style scoped>\n    .dataframe tbody tr th:only-of-type {\n        vertical-align: middle;\n    }\n\n    .dataframe tbody tr th {\n        vertical-align: top;\n    }\n\n    .dataframe thead th {\n        text-align: right;\n    }\n</style>\n<table border=\"1\" class=\"dataframe\">\n  <thead>\n    <tr style=\"text-align: right;\">\n      <th></th>\n      <th>Kode Kemendagri</th>\n      <th>Kecamatan</th>\n      <th>Jumlah Kelurahan</th>\n      <th>Daftar Kelurahan</th>\n      <th>Town</th>\n    </tr>\n  </thead>\n  <tbody>\n    <tr>\n      <th>0</th>\n      <td>31.71.05</td>\n      <td>Cempaka Putih</td>\n      <td>3</td>\n      <td>Cempaka Putih Barat Cempaka Putih Timur Rawasari</td>\n      <td>Central Jakarta</td>\n    </tr>\n    <tr>\n      <th>1</th>\n      <td>31.71.01</td>\n      <td>Gambir</td>\n      <td>6</td>\n      <td>Cideng Duri Pulo Gambir Kebon Kelapa Petojo Se...</td>\n      <td>Central Jakarta</td>\n    </tr>\n    <tr>\n      <th>2</th>\n      <td>31.71.08</td>\n      <td>Johar Baru</td>\n      <td>4</td>\n      <td>Galur Johar Baru Kampung Rawa Tanah Tinggi</td>\n      <td>Central Jakarta</td>\n    </tr>\n    <tr>\n      <th>3</th>\n      <td>31.71.03</td>\n      <td>Kemayoran</td>\n      <td>8</td>\n      <td>Cempaka Baru Gunung Sahari Selatan Harapan Mul...</td>\n      <td>Central Jakarta</td>\n    </tr>\n    <tr>\n      <th>4</th>\n      <td>31.71.06</td>\n      <td>Menteng</td>\n      <td>5</td>\n      <td>Cikini Gondangdia Kebon Sirih Menteng Pegangsaan</td>\n      <td>Central Jakarta</td>\n    </tr>\n    <tr>\n      <th>5</th>\n      <td>31.71.02</td>\n      <td>Sawah Besar</td>\n      <td>5</td>\n      <td>Gunung Sahari Utara Karang Anyar Kartini Mangg...</td>\n      <td>Central Jakarta</td>\n    </tr>\n    <tr>\n      <th>6</th>\n      <td>31.71.04</td>\n      <td>Senen</td>\n      <td>6</td>\n      <td>Bungur Kenari Kramat Kwitang Paseban Senen</td>\n      <td>Central Jakarta</td>\n    </tr>\n    <tr>\n      <th>7</th>\n      <td>31.71.07</td>\n      <td>Tanah Abang</td>\n      <td>7</td>\n      <td>Bendungan Hilir Gelora Kampung Bali Karet Teng...</td>\n      <td>Central Jakarta</td>\n    </tr>\n    <tr>\n      <th>9</th>\n      <td>31.72.04</td>\n      <td>Cilincing</td>\n      <td>7</td>\n      <td>Cilincing Kalibaru Marunda Rorotan Semper Bara...</td>\n      <td>North Jakarta</td>\n    </tr>\n    <tr>\n      <th>10</th>\n      <td>31.72.06</td>\n      <td>Kelapa Gading</td>\n      <td>3</td>\n      <td>Kelapa Gading Barat Kelapa Gading Timur Pegang...</td>\n      <td>North Jakarta</td>\n    </tr>\n    <tr>\n      <th>11</th>\n      <td>31.72.03</td>\n      <td>Koja</td>\n      <td>6</td>\n      <td>Koja Lagoa Rawa Badak Selatan Rawa Badak Utara...</td>\n      <td>North Jakarta</td>\n    </tr>\n    <tr>\n      <th>12</th>\n      <td>31.72.05</td>\n      <td>Pademangan</td>\n      <td>3</td>\n      <td>Ancol Pademangan Barat Pademangan Timur</td>\n      <td>North Jakarta</td>\n    </tr>\n    <tr>\n      <th>13</th>\n      <td>31.72.01</td>\n      <td>Penjaringan</td>\n      <td>5</td>\n      <td>Kamal Muara Kapuk Muara Pejagalan Penjaringan ...</td>\n      <td>North Jakarta</td>\n    </tr>\n    <tr>\n      <th>14</th>\n      <td>31.72.02</td>\n      <td>Tanjung Priok</td>\n      <td>7</td>\n      <td>Kebon Bawang Papanggo Sungai Bambu Sunter Agun...</td>\n      <td>North Jakarta</td>\n    </tr>\n    <tr>\n      <th>16</th>\n      <td>31.75.06</td>\n      <td>Cakung</td>\n      <td>7</td>\n      <td>Cakung Barat Cakung Timur Jatinegara Penggilin...</td>\n      <td>East Jakarta</td>\n    </tr>\n    <tr>\n      <th>17</th>\n      <td>31.75.10</td>\n      <td>Cipayung</td>\n      <td>8</td>\n      <td>Bambu Apus Ceger Cilangkap Cipayung Lubang Bua...</td>\n      <td>East Jakarta</td>\n    </tr>\n    <tr>\n      <th>18</th>\n      <td>31.75.09</td>\n      <td>Ciracas</td>\n      <td>5</td>\n      <td>Cibubur Ciracas Kelapa Dua Wetan Rambutan Susukan</td>\n      <td>East Jakarta</td>\n    </tr>\n    <tr>\n      <th>19</th>\n      <td>31.75.07</td>\n      <td>Duren Sawit</td>\n      <td>7</td>\n      <td>Duren Sawit Klender Malaka Jaya Malaka Sari Po...</td>\n      <td>East Jakarta</td>\n    </tr>\n    <tr>\n      <th>20</th>\n      <td>31.75.03</td>\n      <td>Jatinegara</td>\n      <td>8</td>\n      <td>Bali Mester Bidara Cina Cipinang Besar Selatan...</td>\n      <td>East Jakarta</td>\n    </tr>\n    <tr>\n      <th>21</th>\n      <td>31.75.04</td>\n      <td>Kramat Jati</td>\n      <td>7</td>\n      <td>Balekambang Batu Ampar Cawang Cililitan Dukuh ...</td>\n      <td>East Jakarta</td>\n    </tr>\n    <tr>\n      <th>22</th>\n      <td>31.75.08</td>\n      <td>Makasar</td>\n      <td>5</td>\n      <td>Cipinang Melayu Halim Perdana Kusuma Kebon Pal...</td>\n      <td>East Jakarta</td>\n    </tr>\n    <tr>\n      <th>23</th>\n      <td>31.75.01</td>\n      <td>Matraman</td>\n      <td>6</td>\n      <td>Kayu Manis Kebon Manggis Pal Meriam Pisangan B...</td>\n      <td>East Jakarta</td>\n    </tr>\n    <tr>\n      <th>24</th>\n      <td>31.75.05</td>\n      <td>Pasar Rebo</td>\n      <td>5</td>\n      <td>Baru Cijantung Gedong Kalisari Pekayon</td>\n      <td>East Jakarta</td>\n    </tr>\n    <tr>\n      <th>25</th>\n      <td>31.75.02</td>\n      <td>Pulo Gadung</td>\n      <td>7</td>\n      <td>Cipinang Jati Jatinegara Kaum Kayu Putih Pisan...</td>\n      <td>East Jakarta</td>\n    </tr>\n    <tr>\n      <th>27</th>\n      <td>31.74.06</td>\n      <td>Cilandak</td>\n      <td>5</td>\n      <td>Cilandak Barat Cipete Selatan Gandaria Selatan...</td>\n      <td>South Jakarta</td>\n    </tr>\n    <tr>\n      <th>28</th>\n      <td>31.74.09</td>\n      <td>Jagakarsa</td>\n      <td>6</td>\n      <td>Ciganjur Cipedak Jagakarsa Lenteng Agung Sreng...</td>\n      <td>South Jakarta</td>\n    </tr>\n    <tr>\n      <th>29</th>\n      <td>31.74.07</td>\n      <td>Kebayoran Baru</td>\n      <td>10</td>\n      <td>Cipete Utara Gandaria Utara Gunung Kramat Pela...</td>\n      <td>South Jakarta</td>\n    </tr>\n    <tr>\n      <th>30</th>\n      <td>31.74.05</td>\n      <td>Kebayoran Lama</td>\n      <td>6</td>\n      <td>Cipulir Grogol Selatan Grogol Utara Kebayoran ...</td>\n      <td>South Jakarta</td>\n    </tr>\n    <tr>\n      <th>31</th>\n      <td>31.74.03</td>\n      <td>Mampang Prapatan</td>\n      <td>5</td>\n      <td>Bangka Kuningan Barat Mampang Prapatan Pela Ma...</td>\n      <td>South Jakarta</td>\n    </tr>\n    <tr>\n      <th>32</th>\n      <td>31.74.08</td>\n      <td>Pancoran</td>\n      <td>6</td>\n      <td>Cikoko Duren Tiga Kalibata Pancoran Pengadegan...</td>\n      <td>South Jakarta</td>\n    </tr>\n    <tr>\n      <th>33</th>\n      <td>31.74.04</td>\n      <td>Pasar Minggu</td>\n      <td>7</td>\n      <td>Cilandak Timur Jati Padang Kebagusan Pasar Min...</td>\n      <td>South Jakarta</td>\n    </tr>\n    <tr>\n      <th>34</th>\n      <td>31.74.10</td>\n      <td>Pesanggrahan</td>\n      <td>5</td>\n      <td>Bintaro Pesanggrahan Petukangan Selatan Petuka...</td>\n      <td>South Jakarta</td>\n    </tr>\n    <tr>\n      <th>35</th>\n      <td>31.74.02</td>\n      <td>Setiabudi</td>\n      <td>8</td>\n      <td>Guntur Karet Kuningan Karet Semanggi Karet Kun...</td>\n      <td>South Jakarta</td>\n    </tr>\n    <tr>\n      <th>36</th>\n      <td>31.74.01</td>\n      <td>Tebet</td>\n      <td>7</td>\n      <td>Bukit Duri Kebon Baru Manggarai Selatan Mangga...</td>\n      <td>South Jakarta</td>\n    </tr>\n    <tr>\n      <th>38</th>\n      <td>31.73.01</td>\n      <td>Cengkareng</td>\n      <td>6</td>\n      <td>Cengkareng Barat Cengkareng Timur Duri Kosambi...</td>\n      <td>West Jakarta Barat</td>\n    </tr>\n    <tr>\n      <th>39</th>\n      <td>31.73.02</td>\n      <td>Grogol Petamburan</td>\n      <td>7</td>\n      <td>Grogol Jelambar Baru Jelambar Tanjung Duren Se...</td>\n      <td>West Jakarta Barat</td>\n    </tr>\n    <tr>\n      <th>40</th>\n      <td>31.73.03</td>\n      <td>Taman Sari</td>\n      <td>8</td>\n      <td>Glodok Keagungan Krukut Mangga Besar Maphar Pi...</td>\n      <td>West Jakarta Barat</td>\n    </tr>\n    <tr>\n      <th>41</th>\n      <td>31.73.04</td>\n      <td>Tambora</td>\n      <td>11</td>\n      <td>Angke Duri Selatan Duri Utara Jembatan Besi Je...</td>\n      <td>West Jakarta Barat</td>\n    </tr>\n    <tr>\n      <th>42</th>\n      <td>31.73.05</td>\n      <td>Kebon Jeruk</td>\n      <td>7</td>\n      <td>Duri Kepa Kebon Jeruk Kedoya Selatan Kedoya Ut...</td>\n      <td>West Jakarta Barat</td>\n    </tr>\n    <tr>\n      <th>43</th>\n      <td>31.73.06</td>\n      <td>Kalideres</td>\n      <td>5</td>\n      <td>Kalideres Kamal Pegadungan Semanan Tegal Alur</td>\n      <td>West Jakarta Barat</td>\n    </tr>\n    <tr>\n      <th>44</th>\n      <td>31.73.07</td>\n      <td>Palmerah</td>\n      <td>6</td>\n      <td>Jatipulo Kemanggisan Kota Bambu Selatan Kota B...</td>\n      <td>West Jakarta Barat</td>\n    </tr>\n    <tr>\n      <th>45</th>\n      <td>31.73.08</td>\n      <td>Kembangan</td>\n      <td>6</td>\n      <td>Joglo Kembangan Selatan Kembangan Utara Meruya...</td>\n      <td>West Jakarta Barat</td>\n    </tr>\n    <tr>\n      <th>47</th>\n      <td>31.01.01</td>\n      <td>Kepulauan Seribu Utara</td>\n      <td>3</td>\n      <td>Pulau Harapan Pulau Kelapa Pulau Panggang</td>\n      <td>Kepulauan Seribu</td>\n    </tr>\n    <tr>\n      <th>48</th>\n      <td>31.01.02</td>\n      <td>Kepulauan Seribu Selatan</td>\n      <td>3</td>\n      <td>Pulau Pari Pulau Tidung Pulau Untung Jawa</td>\n      <td>Kepulauan Seribu</td>\n    </tr>\n  </tbody>\n</table>\n</div>"
     },
     "metadata": {},
     "execution_count": 8
    }
   ],
   "source": [
    "jakarta_df"
   ]
  },
  {
   "source": [
    "## Feature Selection\n",
    "\n",
    "In this part we will drop columns/features that we don't need and rename some of the columns with english word in order to make it easy for further analysis"
   ],
   "cell_type": "markdown",
   "metadata": {}
  },
  {
   "cell_type": "code",
   "execution_count": 9,
   "metadata": {},
   "outputs": [
    {
     "output_type": "execute_result",
     "data": {
      "text/plain": [
       "       Kecamatan             Town\n",
       "0  Cempaka Putih  Central Jakarta\n",
       "1         Gambir  Central Jakarta\n",
       "2     Johar Baru  Central Jakarta\n",
       "3      Kemayoran  Central Jakarta\n",
       "4        Menteng  Central Jakarta"
      ],
      "text/html": "<div>\n<style scoped>\n    .dataframe tbody tr th:only-of-type {\n        vertical-align: middle;\n    }\n\n    .dataframe tbody tr th {\n        vertical-align: top;\n    }\n\n    .dataframe thead th {\n        text-align: right;\n    }\n</style>\n<table border=\"1\" class=\"dataframe\">\n  <thead>\n    <tr style=\"text-align: right;\">\n      <th></th>\n      <th>Kecamatan</th>\n      <th>Town</th>\n    </tr>\n  </thead>\n  <tbody>\n    <tr>\n      <th>0</th>\n      <td>Cempaka Putih</td>\n      <td>Central Jakarta</td>\n    </tr>\n    <tr>\n      <th>1</th>\n      <td>Gambir</td>\n      <td>Central Jakarta</td>\n    </tr>\n    <tr>\n      <th>2</th>\n      <td>Johar Baru</td>\n      <td>Central Jakarta</td>\n    </tr>\n    <tr>\n      <th>3</th>\n      <td>Kemayoran</td>\n      <td>Central Jakarta</td>\n    </tr>\n    <tr>\n      <th>4</th>\n      <td>Menteng</td>\n      <td>Central Jakarta</td>\n    </tr>\n  </tbody>\n</table>\n</div>"
     },
     "metadata": {},
     "execution_count": 9
    }
   ],
   "source": [
    "# Drop columns 'Kode Kemendagri', 'Jumlah Kelurahan', and 'Daftar Kelurahan'\n",
    "jakarta_df.drop(columns=['Kode Kemendagri', 'Jumlah Kelurahan', 'Daftar Kelurahan'], inplace=True)\n",
    "jakarta_df.head()"
   ]
  },
  {
   "cell_type": "code",
   "execution_count": 10,
   "metadata": {},
   "outputs": [
    {
     "output_type": "execute_result",
     "data": {
      "text/plain": [
       "    Neighborhood             Town\n",
       "0  Cempaka Putih  Central Jakarta\n",
       "1         Gambir  Central Jakarta\n",
       "2     Johar Baru  Central Jakarta\n",
       "3      Kemayoran  Central Jakarta\n",
       "4        Menteng  Central Jakarta"
      ],
      "text/html": "<div>\n<style scoped>\n    .dataframe tbody tr th:only-of-type {\n        vertical-align: middle;\n    }\n\n    .dataframe tbody tr th {\n        vertical-align: top;\n    }\n\n    .dataframe thead th {\n        text-align: right;\n    }\n</style>\n<table border=\"1\" class=\"dataframe\">\n  <thead>\n    <tr style=\"text-align: right;\">\n      <th></th>\n      <th>Neighborhood</th>\n      <th>Town</th>\n    </tr>\n  </thead>\n  <tbody>\n    <tr>\n      <th>0</th>\n      <td>Cempaka Putih</td>\n      <td>Central Jakarta</td>\n    </tr>\n    <tr>\n      <th>1</th>\n      <td>Gambir</td>\n      <td>Central Jakarta</td>\n    </tr>\n    <tr>\n      <th>2</th>\n      <td>Johar Baru</td>\n      <td>Central Jakarta</td>\n    </tr>\n    <tr>\n      <th>3</th>\n      <td>Kemayoran</td>\n      <td>Central Jakarta</td>\n    </tr>\n    <tr>\n      <th>4</th>\n      <td>Menteng</td>\n      <td>Central Jakarta</td>\n    </tr>\n  </tbody>\n</table>\n</div>"
     },
     "metadata": {},
     "execution_count": 10
    }
   ],
   "source": [
    "# Rename column 'Kecamatan' into 'Neighborhood'\n",
    "jakarta_df.rename(columns={'Kecamatan':'Neighborhood'}, inplace=True)\n",
    "jakarta_df.head()"
   ]
  },
  {
   "source": [
    "Here are information about jakarta_df"
   ],
   "cell_type": "markdown",
   "metadata": {}
  },
  {
   "cell_type": "code",
   "execution_count": 11,
   "metadata": {},
   "outputs": [
    {
     "output_type": "stream",
     "name": "stdout",
     "text": [
      "<class 'pandas.core.frame.DataFrame'>\nInt64Index: 44 entries, 0 to 48\nData columns (total 2 columns):\n #   Column        Non-Null Count  Dtype \n---  ------        --------------  ----- \n 0   Neighborhood  44 non-null     object\n 1   Town          44 non-null     object\ndtypes: object(2)\nmemory usage: 1.0+ KB\n"
     ]
    }
   ],
   "source": [
    "jakarta_df.info()"
   ]
  },
  {
   "cell_type": "code",
   "execution_count": 12,
   "metadata": {},
   "outputs": [
    {
     "output_type": "execute_result",
     "data": {
      "text/plain": [
       "       Neighborhood          Town\n",
       "count            44            44\n",
       "unique           44             6\n",
       "top           Tebet  East Jakarta\n",
       "freq              1            10"
      ],
      "text/html": "<div>\n<style scoped>\n    .dataframe tbody tr th:only-of-type {\n        vertical-align: middle;\n    }\n\n    .dataframe tbody tr th {\n        vertical-align: top;\n    }\n\n    .dataframe thead th {\n        text-align: right;\n    }\n</style>\n<table border=\"1\" class=\"dataframe\">\n  <thead>\n    <tr style=\"text-align: right;\">\n      <th></th>\n      <th>Neighborhood</th>\n      <th>Town</th>\n    </tr>\n  </thead>\n  <tbody>\n    <tr>\n      <th>count</th>\n      <td>44</td>\n      <td>44</td>\n    </tr>\n    <tr>\n      <th>unique</th>\n      <td>44</td>\n      <td>6</td>\n    </tr>\n    <tr>\n      <th>top</th>\n      <td>Tebet</td>\n      <td>East Jakarta</td>\n    </tr>\n    <tr>\n      <th>freq</th>\n      <td>1</td>\n      <td>10</td>\n    </tr>\n  </tbody>\n</table>\n</div>"
     },
     "metadata": {},
     "execution_count": 12
    }
   ],
   "source": [
    "jakarta_df.describe()"
   ]
  },
  {
   "source": [
    "## Explore Surabaya\n",
    "\n",
    "### In this part i will do data wrangling from wikipedia page for providing neighborhood data and information in Surabaya\n",
    "URL : https://id.wikipedia.org/wiki/Daftar_kecamatan_dan_kelurahan_di_Kota_Surabaya\n",
    "\n",
    "The approach to get data is pretty much the same from what i did with Jakarta Neighborhood"
   ],
   "cell_type": "markdown",
   "metadata": {}
  },
  {
   "cell_type": "code",
   "execution_count": 13,
   "metadata": {},
   "outputs": [],
   "source": [
    "# Read html\n",
    "surabaya_url = 'https://id.wikipedia.org/wiki/Daftar_kecamatan_dan_kelurahan_di_Kota_Surabaya'\n",
    "surabaya_wiki = requests.get(surabaya_url)\n",
    "\n",
    "# Read data\n",
    "surabaya_data = pd.read_html(surabaya_wiki.text)\n",
    "\n",
    "# Get first data from wiki page and assign it to pandas dataframe\n",
    "surabaya_df = surabaya_data[0]\n",
    "\n",
    "# Add column town\n",
    "surabaya_df['Town'] = 'Surabaya'\n",
    "\n",
    "# Remove unnecesary row\n",
    "surabaya_df.dropna(inplace=True)"
   ]
  },
  {
   "source": [
    "## Feature Selection"
   ],
   "cell_type": "markdown",
   "metadata": {}
  },
  {
   "cell_type": "code",
   "execution_count": 14,
   "metadata": {},
   "outputs": [
    {
     "output_type": "execute_result",
     "data": {
      "text/plain": [
       "     Kecamatan      Town\n",
       "0     Asemrowo  Surabaya\n",
       "1       Benowo  Surabaya\n",
       "2      Bubutan  Surabaya\n",
       "3        Bulak  Surabaya\n",
       "4  Dukuh Pakis  Surabaya"
      ],
      "text/html": "<div>\n<style scoped>\n    .dataframe tbody tr th:only-of-type {\n        vertical-align: middle;\n    }\n\n    .dataframe tbody tr th {\n        vertical-align: top;\n    }\n\n    .dataframe thead th {\n        text-align: right;\n    }\n</style>\n<table border=\"1\" class=\"dataframe\">\n  <thead>\n    <tr style=\"text-align: right;\">\n      <th></th>\n      <th>Kecamatan</th>\n      <th>Town</th>\n    </tr>\n  </thead>\n  <tbody>\n    <tr>\n      <th>0</th>\n      <td>Asemrowo</td>\n      <td>Surabaya</td>\n    </tr>\n    <tr>\n      <th>1</th>\n      <td>Benowo</td>\n      <td>Surabaya</td>\n    </tr>\n    <tr>\n      <th>2</th>\n      <td>Bubutan</td>\n      <td>Surabaya</td>\n    </tr>\n    <tr>\n      <th>3</th>\n      <td>Bulak</td>\n      <td>Surabaya</td>\n    </tr>\n    <tr>\n      <th>4</th>\n      <td>Dukuh Pakis</td>\n      <td>Surabaya</td>\n    </tr>\n  </tbody>\n</table>\n</div>"
     },
     "metadata": {},
     "execution_count": 14
    }
   ],
   "source": [
    "# Drop columns 'Kode Kemendagri', 'Jumlah Kelurahan', and 'Daftar Kelurahan'\n",
    "surabaya_df.drop(columns=['Kode Kemendagri', 'Jumlah Kelurahan', 'Daftar Kelurahan'], inplace=True)\n",
    "surabaya_df.head()"
   ]
  },
  {
   "cell_type": "code",
   "execution_count": 15,
   "metadata": {},
   "outputs": [
    {
     "output_type": "execute_result",
     "data": {
      "text/plain": [
       "  Neighborhood      Town\n",
       "0     Asemrowo  Surabaya\n",
       "1       Benowo  Surabaya\n",
       "2      Bubutan  Surabaya\n",
       "3        Bulak  Surabaya\n",
       "4  Dukuh Pakis  Surabaya"
      ],
      "text/html": "<div>\n<style scoped>\n    .dataframe tbody tr th:only-of-type {\n        vertical-align: middle;\n    }\n\n    .dataframe tbody tr th {\n        vertical-align: top;\n    }\n\n    .dataframe thead th {\n        text-align: right;\n    }\n</style>\n<table border=\"1\" class=\"dataframe\">\n  <thead>\n    <tr style=\"text-align: right;\">\n      <th></th>\n      <th>Neighborhood</th>\n      <th>Town</th>\n    </tr>\n  </thead>\n  <tbody>\n    <tr>\n      <th>0</th>\n      <td>Asemrowo</td>\n      <td>Surabaya</td>\n    </tr>\n    <tr>\n      <th>1</th>\n      <td>Benowo</td>\n      <td>Surabaya</td>\n    </tr>\n    <tr>\n      <th>2</th>\n      <td>Bubutan</td>\n      <td>Surabaya</td>\n    </tr>\n    <tr>\n      <th>3</th>\n      <td>Bulak</td>\n      <td>Surabaya</td>\n    </tr>\n    <tr>\n      <th>4</th>\n      <td>Dukuh Pakis</td>\n      <td>Surabaya</td>\n    </tr>\n  </tbody>\n</table>\n</div>"
     },
     "metadata": {},
     "execution_count": 15
    }
   ],
   "source": [
    "# Rename column 'Kecamatan' into 'Neighborhood'\n",
    "surabaya_df.rename(columns={'Kecamatan':'Neighborhood'}, inplace=True)\n",
    "surabaya_df.head()"
   ]
  },
  {
   "source": [
    "Here are information about surabaya_df"
   ],
   "cell_type": "markdown",
   "metadata": {}
  },
  {
   "cell_type": "code",
   "execution_count": 16,
   "metadata": {},
   "outputs": [
    {
     "output_type": "stream",
     "name": "stdout",
     "text": [
      "<class 'pandas.core.frame.DataFrame'>\nInt64Index: 31 entries, 0 to 30\nData columns (total 2 columns):\n #   Column        Non-Null Count  Dtype \n---  ------        --------------  ----- \n 0   Neighborhood  31 non-null     object\n 1   Town          31 non-null     object\ndtypes: object(2)\nmemory usage: 744.0+ bytes\n"
     ]
    }
   ],
   "source": [
    "surabaya_df.info()"
   ]
  },
  {
   "source": [
    "## Nominatim OpenStreetMap API\n",
    "\n",
    "To get information about latitude and longitude for each neighborhood in Jakarta and Surabaya we can use Nominatim from **geopy.geocoders.Nominatim** package to provide coordinates passing neighborhood keyword as an argument.\n",
    "\n",
    "First we create Nominatim object"
   ],
   "cell_type": "markdown",
   "metadata": {}
  },
  {
   "cell_type": "code",
   "execution_count": 17,
   "metadata": {},
   "outputs": [],
   "source": [
    "# Create Nominatim object as 'geolocator'\n",
    "geolocator = Nominatim(user_agent='explorer')"
   ]
  },
  {
   "source": [
    "Now we create the function in order to apply it to the both dataframe"
   ],
   "cell_type": "markdown",
   "metadata": {}
  },
  {
   "cell_type": "code",
   "execution_count": 18,
   "metadata": {},
   "outputs": [],
   "source": [
    "# All of these function will provide information about latitude and longitude for neighborhood\n",
    "def get_latitude_jakarta(neighborhood):\n",
    "    location = geolocator.geocode(f'{neighborhood}, Jakarta, Indonesia')\n",
    "    latitude = location.latitude\n",
    "    return latitude\n",
    "\n",
    "def get_longitude_jakarta(neighborhood):\n",
    "    location = geolocator.geocode(f'{neighborhood}, Jakarta, Indonesia')\n",
    "    longitude = location.longitude\n",
    "    return longitude\n",
    "\n",
    "def get_latitude_surabaya(neighborhood):\n",
    "    location = geolocator.geocode(f'{neighborhood}, Surabaya, Indonesia')\n",
    "    latitude = location.latitude\n",
    "    return latitude\n",
    "\n",
    "def get_longitude_surabaya(neighborhood):\n",
    "    location = geolocator.geocode(f'{neighborhood}, Surabaya, Indonesia')\n",
    "    longitude = location.longitude\n",
    "    return longitude"
   ]
  },
  {
   "source": [
    "Find the information of latitude and longitude for neighborhood in Jakarta"
   ],
   "cell_type": "markdown",
   "metadata": {}
  },
  {
   "cell_type": "code",
   "execution_count": 19,
   "metadata": {},
   "outputs": [
    {
     "output_type": "execute_result",
     "data": {
      "text/plain": [
       "    Neighborhood             Town  Latitude   Longitude\n",
       "0  Cempaka Putih  Central Jakarta -6.181214  106.868548\n",
       "1         Gambir  Central Jakarta -6.176684  106.830653\n",
       "2     Johar Baru  Central Jakarta -6.183125  106.855332\n",
       "3      Kemayoran  Central Jakarta -6.162546  106.856890\n",
       "4        Menteng  Central Jakarta -6.195026  106.832224"
      ],
      "text/html": "<div>\n<style scoped>\n    .dataframe tbody tr th:only-of-type {\n        vertical-align: middle;\n    }\n\n    .dataframe tbody tr th {\n        vertical-align: top;\n    }\n\n    .dataframe thead th {\n        text-align: right;\n    }\n</style>\n<table border=\"1\" class=\"dataframe\">\n  <thead>\n    <tr style=\"text-align: right;\">\n      <th></th>\n      <th>Neighborhood</th>\n      <th>Town</th>\n      <th>Latitude</th>\n      <th>Longitude</th>\n    </tr>\n  </thead>\n  <tbody>\n    <tr>\n      <th>0</th>\n      <td>Cempaka Putih</td>\n      <td>Central Jakarta</td>\n      <td>-6.181214</td>\n      <td>106.868548</td>\n    </tr>\n    <tr>\n      <th>1</th>\n      <td>Gambir</td>\n      <td>Central Jakarta</td>\n      <td>-6.176684</td>\n      <td>106.830653</td>\n    </tr>\n    <tr>\n      <th>2</th>\n      <td>Johar Baru</td>\n      <td>Central Jakarta</td>\n      <td>-6.183125</td>\n      <td>106.855332</td>\n    </tr>\n    <tr>\n      <th>3</th>\n      <td>Kemayoran</td>\n      <td>Central Jakarta</td>\n      <td>-6.162546</td>\n      <td>106.856890</td>\n    </tr>\n    <tr>\n      <th>4</th>\n      <td>Menteng</td>\n      <td>Central Jakarta</td>\n      <td>-6.195026</td>\n      <td>106.832224</td>\n    </tr>\n  </tbody>\n</table>\n</div>"
     },
     "metadata": {},
     "execution_count": 19
    }
   ],
   "source": [
    "jakarta_df['Latitude'] = jakarta_df['Neighborhood'].apply(get_latitude_jakarta)\n",
    "jakarta_df['Longitude'] = jakarta_df['Neighborhood'].apply(get_longitude_jakarta)\n",
    "jakarta_df.head()"
   ]
  },
  {
   "source": [
    "Find the information of latitude and longitude for neighborhood in Surabaya"
   ],
   "cell_type": "markdown",
   "metadata": {}
  },
  {
   "cell_type": "code",
   "execution_count": 20,
   "metadata": {},
   "outputs": [
    {
     "output_type": "execute_result",
     "data": {
      "text/plain": [
       "  Neighborhood      Town  Latitude   Longitude\n",
       "0     Asemrowo  Surabaya -7.241740  112.688802\n",
       "1       Benowo  Surabaya -7.229055  112.649775\n",
       "2      Bubutan  Surabaya -7.252671  112.730062\n",
       "3        Bulak  Surabaya -7.228354  112.787631\n",
       "4  Dukuh Pakis  Surabaya -7.293024  112.695125"
      ],
      "text/html": "<div>\n<style scoped>\n    .dataframe tbody tr th:only-of-type {\n        vertical-align: middle;\n    }\n\n    .dataframe tbody tr th {\n        vertical-align: top;\n    }\n\n    .dataframe thead th {\n        text-align: right;\n    }\n</style>\n<table border=\"1\" class=\"dataframe\">\n  <thead>\n    <tr style=\"text-align: right;\">\n      <th></th>\n      <th>Neighborhood</th>\n      <th>Town</th>\n      <th>Latitude</th>\n      <th>Longitude</th>\n    </tr>\n  </thead>\n  <tbody>\n    <tr>\n      <th>0</th>\n      <td>Asemrowo</td>\n      <td>Surabaya</td>\n      <td>-7.241740</td>\n      <td>112.688802</td>\n    </tr>\n    <tr>\n      <th>1</th>\n      <td>Benowo</td>\n      <td>Surabaya</td>\n      <td>-7.229055</td>\n      <td>112.649775</td>\n    </tr>\n    <tr>\n      <th>2</th>\n      <td>Bubutan</td>\n      <td>Surabaya</td>\n      <td>-7.252671</td>\n      <td>112.730062</td>\n    </tr>\n    <tr>\n      <th>3</th>\n      <td>Bulak</td>\n      <td>Surabaya</td>\n      <td>-7.228354</td>\n      <td>112.787631</td>\n    </tr>\n    <tr>\n      <th>4</th>\n      <td>Dukuh Pakis</td>\n      <td>Surabaya</td>\n      <td>-7.293024</td>\n      <td>112.695125</td>\n    </tr>\n  </tbody>\n</table>\n</div>"
     },
     "metadata": {},
     "execution_count": 20
    }
   ],
   "source": [
    "surabaya_df['Latitude'] = surabaya_df['Neighborhood'].apply(get_latitude_surabaya)\n",
    "surabaya_df['Longitude'] = surabaya_df['Neighborhood'].apply(get_longitude_surabaya)\n",
    "surabaya_df.head()"
   ]
  },
  {
   "source": [
    "#### Saving dataframe as csv for further use"
   ],
   "cell_type": "markdown",
   "metadata": {}
  },
  {
   "cell_type": "code",
   "execution_count": 21,
   "metadata": {},
   "outputs": [],
   "source": [
    "jakarta_df.to_csv('data/jakarta_neighborhood.csv')\n",
    "surabaya_df.to_csv('data/surabaya_neighborhood.csv')"
   ]
  },
  {
   "source": [
    "## 4.2 Map Visualize\n",
    "\n",
    "Visualizing map using Folium API with OpenStreetMap view with information of neighborhood from both dataframes"
   ],
   "cell_type": "markdown",
   "metadata": {}
  },
  {
   "source": [
    "### Jakarta Neighborhood Map View\n",
    "\n",
    "get coordinates for Jakarta"
   ],
   "cell_type": "markdown",
   "metadata": {}
  },
  {
   "cell_type": "code",
   "execution_count": 22,
   "metadata": {},
   "outputs": [
    {
     "output_type": "stream",
     "name": "stdout",
     "text": [
      "Coordinates of Jakarta are -6.1753942, 106.827183\n"
     ]
    }
   ],
   "source": [
    "address = 'Jakarta'\n",
    "\n",
    "location = geolocator.geocode(address)\n",
    "jakarta_latitude = location.latitude\n",
    "jakarta_longitude = location.longitude\n",
    "print(f'Coordinates of Jakarta are {jakarta_latitude}, {jakarta_longitude}')"
   ]
  },
  {
   "source": [
    "### Folium OpenStreetMap of Jakarta Neighborhood"
   ],
   "cell_type": "markdown",
   "metadata": {}
  },
  {
   "cell_type": "code",
   "execution_count": 23,
   "metadata": {},
   "outputs": [
    {
     "output_type": "execute_result",
     "data": {
      "text/plain": [
       "<folium.folium.Map at 0x15be496a250>"
      ],
      "text/html": "<div style=\"width:100%;\"><div style=\"position:relative;width:100%;height:0;padding-bottom:60%;\"><span style=\"color:#565656\">Make this Notebook Trusted to load map: File -> Trust Notebook</span><iframe src=\"about:blank\" style=\"position:absolute;width:100%;height:100%;left:0;top:0;border:none !important;\" data-html=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 onload=\"this.contentDocument.open();this.contentDocument.write(atob(this.getAttribute('data-html')));this.contentDocument.close();\" allowfullscreen webkitallowfullscreen mozallowfullscreen></iframe></div></div>"
     },
     "metadata": {},
     "execution_count": 23
    }
   ],
   "source": [
    "jakarta_map = folium.Map(location=[jakarta_latitude, jakarta_longitude], zoom_start=11)\n",
    "\n",
    "for latitude, longitude, borough, neighborhood in zip(jakarta_df['Latitude'], jakarta_df['Longitude'], jakarta_df['Town'], jakarta_df['Neighborhood']):\n",
    "    label = '{}, {}'.format(neighborhood, borough)\n",
    "    label = folium.Popup(label, parse_html=True)\n",
    "    folium.CircleMarker(\n",
    "        [latitude, longitude],\n",
    "        radius=5,\n",
    "        popup=label,\n",
    "        color='red',\n",
    "        fill=True\n",
    "        ).add_to(jakarta_map)\n",
    "    \n",
    "jakarta_map"
   ]
  },
  {
   "source": [
    "### Surabaya Neighborhood Map View\n",
    "\n",
    "get coordinates for Surabaya"
   ],
   "cell_type": "markdown",
   "metadata": {}
  },
  {
   "cell_type": "code",
   "execution_count": 24,
   "metadata": {},
   "outputs": [
    {
     "output_type": "stream",
     "name": "stdout",
     "text": [
      "Coordinates of Surabaya are -7.2459717, 112.7378266\n"
     ]
    }
   ],
   "source": [
    "address = 'Surabaya'\n",
    "\n",
    "location = geolocator.geocode(address)\n",
    "surabaya_latitude = location.latitude\n",
    "surabaya_longitude = location.longitude\n",
    "print(f'Coordinates of Surabaya are {surabaya_latitude}, {surabaya_longitude}')"
   ]
  },
  {
   "source": [
    "### Folium OpenStreetMap of Jakarta Neighborhood"
   ],
   "cell_type": "markdown",
   "metadata": {}
  },
  {
   "cell_type": "code",
   "execution_count": 25,
   "metadata": {},
   "outputs": [
    {
     "output_type": "execute_result",
     "data": {
      "text/plain": [
       "<folium.folium.Map at 0x15be49fce20>"
      ],
      "text/html": "<div style=\"width:100%;\"><div style=\"position:relative;width:100%;height:0;padding-bottom:60%;\"><span style=\"color:#565656\">Make this Notebook Trusted to load map: File -> Trust Notebook</span><iframe src=\"about:blank\" style=\"position:absolute;width:100%;height:100%;left:0;top:0;border:none !important;\" data-html=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 onload=\"this.contentDocument.open();this.contentDocument.write(atob(this.getAttribute('data-html')));this.contentDocument.close();\" allowfullscreen webkitallowfullscreen mozallowfullscreen></iframe></div></div>"
     },
     "metadata": {},
     "execution_count": 25
    }
   ],
   "source": [
    "surabaya_map = folium.Map(location=[surabaya_latitude, surabaya_longitude], zoom_start=11)\n",
    "\n",
    "for latitude, longitude, borough, neighborhood in zip(surabaya_df['Latitude'], surabaya_df['Longitude'], surabaya_df['Town'], surabaya_df['Neighborhood']):\n",
    "    label = '{}, {}'.format(neighborhood, borough)\n",
    "    label = folium.Popup(label, parse_html=True)\n",
    "    folium.CircleMarker(\n",
    "        [latitude, longitude],\n",
    "        radius=5,\n",
    "        popup=label,\n",
    "        color='blue',\n",
    "        fill=True\n",
    "        ).add_to(surabaya_map)\n",
    "    \n",
    "surabaya_map"
   ]
  },
  {
   "source": [
    "## 4.3 Foursquare API\n",
    "\n",
    "Defining Foursquare API Credentials and Version"
   ],
   "cell_type": "markdown",
   "metadata": {}
  },
  {
   "cell_type": "code",
   "execution_count": 26,
   "metadata": {},
   "outputs": [
    {
     "output_type": "stream",
     "name": "stdout",
     "text": [
      "Your credentails:\nCLIENT_ID: L00XEGIHDO1OSWE2JBEV5WPRY4IILAHBLKKZ54WGRU51OTPU\nCLIENT_SECRET:VZ2VJZJIZA1XAY4OXXOTMQHVMFUPVSPTBI21LUJSIDWE1K4U\n"
     ]
    }
   ],
   "source": [
    "#@hidden cells\n",
    "CLIENT_ID = 'L00XEGIHDO1OSWE2JBEV5WPRY4IILAHBLKKZ54WGRU51OTPU' # your Foursquare ID\n",
    "CLIENT_SECRET = 'VZ2VJZJIZA1XAY4OXXOTMQHVMFUPVSPTBI21LUJSIDWE1K4U' # your Foursquare Secret\n",
    "VERSION = '20180605' # Foursquare API version\n",
    "LIMIT = 100 # A default Foursquare API limit value\n",
    "\n",
    "print('Your credentails:')\n",
    "print('CLIENT_ID: ' + CLIENT_ID)\n",
    "print('CLIENT_SECRET:' + CLIENT_SECRET)"
   ]
  },
  {
   "source": [
    "### Get nearby venues\n",
    "Create a Function that retrieves information about venues and places in given latitudes and longitudes Using Foursquare API"
   ],
   "cell_type": "markdown",
   "metadata": {}
  },
  {
   "cell_type": "code",
   "execution_count": 27,
   "metadata": {},
   "outputs": [],
   "source": [
    "# Function that return latitude, longitude, venues, and venue_categories in neighborhood_df\n",
    "def get_nearby_venues(names, latitudes, longitudes, radius=500):\n",
    "    \n",
    "    # create an empty list\n",
    "    venues_list=[]\n",
    "    \n",
    "    # for loop that iterate through dataframe\n",
    "    for name, lat, lng in zip(names, latitudes, longitudes):\n",
    "        print(name)\n",
    "            \n",
    "        # create the API request URL\n",
    "        url = 'https://api.foursquare.com/v2/venues/explore?&client_id={}&client_secret={}&v={}&ll={},{}&radius={}'.format(\n",
    "            CLIENT_ID, \n",
    "            CLIENT_SECRET, \n",
    "            VERSION, \n",
    "            lat, \n",
    "            lng, \n",
    "            radius\n",
    "            )\n",
    "            \n",
    "        # make the GET request\n",
    "        results = requests.get(url).json()[\"response\"]['groups'][0]['items']\n",
    "        \n",
    "        # return only relevant information for each nearby venue\n",
    "        venues_list.append([(\n",
    "            name, \n",
    "            lat, \n",
    "            lng, \n",
    "            v['venue']['name'], \n",
    "            v['venue']['categories'][0]['name']) for v in results])\n",
    "\n",
    "        \n",
    "    # Create pandas dataframe from venues_list\n",
    "    nearby_venues = pd.DataFrame([item for venue_list in venues_list for item in venue_list])\n",
    "    nearby_venues.columns = ['Neighborhood', \n",
    "                  'Neighborhood Latitude', \n",
    "                  'Neighborhood Longitude', \n",
    "                  'Venue', \n",
    "                  'Venue Category']\n",
    "    \n",
    "    return(nearby_venues)"
   ]
  },
  {
   "source": [
    "### Get venues data for each neighborhood in Jakarta"
   ],
   "cell_type": "markdown",
   "metadata": {}
  },
  {
   "cell_type": "code",
   "execution_count": 28,
   "metadata": {},
   "outputs": [
    {
     "output_type": "stream",
     "name": "stdout",
     "text": [
      "Cempaka Putih\n",
      "Gambir\n",
      "Johar Baru\n",
      "Kemayoran\n",
      "Menteng\n",
      "Sawah Besar\n",
      "Senen\n",
      "Tanah Abang\n",
      "Cilincing\n",
      "Kelapa Gading\n",
      "Koja\n",
      "Pademangan\n",
      "Penjaringan\n",
      "Tanjung Priok\n",
      "Cakung\n",
      "Cipayung\n",
      "Ciracas\n",
      "Duren Sawit\n",
      "Jatinegara\n",
      "Kramat Jati\n",
      "Makasar\n",
      "Matraman\n",
      "Pasar Rebo\n",
      "Pulo Gadung\n",
      "Cilandak\n",
      "Jagakarsa\n",
      "Kebayoran Baru\n",
      "Kebayoran Lama\n",
      "Mampang Prapatan\n",
      "Pancoran\n",
      "Pasar Minggu\n",
      "Pesanggrahan\n",
      "Setiabudi\n",
      "Tebet\n",
      "Cengkareng\n",
      "Grogol Petamburan\n",
      "Taman Sari\n",
      "Tambora\n",
      "Kebon Jeruk\n",
      "Kalideres\n",
      "Palmerah\n",
      "Kembangan\n",
      "Kepulauan Seribu Utara\n",
      "Kepulauan Seribu Selatan\n"
     ]
    }
   ],
   "source": [
    "jakarta_venues = get_nearby_venues(jakarta_df['Neighborhood'], jakarta_df['Latitude'], jakarta_df['Longitude'])"
   ]
  },
  {
   "source": [
    "### Get venues data for each neighborhood in Surabaya"
   ],
   "cell_type": "markdown",
   "metadata": {}
  },
  {
   "cell_type": "code",
   "execution_count": 29,
   "metadata": {},
   "outputs": [
    {
     "output_type": "stream",
     "name": "stdout",
     "text": [
      "Asemrowo\n",
      "Benowo\n",
      "Bubutan\n",
      "Bulak\n",
      "Dukuh Pakis\n",
      "Gayungan\n",
      "Genteng\n",
      "Gubeng\n",
      "Gunung Anyar\n",
      "Jambangan\n",
      "Karang Pilang\n",
      "Kenjeran\n",
      "Krembangan\n",
      "Lakarsantri\n",
      "Mulyorejo\n",
      "Pabean Cantian\n",
      "Pakal\n",
      "Rungkut\n",
      "Sambikerep\n",
      "Sawahan\n",
      "Semampir\n",
      "Simokerto\n",
      "Sukolilo\n",
      "Sukomanunggal\n",
      "Tambaksari\n",
      "Tandes\n",
      "Tegalsari\n",
      "Tenggilis Mejoyo\n",
      "Wiyung\n",
      "Wonocolo\n",
      "Wonokromo\n"
     ]
    }
   ],
   "source": [
    "surabaya_venues = get_nearby_venues(surabaya_df['Neighborhood'], surabaya_df['Latitude'], surabaya_df['Longitude'])"
   ]
  },
  {
   "source": [
    "### Check the size of the resulting dataframe (Jakarta and Surabaya)"
   ],
   "cell_type": "markdown",
   "metadata": {}
  },
  {
   "cell_type": "code",
   "execution_count": 30,
   "metadata": {},
   "outputs": [
    {
     "output_type": "stream",
     "name": "stdout",
     "text": [
      "Shape of jakarta_venues dataframe : (567, 5)\n\nHead of jakarta_venues dataframe : \n"
     ]
    },
    {
     "output_type": "execute_result",
     "data": {
      "text/plain": [
       "    Neighborhood  Neighborhood Latitude  Neighborhood Longitude  \\\n",
       "0  Cempaka Putih              -6.181214              106.868548   \n",
       "1  Cempaka Putih              -6.181214              106.868548   \n",
       "2  Cempaka Putih              -6.181214              106.868548   \n",
       "3  Cempaka Putih              -6.181214              106.868548   \n",
       "4  Cempaka Putih              -6.181214              106.868548   \n",
       "\n",
       "                      Venue       Venue Category  \n",
       "0  Mie Aceh Bungong Cempaka  Acehnese Restaurant  \n",
       "1      Arcici Swiming Pool™                 Pool  \n",
       "2                 Pizza Hut          Pizza Place  \n",
       "3                 Pizza Hut          Pizza Place  \n",
       "4               Bebek Bentu            BBQ Joint  "
      ],
      "text/html": "<div>\n<style scoped>\n    .dataframe tbody tr th:only-of-type {\n        vertical-align: middle;\n    }\n\n    .dataframe tbody tr th {\n        vertical-align: top;\n    }\n\n    .dataframe thead th {\n        text-align: right;\n    }\n</style>\n<table border=\"1\" class=\"dataframe\">\n  <thead>\n    <tr style=\"text-align: right;\">\n      <th></th>\n      <th>Neighborhood</th>\n      <th>Neighborhood Latitude</th>\n      <th>Neighborhood Longitude</th>\n      <th>Venue</th>\n      <th>Venue Category</th>\n    </tr>\n  </thead>\n  <tbody>\n    <tr>\n      <th>0</th>\n      <td>Cempaka Putih</td>\n      <td>-6.181214</td>\n      <td>106.868548</td>\n      <td>Mie Aceh Bungong Cempaka</td>\n      <td>Acehnese Restaurant</td>\n    </tr>\n    <tr>\n      <th>1</th>\n      <td>Cempaka Putih</td>\n      <td>-6.181214</td>\n      <td>106.868548</td>\n      <td>Arcici Swiming Pool™</td>\n      <td>Pool</td>\n    </tr>\n    <tr>\n      <th>2</th>\n      <td>Cempaka Putih</td>\n      <td>-6.181214</td>\n      <td>106.868548</td>\n      <td>Pizza Hut</td>\n      <td>Pizza Place</td>\n    </tr>\n    <tr>\n      <th>3</th>\n      <td>Cempaka Putih</td>\n      <td>-6.181214</td>\n      <td>106.868548</td>\n      <td>Pizza Hut</td>\n      <td>Pizza Place</td>\n    </tr>\n    <tr>\n      <th>4</th>\n      <td>Cempaka Putih</td>\n      <td>-6.181214</td>\n      <td>106.868548</td>\n      <td>Bebek Bentu</td>\n      <td>BBQ Joint</td>\n    </tr>\n  </tbody>\n</table>\n</div>"
     },
     "metadata": {},
     "execution_count": 30
    }
   ],
   "source": [
    "# Jakarta Venues dataframe\n",
    "print(f'Shape of jakarta_venues dataframe : {jakarta_venues.shape}\\n')\n",
    "print('Head of jakarta_venues dataframe : ')\n",
    "jakarta_venues.head()\n"
   ]
  },
  {
   "cell_type": "code",
   "execution_count": 31,
   "metadata": {},
   "outputs": [
    {
     "output_type": "stream",
     "name": "stdout",
     "text": [
      "Shape of surabaya_venues dataframe : (224, 5)\n\nHead of surabaya_venues dataframe : \n"
     ]
    },
    {
     "output_type": "execute_result",
     "data": {
      "text/plain": [
       "  Neighborhood  Neighborhood Latitude  Neighborhood Longitude  \\\n",
       "0     Asemrowo              -7.241740              112.688802   \n",
       "1       Benowo              -7.229055              112.649775   \n",
       "2       Benowo              -7.229055              112.649775   \n",
       "3       Benowo              -7.229055              112.649775   \n",
       "4      Bubutan              -7.252671              112.730062   \n",
       "\n",
       "                                           Venue Venue Category  \n",
       "0                                        CANTEEN       Wine Bar  \n",
       "1  Benowo Trade Centre [ BTC ], Benowo, Surabaya     Shoe Store  \n",
       "2                             Stadion GBT Benowo   Soccer Field  \n",
       "3                    Pecel B.Yatin ketabang kali     Food Court  \n",
       "4                                    CGV Cinemas      Multiplex  "
      ],
      "text/html": "<div>\n<style scoped>\n    .dataframe tbody tr th:only-of-type {\n        vertical-align: middle;\n    }\n\n    .dataframe tbody tr th {\n        vertical-align: top;\n    }\n\n    .dataframe thead th {\n        text-align: right;\n    }\n</style>\n<table border=\"1\" class=\"dataframe\">\n  <thead>\n    <tr style=\"text-align: right;\">\n      <th></th>\n      <th>Neighborhood</th>\n      <th>Neighborhood Latitude</th>\n      <th>Neighborhood Longitude</th>\n      <th>Venue</th>\n      <th>Venue Category</th>\n    </tr>\n  </thead>\n  <tbody>\n    <tr>\n      <th>0</th>\n      <td>Asemrowo</td>\n      <td>-7.241740</td>\n      <td>112.688802</td>\n      <td>CANTEEN</td>\n      <td>Wine Bar</td>\n    </tr>\n    <tr>\n      <th>1</th>\n      <td>Benowo</td>\n      <td>-7.229055</td>\n      <td>112.649775</td>\n      <td>Benowo Trade Centre [ BTC ], Benowo, Surabaya</td>\n      <td>Shoe Store</td>\n    </tr>\n    <tr>\n      <th>2</th>\n      <td>Benowo</td>\n      <td>-7.229055</td>\n      <td>112.649775</td>\n      <td>Stadion GBT Benowo</td>\n      <td>Soccer Field</td>\n    </tr>\n    <tr>\n      <th>3</th>\n      <td>Benowo</td>\n      <td>-7.229055</td>\n      <td>112.649775</td>\n      <td>Pecel B.Yatin ketabang kali</td>\n      <td>Food Court</td>\n    </tr>\n    <tr>\n      <th>4</th>\n      <td>Bubutan</td>\n      <td>-7.252671</td>\n      <td>112.730062</td>\n      <td>CGV Cinemas</td>\n      <td>Multiplex</td>\n    </tr>\n  </tbody>\n</table>\n</div>"
     },
     "metadata": {},
     "execution_count": 31
    }
   ],
   "source": [
    "# Surabaya venues dataframe\n",
    "print(f'Shape of surabaya_venues dataframe : {surabaya_venues.shape}\\n')\n",
    "print('Head of surabaya_venues dataframe : ')\n",
    "surabaya_venues.head()"
   ]
  },
  {
   "source": [
    "#### Saving dataframe as csv for further use"
   ],
   "cell_type": "markdown",
   "metadata": {}
  },
  {
   "cell_type": "code",
   "execution_count": 32,
   "metadata": {},
   "outputs": [],
   "source": [
    "jakarta_venues.to_csv('data/jakarta_venues.csv')\n",
    "surabaya_venues.to_csv('data/surabaya_venues.csv')"
   ]
  },
  {
   "source": [
    "## 4.4 Check how many venues were returned for each neighborhood"
   ],
   "cell_type": "markdown",
   "metadata": {}
  },
  {
   "source": [
    "### Jakarta"
   ],
   "cell_type": "markdown",
   "metadata": {}
  },
  {
   "cell_type": "code",
   "execution_count": 33,
   "metadata": {},
   "outputs": [
    {
     "output_type": "execute_result",
     "data": {
      "text/plain": [
       "                          Neighborhood Latitude  Neighborhood Longitude  \\\n",
       "Neighborhood                                                              \n",
       "Cakung                                        3                       3   \n",
       "Cempaka Putih                                 6                       6   \n",
       "Cengkareng                                    4                       4   \n",
       "Cilandak                                     22                      22   \n",
       "Cilincing                                     3                       3   \n",
       "Cipayung                                      2                       2   \n",
       "Ciracas                                       3                       3   \n",
       "Duren Sawit                                   5                       5   \n",
       "Gambir                                       25                      25   \n",
       "Grogol Petamburan                            30                      30   \n",
       "Jagakarsa                                    11                      11   \n",
       "Jatinegara                                   15                      15   \n",
       "Johar Baru                                    6                       6   \n",
       "Kalideres                                     6                       6   \n",
       "Kebayoran Baru                               30                      30   \n",
       "Kebayoran Lama                               30                      30   \n",
       "Kebon Jeruk                                  19                      19   \n",
       "Kelapa Gading                                20                      20   \n",
       "Kemayoran                                     4                       4   \n",
       "Kembangan                                    13                      13   \n",
       "Kepulauan Seribu Selatan                      2                       2   \n",
       "Kepulauan Seribu Utara                        1                       1   \n",
       "Koja                                          4                       4   \n",
       "Kramat Jati                                   5                       5   \n",
       "Makasar                                       4                       4   \n",
       "Mampang Prapatan                              4                       4   \n",
       "Matraman                                      2                       2   \n",
       "Menteng                                      28                      28   \n",
       "Pademangan                                   16                      16   \n",
       "Palmerah                                     17                      17   \n",
       "Pancoran                                     17                      17   \n",
       "Pasar Minggu                                 11                      11   \n",
       "Pasar Rebo                                    7                       7   \n",
       "Penjaringan                                   5                       5   \n",
       "Pesanggrahan                                  6                       6   \n",
       "Pulo Gadung                                  30                      30   \n",
       "Sawah Besar                                  18                      18   \n",
       "Senen                                        14                      14   \n",
       "Setiabudi                                    30                      30   \n",
       "Taman Sari                                   30                      30   \n",
       "Tambora                                      10                      10   \n",
       "Tanah Abang                                  18                      18   \n",
       "Tanjung Priok                                 1                       1   \n",
       "Tebet                                        30                      30   \n",
       "\n",
       "                          Venue  Venue Category  \n",
       "Neighborhood                                     \n",
       "Cakung                        3               3  \n",
       "Cempaka Putih                 6               6  \n",
       "Cengkareng                    4               4  \n",
       "Cilandak                     22              22  \n",
       "Cilincing                     3               3  \n",
       "Cipayung                      2               2  \n",
       "Ciracas                       3               3  \n",
       "Duren Sawit                   5               5  \n",
       "Gambir                       25              25  \n",
       "Grogol Petamburan            30              30  \n",
       "Jagakarsa                    11              11  \n",
       "Jatinegara                   15              15  \n",
       "Johar Baru                    6               6  \n",
       "Kalideres                     6               6  \n",
       "Kebayoran Baru               30              30  \n",
       "Kebayoran Lama               30              30  \n",
       "Kebon Jeruk                  19              19  \n",
       "Kelapa Gading                20              20  \n",
       "Kemayoran                     4               4  \n",
       "Kembangan                    13              13  \n",
       "Kepulauan Seribu Selatan      2               2  \n",
       "Kepulauan Seribu Utara        1               1  \n",
       "Koja                          4               4  \n",
       "Kramat Jati                   5               5  \n",
       "Makasar                       4               4  \n",
       "Mampang Prapatan              4               4  \n",
       "Matraman                      2               2  \n",
       "Menteng                      28              28  \n",
       "Pademangan                   16              16  \n",
       "Palmerah                     17              17  \n",
       "Pancoran                     17              17  \n",
       "Pasar Minggu                 11              11  \n",
       "Pasar Rebo                    7               7  \n",
       "Penjaringan                   5               5  \n",
       "Pesanggrahan                  6               6  \n",
       "Pulo Gadung                  30              30  \n",
       "Sawah Besar                  18              18  \n",
       "Senen                        14              14  \n",
       "Setiabudi                    30              30  \n",
       "Taman Sari                   30              30  \n",
       "Tambora                      10              10  \n",
       "Tanah Abang                  18              18  \n",
       "Tanjung Priok                 1               1  \n",
       "Tebet                        30              30  "
      ],
      "text/html": "<div>\n<style scoped>\n    .dataframe tbody tr th:only-of-type {\n        vertical-align: middle;\n    }\n\n    .dataframe tbody tr th {\n        vertical-align: top;\n    }\n\n    .dataframe thead th {\n        text-align: right;\n    }\n</style>\n<table border=\"1\" class=\"dataframe\">\n  <thead>\n    <tr style=\"text-align: right;\">\n      <th></th>\n      <th>Neighborhood Latitude</th>\n      <th>Neighborhood Longitude</th>\n      <th>Venue</th>\n      <th>Venue Category</th>\n    </tr>\n    <tr>\n      <th>Neighborhood</th>\n      <th></th>\n      <th></th>\n      <th></th>\n      <th></th>\n    </tr>\n  </thead>\n  <tbody>\n    <tr>\n      <th>Cakung</th>\n      <td>3</td>\n      <td>3</td>\n      <td>3</td>\n      <td>3</td>\n    </tr>\n    <tr>\n      <th>Cempaka Putih</th>\n      <td>6</td>\n      <td>6</td>\n      <td>6</td>\n      <td>6</td>\n    </tr>\n    <tr>\n      <th>Cengkareng</th>\n      <td>4</td>\n      <td>4</td>\n      <td>4</td>\n      <td>4</td>\n    </tr>\n    <tr>\n      <th>Cilandak</th>\n      <td>22</td>\n      <td>22</td>\n      <td>22</td>\n      <td>22</td>\n    </tr>\n    <tr>\n      <th>Cilincing</th>\n      <td>3</td>\n      <td>3</td>\n      <td>3</td>\n      <td>3</td>\n    </tr>\n    <tr>\n      <th>Cipayung</th>\n      <td>2</td>\n      <td>2</td>\n      <td>2</td>\n      <td>2</td>\n    </tr>\n    <tr>\n      <th>Ciracas</th>\n      <td>3</td>\n      <td>3</td>\n      <td>3</td>\n      <td>3</td>\n    </tr>\n    <tr>\n      <th>Duren Sawit</th>\n      <td>5</td>\n      <td>5</td>\n      <td>5</td>\n      <td>5</td>\n    </tr>\n    <tr>\n      <th>Gambir</th>\n      <td>25</td>\n      <td>25</td>\n      <td>25</td>\n      <td>25</td>\n    </tr>\n    <tr>\n      <th>Grogol Petamburan</th>\n      <td>30</td>\n      <td>30</td>\n      <td>30</td>\n      <td>30</td>\n    </tr>\n    <tr>\n      <th>Jagakarsa</th>\n      <td>11</td>\n      <td>11</td>\n      <td>11</td>\n      <td>11</td>\n    </tr>\n    <tr>\n      <th>Jatinegara</th>\n      <td>15</td>\n      <td>15</td>\n      <td>15</td>\n      <td>15</td>\n    </tr>\n    <tr>\n      <th>Johar Baru</th>\n      <td>6</td>\n      <td>6</td>\n      <td>6</td>\n      <td>6</td>\n    </tr>\n    <tr>\n      <th>Kalideres</th>\n      <td>6</td>\n      <td>6</td>\n      <td>6</td>\n      <td>6</td>\n    </tr>\n    <tr>\n      <th>Kebayoran Baru</th>\n      <td>30</td>\n      <td>30</td>\n      <td>30</td>\n      <td>30</td>\n    </tr>\n    <tr>\n      <th>Kebayoran Lama</th>\n      <td>30</td>\n      <td>30</td>\n      <td>30</td>\n      <td>30</td>\n    </tr>\n    <tr>\n      <th>Kebon Jeruk</th>\n      <td>19</td>\n      <td>19</td>\n      <td>19</td>\n      <td>19</td>\n    </tr>\n    <tr>\n      <th>Kelapa Gading</th>\n      <td>20</td>\n      <td>20</td>\n      <td>20</td>\n      <td>20</td>\n    </tr>\n    <tr>\n      <th>Kemayoran</th>\n      <td>4</td>\n      <td>4</td>\n      <td>4</td>\n      <td>4</td>\n    </tr>\n    <tr>\n      <th>Kembangan</th>\n      <td>13</td>\n      <td>13</td>\n      <td>13</td>\n      <td>13</td>\n    </tr>\n    <tr>\n      <th>Kepulauan Seribu Selatan</th>\n      <td>2</td>\n      <td>2</td>\n      <td>2</td>\n      <td>2</td>\n    </tr>\n    <tr>\n      <th>Kepulauan Seribu Utara</th>\n      <td>1</td>\n      <td>1</td>\n      <td>1</td>\n      <td>1</td>\n    </tr>\n    <tr>\n      <th>Koja</th>\n      <td>4</td>\n      <td>4</td>\n      <td>4</td>\n      <td>4</td>\n    </tr>\n    <tr>\n      <th>Kramat Jati</th>\n      <td>5</td>\n      <td>5</td>\n      <td>5</td>\n      <td>5</td>\n    </tr>\n    <tr>\n      <th>Makasar</th>\n      <td>4</td>\n      <td>4</td>\n      <td>4</td>\n      <td>4</td>\n    </tr>\n    <tr>\n      <th>Mampang Prapatan</th>\n      <td>4</td>\n      <td>4</td>\n      <td>4</td>\n      <td>4</td>\n    </tr>\n    <tr>\n      <th>Matraman</th>\n      <td>2</td>\n      <td>2</td>\n      <td>2</td>\n      <td>2</td>\n    </tr>\n    <tr>\n      <th>Menteng</th>\n      <td>28</td>\n      <td>28</td>\n      <td>28</td>\n      <td>28</td>\n    </tr>\n    <tr>\n      <th>Pademangan</th>\n      <td>16</td>\n      <td>16</td>\n      <td>16</td>\n      <td>16</td>\n    </tr>\n    <tr>\n      <th>Palmerah</th>\n      <td>17</td>\n      <td>17</td>\n      <td>17</td>\n      <td>17</td>\n    </tr>\n    <tr>\n      <th>Pancoran</th>\n      <td>17</td>\n      <td>17</td>\n      <td>17</td>\n      <td>17</td>\n    </tr>\n    <tr>\n      <th>Pasar Minggu</th>\n      <td>11</td>\n      <td>11</td>\n      <td>11</td>\n      <td>11</td>\n    </tr>\n    <tr>\n      <th>Pasar Rebo</th>\n      <td>7</td>\n      <td>7</td>\n      <td>7</td>\n      <td>7</td>\n    </tr>\n    <tr>\n      <th>Penjaringan</th>\n      <td>5</td>\n      <td>5</td>\n      <td>5</td>\n      <td>5</td>\n    </tr>\n    <tr>\n      <th>Pesanggrahan</th>\n      <td>6</td>\n      <td>6</td>\n      <td>6</td>\n      <td>6</td>\n    </tr>\n    <tr>\n      <th>Pulo Gadung</th>\n      <td>30</td>\n      <td>30</td>\n      <td>30</td>\n      <td>30</td>\n    </tr>\n    <tr>\n      <th>Sawah Besar</th>\n      <td>18</td>\n      <td>18</td>\n      <td>18</td>\n      <td>18</td>\n    </tr>\n    <tr>\n      <th>Senen</th>\n      <td>14</td>\n      <td>14</td>\n      <td>14</td>\n      <td>14</td>\n    </tr>\n    <tr>\n      <th>Setiabudi</th>\n      <td>30</td>\n      <td>30</td>\n      <td>30</td>\n      <td>30</td>\n    </tr>\n    <tr>\n      <th>Taman Sari</th>\n      <td>30</td>\n      <td>30</td>\n      <td>30</td>\n      <td>30</td>\n    </tr>\n    <tr>\n      <th>Tambora</th>\n      <td>10</td>\n      <td>10</td>\n      <td>10</td>\n      <td>10</td>\n    </tr>\n    <tr>\n      <th>Tanah Abang</th>\n      <td>18</td>\n      <td>18</td>\n      <td>18</td>\n      <td>18</td>\n    </tr>\n    <tr>\n      <th>Tanjung Priok</th>\n      <td>1</td>\n      <td>1</td>\n      <td>1</td>\n      <td>1</td>\n    </tr>\n    <tr>\n      <th>Tebet</th>\n      <td>30</td>\n      <td>30</td>\n      <td>30</td>\n      <td>30</td>\n    </tr>\n  </tbody>\n</table>\n</div>"
     },
     "metadata": {},
     "execution_count": 33
    }
   ],
   "source": [
    "jakarta_venues.groupby('Neighborhood').count()"
   ]
  },
  {
   "source": [
    "Unique Categories in Jakarta"
   ],
   "cell_type": "markdown",
   "metadata": {}
  },
  {
   "cell_type": "code",
   "execution_count": 34,
   "metadata": {},
   "outputs": [
    {
     "output_type": "stream",
     "name": "stdout",
     "text": [
      "There are 141 uniques categories in Jakarta.\n"
     ]
    }
   ],
   "source": [
    "print(f'There are {len(jakarta_venues[\"Venue Category\"].unique())} uniques categories in Jakarta.')"
   ]
  },
  {
   "source": [
    "### Surabaya"
   ],
   "cell_type": "markdown",
   "metadata": {}
  },
  {
   "cell_type": "code",
   "execution_count": 35,
   "metadata": {},
   "outputs": [
    {
     "output_type": "execute_result",
     "data": {
      "text/plain": [
       "                  Neighborhood Latitude  Neighborhood Longitude  Venue  \\\n",
       "Neighborhood                                                             \n",
       "Asemrowo                              1                       1      1   \n",
       "Benowo                                3                       3      3   \n",
       "Bubutan                              13                      13     13   \n",
       "Bulak                                 8                       8      8   \n",
       "Dukuh Pakis                           3                       3      3   \n",
       "Gayungan                              8                       8      8   \n",
       "Genteng                              11                      11     11   \n",
       "Gubeng                               28                      28     28   \n",
       "Jambangan                             5                       5      5   \n",
       "Karang Pilang                         1                       1      1   \n",
       "Kenjeran                              4                       4      4   \n",
       "Krembangan                            4                       4      4   \n",
       "Lakarsantri                           1                       1      1   \n",
       "Mulyorejo                            17                      17     17   \n",
       "Pabean Cantian                        6                       6      6   \n",
       "Pakal                                 1                       1      1   \n",
       "Rungkut                               6                       6      6   \n",
       "Sambikerep                            2                       2      2   \n",
       "Sawahan                               3                       3      3   \n",
       "Semampir                              2                       2      2   \n",
       "Simokerto                            14                      14     14   \n",
       "Sukolilo                             10                      10     10   \n",
       "Sukomanunggal                         7                       7      7   \n",
       "Tambaksari                           16                      16     16   \n",
       "Tegalsari                            15                      15     15   \n",
       "Tenggilis Mejoyo                     16                      16     16   \n",
       "Wiyung                                6                       6      6   \n",
       "Wonocolo                             11                      11     11   \n",
       "Wonokromo                             2                       2      2   \n",
       "\n",
       "                  Venue Category  \n",
       "Neighborhood                      \n",
       "Asemrowo                       1  \n",
       "Benowo                         3  \n",
       "Bubutan                       13  \n",
       "Bulak                          8  \n",
       "Dukuh Pakis                    3  \n",
       "Gayungan                       8  \n",
       "Genteng                       11  \n",
       "Gubeng                        28  \n",
       "Jambangan                      5  \n",
       "Karang Pilang                  1  \n",
       "Kenjeran                       4  \n",
       "Krembangan                     4  \n",
       "Lakarsantri                    1  \n",
       "Mulyorejo                     17  \n",
       "Pabean Cantian                 6  \n",
       "Pakal                          1  \n",
       "Rungkut                        6  \n",
       "Sambikerep                     2  \n",
       "Sawahan                        3  \n",
       "Semampir                       2  \n",
       "Simokerto                     14  \n",
       "Sukolilo                      10  \n",
       "Sukomanunggal                  7  \n",
       "Tambaksari                    16  \n",
       "Tegalsari                     15  \n",
       "Tenggilis Mejoyo              16  \n",
       "Wiyung                         6  \n",
       "Wonocolo                      11  \n",
       "Wonokromo                      2  "
      ],
      "text/html": "<div>\n<style scoped>\n    .dataframe tbody tr th:only-of-type {\n        vertical-align: middle;\n    }\n\n    .dataframe tbody tr th {\n        vertical-align: top;\n    }\n\n    .dataframe thead th {\n        text-align: right;\n    }\n</style>\n<table border=\"1\" class=\"dataframe\">\n  <thead>\n    <tr style=\"text-align: right;\">\n      <th></th>\n      <th>Neighborhood Latitude</th>\n      <th>Neighborhood Longitude</th>\n      <th>Venue</th>\n      <th>Venue Category</th>\n    </tr>\n    <tr>\n      <th>Neighborhood</th>\n      <th></th>\n      <th></th>\n      <th></th>\n      <th></th>\n    </tr>\n  </thead>\n  <tbody>\n    <tr>\n      <th>Asemrowo</th>\n      <td>1</td>\n      <td>1</td>\n      <td>1</td>\n      <td>1</td>\n    </tr>\n    <tr>\n      <th>Benowo</th>\n      <td>3</td>\n      <td>3</td>\n      <td>3</td>\n      <td>3</td>\n    </tr>\n    <tr>\n      <th>Bubutan</th>\n      <td>13</td>\n      <td>13</td>\n      <td>13</td>\n      <td>13</td>\n    </tr>\n    <tr>\n      <th>Bulak</th>\n      <td>8</td>\n      <td>8</td>\n      <td>8</td>\n      <td>8</td>\n    </tr>\n    <tr>\n      <th>Dukuh Pakis</th>\n      <td>3</td>\n      <td>3</td>\n      <td>3</td>\n      <td>3</td>\n    </tr>\n    <tr>\n      <th>Gayungan</th>\n      <td>8</td>\n      <td>8</td>\n      <td>8</td>\n      <td>8</td>\n    </tr>\n    <tr>\n      <th>Genteng</th>\n      <td>11</td>\n      <td>11</td>\n      <td>11</td>\n      <td>11</td>\n    </tr>\n    <tr>\n      <th>Gubeng</th>\n      <td>28</td>\n      <td>28</td>\n      <td>28</td>\n      <td>28</td>\n    </tr>\n    <tr>\n      <th>Jambangan</th>\n      <td>5</td>\n      <td>5</td>\n      <td>5</td>\n      <td>5</td>\n    </tr>\n    <tr>\n      <th>Karang Pilang</th>\n      <td>1</td>\n      <td>1</td>\n      <td>1</td>\n      <td>1</td>\n    </tr>\n    <tr>\n      <th>Kenjeran</th>\n      <td>4</td>\n      <td>4</td>\n      <td>4</td>\n      <td>4</td>\n    </tr>\n    <tr>\n      <th>Krembangan</th>\n      <td>4</td>\n      <td>4</td>\n      <td>4</td>\n      <td>4</td>\n    </tr>\n    <tr>\n      <th>Lakarsantri</th>\n      <td>1</td>\n      <td>1</td>\n      <td>1</td>\n      <td>1</td>\n    </tr>\n    <tr>\n      <th>Mulyorejo</th>\n      <td>17</td>\n      <td>17</td>\n      <td>17</td>\n      <td>17</td>\n    </tr>\n    <tr>\n      <th>Pabean Cantian</th>\n      <td>6</td>\n      <td>6</td>\n      <td>6</td>\n      <td>6</td>\n    </tr>\n    <tr>\n      <th>Pakal</th>\n      <td>1</td>\n      <td>1</td>\n      <td>1</td>\n      <td>1</td>\n    </tr>\n    <tr>\n      <th>Rungkut</th>\n      <td>6</td>\n      <td>6</td>\n      <td>6</td>\n      <td>6</td>\n    </tr>\n    <tr>\n      <th>Sambikerep</th>\n      <td>2</td>\n      <td>2</td>\n      <td>2</td>\n      <td>2</td>\n    </tr>\n    <tr>\n      <th>Sawahan</th>\n      <td>3</td>\n      <td>3</td>\n      <td>3</td>\n      <td>3</td>\n    </tr>\n    <tr>\n      <th>Semampir</th>\n      <td>2</td>\n      <td>2</td>\n      <td>2</td>\n      <td>2</td>\n    </tr>\n    <tr>\n      <th>Simokerto</th>\n      <td>14</td>\n      <td>14</td>\n      <td>14</td>\n      <td>14</td>\n    </tr>\n    <tr>\n      <th>Sukolilo</th>\n      <td>10</td>\n      <td>10</td>\n      <td>10</td>\n      <td>10</td>\n    </tr>\n    <tr>\n      <th>Sukomanunggal</th>\n      <td>7</td>\n      <td>7</td>\n      <td>7</td>\n      <td>7</td>\n    </tr>\n    <tr>\n      <th>Tambaksari</th>\n      <td>16</td>\n      <td>16</td>\n      <td>16</td>\n      <td>16</td>\n    </tr>\n    <tr>\n      <th>Tegalsari</th>\n      <td>15</td>\n      <td>15</td>\n      <td>15</td>\n      <td>15</td>\n    </tr>\n    <tr>\n      <th>Tenggilis Mejoyo</th>\n      <td>16</td>\n      <td>16</td>\n      <td>16</td>\n      <td>16</td>\n    </tr>\n    <tr>\n      <th>Wiyung</th>\n      <td>6</td>\n      <td>6</td>\n      <td>6</td>\n      <td>6</td>\n    </tr>\n    <tr>\n      <th>Wonocolo</th>\n      <td>11</td>\n      <td>11</td>\n      <td>11</td>\n      <td>11</td>\n    </tr>\n    <tr>\n      <th>Wonokromo</th>\n      <td>2</td>\n      <td>2</td>\n      <td>2</td>\n      <td>2</td>\n    </tr>\n  </tbody>\n</table>\n</div>"
     },
     "metadata": {},
     "execution_count": 35
    }
   ],
   "source": [
    "surabaya_venues.groupby('Neighborhood').count()"
   ]
  },
  {
   "source": [
    "Unique Cagegories in Surabaya"
   ],
   "cell_type": "markdown",
   "metadata": {}
  },
  {
   "cell_type": "code",
   "execution_count": 36,
   "metadata": {},
   "outputs": [
    {
     "output_type": "stream",
     "name": "stdout",
     "text": [
      "There are 76 uniques categories in Surabaya.\n"
     ]
    }
   ],
   "source": [
    "print(f'There are {len(surabaya_venues[\"Venue Category\"].unique())} uniques categories in Surabaya.')"
   ]
  },
  {
   "source": [
    "## 4.5 One Hot Encoding\n",
    "\n",
    "In order to find top 5 most common venue, we need to transform each categorical data into number with One Hot Encoding using **pandas.get_dummies()** function"
   ],
   "cell_type": "markdown",
   "metadata": {}
  },
  {
   "source": [
    "### One hot encoding for Jakarta venues "
   ],
   "cell_type": "markdown",
   "metadata": {}
  },
  {
   "cell_type": "code",
   "execution_count": 37,
   "metadata": {},
   "outputs": [
    {
     "output_type": "execute_result",
     "data": {
      "text/plain": [
       "   Wings Joint  Accessories Store  Acehnese Restaurant  Airport Terminal  \\\n",
       "0            0                  0                    1                 0   \n",
       "1            0                  0                    0                 0   \n",
       "2            0                  0                    0                 0   \n",
       "3            0                  0                    0                 0   \n",
       "4            0                  0                    0                 0   \n",
       "\n",
       "   American Restaurant  Arcade  Art Gallery  Art Museum  Arts & Crafts Store  \\\n",
       "0                    0       0            0           0                    0   \n",
       "1                    0       0            0           0                    0   \n",
       "2                    0       0            0           0                    0   \n",
       "3                    0       0            0           0                    0   \n",
       "4                    0       0            0           0                    0   \n",
       "\n",
       "   Asian Restaurant  ...  Track  Track Stadium  Trail  Train  Train Station  \\\n",
       "0                 0  ...      0              0      0      0              0   \n",
       "1                 0  ...      0              0      0      0              0   \n",
       "2                 0  ...      0              0      0      0              0   \n",
       "3                 0  ...      0              0      0      0              0   \n",
       "4                 0  ...      0              0      0      0              0   \n",
       "\n",
       "   Udon Restaurant  University  Vegetarian / Vegan Restaurant  \\\n",
       "0                0           0                              0   \n",
       "1                0           0                              0   \n",
       "2                0           0                              0   \n",
       "3                0           0                              0   \n",
       "4                0           0                              0   \n",
       "\n",
       "   Vietnamese Restaurant  Wine Bar  \n",
       "0                      0         0  \n",
       "1                      0         0  \n",
       "2                      0         0  \n",
       "3                      0         0  \n",
       "4                      0         0  \n",
       "\n",
       "[5 rows x 141 columns]"
      ],
      "text/html": "<div>\n<style scoped>\n    .dataframe tbody tr th:only-of-type {\n        vertical-align: middle;\n    }\n\n    .dataframe tbody tr th {\n        vertical-align: top;\n    }\n\n    .dataframe thead th {\n        text-align: right;\n    }\n</style>\n<table border=\"1\" class=\"dataframe\">\n  <thead>\n    <tr style=\"text-align: right;\">\n      <th></th>\n      <th>Wings Joint</th>\n      <th>Accessories Store</th>\n      <th>Acehnese Restaurant</th>\n      <th>Airport Terminal</th>\n      <th>American Restaurant</th>\n      <th>Arcade</th>\n      <th>Art Gallery</th>\n      <th>Art Museum</th>\n      <th>Arts &amp; Crafts Store</th>\n      <th>Asian Restaurant</th>\n      <th>...</th>\n      <th>Track</th>\n      <th>Track Stadium</th>\n      <th>Trail</th>\n      <th>Train</th>\n      <th>Train Station</th>\n      <th>Udon Restaurant</th>\n      <th>University</th>\n      <th>Vegetarian / Vegan Restaurant</th>\n      <th>Vietnamese Restaurant</th>\n      <th>Wine Bar</th>\n    </tr>\n  </thead>\n  <tbody>\n    <tr>\n      <th>0</th>\n      <td>0</td>\n      <td>0</td>\n      <td>1</td>\n      <td>0</td>\n      <td>0</td>\n      <td>0</td>\n      <td>0</td>\n      <td>0</td>\n      <td>0</td>\n      <td>0</td>\n      <td>...</td>\n      <td>0</td>\n      <td>0</td>\n      <td>0</td>\n      <td>0</td>\n      <td>0</td>\n      <td>0</td>\n      <td>0</td>\n      <td>0</td>\n      <td>0</td>\n      <td>0</td>\n    </tr>\n    <tr>\n      <th>1</th>\n      <td>0</td>\n      <td>0</td>\n      <td>0</td>\n      <td>0</td>\n      <td>0</td>\n      <td>0</td>\n      <td>0</td>\n      <td>0</td>\n      <td>0</td>\n      <td>0</td>\n      <td>...</td>\n      <td>0</td>\n      <td>0</td>\n      <td>0</td>\n      <td>0</td>\n      <td>0</td>\n      <td>0</td>\n      <td>0</td>\n      <td>0</td>\n      <td>0</td>\n      <td>0</td>\n    </tr>\n    <tr>\n      <th>2</th>\n      <td>0</td>\n      <td>0</td>\n      <td>0</td>\n      <td>0</td>\n      <td>0</td>\n      <td>0</td>\n      <td>0</td>\n      <td>0</td>\n      <td>0</td>\n      <td>0</td>\n      <td>...</td>\n      <td>0</td>\n      <td>0</td>\n      <td>0</td>\n      <td>0</td>\n      <td>0</td>\n      <td>0</td>\n      <td>0</td>\n      <td>0</td>\n      <td>0</td>\n      <td>0</td>\n    </tr>\n    <tr>\n      <th>3</th>\n      <td>0</td>\n      <td>0</td>\n      <td>0</td>\n      <td>0</td>\n      <td>0</td>\n      <td>0</td>\n      <td>0</td>\n      <td>0</td>\n      <td>0</td>\n      <td>0</td>\n      <td>...</td>\n      <td>0</td>\n      <td>0</td>\n      <td>0</td>\n      <td>0</td>\n      <td>0</td>\n      <td>0</td>\n      <td>0</td>\n      <td>0</td>\n      <td>0</td>\n      <td>0</td>\n    </tr>\n    <tr>\n      <th>4</th>\n      <td>0</td>\n      <td>0</td>\n      <td>0</td>\n      <td>0</td>\n      <td>0</td>\n      <td>0</td>\n      <td>0</td>\n      <td>0</td>\n      <td>0</td>\n      <td>0</td>\n      <td>...</td>\n      <td>0</td>\n      <td>0</td>\n      <td>0</td>\n      <td>0</td>\n      <td>0</td>\n      <td>0</td>\n      <td>0</td>\n      <td>0</td>\n      <td>0</td>\n      <td>0</td>\n    </tr>\n  </tbody>\n</table>\n<p>5 rows × 141 columns</p>\n</div>"
     },
     "metadata": {},
     "execution_count": 37
    }
   ],
   "source": [
    "# one hot encoding\n",
    "jakarta_onehot = pd.get_dummies(jakarta_venues[['Venue Category']], prefix=\"\", prefix_sep=\"\")\n",
    "\n",
    "# add neighborhood column back to dataframe\n",
    "jakarta_onehot['Neighborhood'] = jakarta_venues['Neighborhood'] \n",
    "\n",
    "# move neighborhood column to the first column\n",
    "fixed_columns = [jakarta_onehot.columns[-1]] + list(jakarta_onehot.columns[:-1])\n",
    "jakarta_onehot = jakarta_onehot[fixed_columns]\n",
    "\n",
    "jakarta_onehot.head()"
   ]
  },
  {
   "cell_type": "code",
   "execution_count": 38,
   "metadata": {},
   "outputs": [
    {
     "output_type": "execute_result",
     "data": {
      "text/plain": [
       "(567, 141)"
      ]
     },
     "metadata": {},
     "execution_count": 38
    }
   ],
   "source": [
    "# Shape of jakarta_onehot\n",
    "jakarta_onehot.shape"
   ]
  },
  {
   "source": [
    "Group rows by neighborhood and by taking the mean of the frequency of occurrence of each category"
   ],
   "cell_type": "markdown",
   "metadata": {}
  },
  {
   "source": [
    "jakarta_grouped = jakarta_onehot.groupby('Neighborhood').mean().reset_index()\n",
    "jakarta_grouped.head()"
   ],
   "cell_type": "code",
   "metadata": {},
   "execution_count": 39,
   "outputs": [
    {
     "output_type": "execute_result",
     "data": {
      "text/plain": [
       "    Neighborhood  Wings Joint  Accessories Store  Acehnese Restaurant  \\\n",
       "0         Cakung          0.0                0.0             0.000000   \n",
       "1  Cempaka Putih          0.0                0.0             0.166667   \n",
       "2     Cengkareng          0.0                0.0             0.000000   \n",
       "3       Cilandak          0.0                0.0             0.000000   \n",
       "4      Cilincing          0.0                0.0             0.000000   \n",
       "\n",
       "   Airport Terminal  American Restaurant  Arcade  Art Gallery  Art Museum  \\\n",
       "0               0.0                  0.0     0.0          0.0         0.0   \n",
       "1               0.0                  0.0     0.0          0.0         0.0   \n",
       "2               0.0                  0.0     0.0          0.0         0.0   \n",
       "3               0.0                  0.0     0.0          0.0         0.0   \n",
       "4               0.0                  0.0     0.0          0.0         0.0   \n",
       "\n",
       "   Arts & Crafts Store  ...  Track  Track Stadium  Trail  Train  \\\n",
       "0                  0.0  ...    0.0            0.0    0.0    0.0   \n",
       "1                  0.0  ...    0.0            0.0    0.0    0.0   \n",
       "2                  0.0  ...    0.0            0.0    0.0    0.0   \n",
       "3                  0.0  ...    0.0            0.0    0.0    0.0   \n",
       "4                  0.0  ...    0.0            0.0    0.0    0.0   \n",
       "\n",
       "   Train Station  Udon Restaurant  University  Vegetarian / Vegan Restaurant  \\\n",
       "0            0.0              0.0         0.0                            0.0   \n",
       "1            0.0              0.0         0.0                            0.0   \n",
       "2            0.0              0.0         0.0                            0.0   \n",
       "3            0.0              0.0         0.0                            0.0   \n",
       "4            0.0              0.0         0.0                            0.0   \n",
       "\n",
       "   Vietnamese Restaurant  Wine Bar  \n",
       "0                    0.0       0.0  \n",
       "1                    0.0       0.0  \n",
       "2                    0.0       0.0  \n",
       "3                    0.0       0.0  \n",
       "4                    0.0       0.0  \n",
       "\n",
       "[5 rows x 141 columns]"
      ],
      "text/html": "<div>\n<style scoped>\n    .dataframe tbody tr th:only-of-type {\n        vertical-align: middle;\n    }\n\n    .dataframe tbody tr th {\n        vertical-align: top;\n    }\n\n    .dataframe thead th {\n        text-align: right;\n    }\n</style>\n<table border=\"1\" class=\"dataframe\">\n  <thead>\n    <tr style=\"text-align: right;\">\n      <th></th>\n      <th>Neighborhood</th>\n      <th>Wings Joint</th>\n      <th>Accessories Store</th>\n      <th>Acehnese Restaurant</th>\n      <th>Airport Terminal</th>\n      <th>American Restaurant</th>\n      <th>Arcade</th>\n      <th>Art Gallery</th>\n      <th>Art Museum</th>\n      <th>Arts &amp; Crafts Store</th>\n      <th>...</th>\n      <th>Track</th>\n      <th>Track Stadium</th>\n      <th>Trail</th>\n      <th>Train</th>\n      <th>Train Station</th>\n      <th>Udon Restaurant</th>\n      <th>University</th>\n      <th>Vegetarian / Vegan Restaurant</th>\n      <th>Vietnamese Restaurant</th>\n      <th>Wine Bar</th>\n    </tr>\n  </thead>\n  <tbody>\n    <tr>\n      <th>0</th>\n      <td>Cakung</td>\n      <td>0.0</td>\n      <td>0.0</td>\n      <td>0.000000</td>\n      <td>0.0</td>\n      <td>0.0</td>\n      <td>0.0</td>\n      <td>0.0</td>\n      <td>0.0</td>\n      <td>0.0</td>\n      <td>...</td>\n      <td>0.0</td>\n      <td>0.0</td>\n      <td>0.0</td>\n      <td>0.0</td>\n      <td>0.0</td>\n      <td>0.0</td>\n      <td>0.0</td>\n      <td>0.0</td>\n      <td>0.0</td>\n      <td>0.0</td>\n    </tr>\n    <tr>\n      <th>1</th>\n      <td>Cempaka Putih</td>\n      <td>0.0</td>\n      <td>0.0</td>\n      <td>0.166667</td>\n      <td>0.0</td>\n      <td>0.0</td>\n      <td>0.0</td>\n      <td>0.0</td>\n      <td>0.0</td>\n      <td>0.0</td>\n      <td>...</td>\n      <td>0.0</td>\n      <td>0.0</td>\n      <td>0.0</td>\n      <td>0.0</td>\n      <td>0.0</td>\n      <td>0.0</td>\n      <td>0.0</td>\n      <td>0.0</td>\n      <td>0.0</td>\n      <td>0.0</td>\n    </tr>\n    <tr>\n      <th>2</th>\n      <td>Cengkareng</td>\n      <td>0.0</td>\n      <td>0.0</td>\n      <td>0.000000</td>\n      <td>0.0</td>\n      <td>0.0</td>\n      <td>0.0</td>\n      <td>0.0</td>\n      <td>0.0</td>\n      <td>0.0</td>\n      <td>...</td>\n      <td>0.0</td>\n      <td>0.0</td>\n      <td>0.0</td>\n      <td>0.0</td>\n      <td>0.0</td>\n      <td>0.0</td>\n      <td>0.0</td>\n      <td>0.0</td>\n      <td>0.0</td>\n      <td>0.0</td>\n    </tr>\n    <tr>\n      <th>3</th>\n      <td>Cilandak</td>\n      <td>0.0</td>\n      <td>0.0</td>\n      <td>0.000000</td>\n      <td>0.0</td>\n      <td>0.0</td>\n      <td>0.0</td>\n      <td>0.0</td>\n      <td>0.0</td>\n      <td>0.0</td>\n      <td>...</td>\n      <td>0.0</td>\n      <td>0.0</td>\n      <td>0.0</td>\n      <td>0.0</td>\n      <td>0.0</td>\n      <td>0.0</td>\n      <td>0.0</td>\n      <td>0.0</td>\n      <td>0.0</td>\n      <td>0.0</td>\n    </tr>\n    <tr>\n      <th>4</th>\n      <td>Cilincing</td>\n      <td>0.0</td>\n      <td>0.0</td>\n      <td>0.000000</td>\n      <td>0.0</td>\n      <td>0.0</td>\n      <td>0.0</td>\n      <td>0.0</td>\n      <td>0.0</td>\n      <td>0.0</td>\n      <td>...</td>\n      <td>0.0</td>\n      <td>0.0</td>\n      <td>0.0</td>\n      <td>0.0</td>\n      <td>0.0</td>\n      <td>0.0</td>\n      <td>0.0</td>\n      <td>0.0</td>\n      <td>0.0</td>\n      <td>0.0</td>\n    </tr>\n  </tbody>\n</table>\n<p>5 rows × 141 columns</p>\n</div>"
     },
     "metadata": {},
     "execution_count": 39
    }
   ]
  },
  {
   "source": [
    "Create a pandas dataframe for each neighborhood with the top 10 most common venues"
   ],
   "cell_type": "markdown",
   "metadata": {}
  },
  {
   "cell_type": "code",
   "execution_count": 40,
   "metadata": {},
   "outputs": [],
   "source": [
    "def return_most_common_venues(row, num_top_venues):\n",
    "    row_categories = row.iloc[1:]\n",
    "    row_categories_sorted = row_categories.sort_values(ascending=False)\n",
    "    \n",
    "    return row_categories_sorted.index.values[0:num_top_venues]"
   ]
  },
  {
   "cell_type": "code",
   "execution_count": 41,
   "metadata": {},
   "outputs": [
    {
     "output_type": "execute_result",
     "data": {
      "text/plain": [
       "    Neighborhood 1st Most Common Venue  2nd Most Common Venue  \\\n",
       "0         Cakung                Lounge            Gas Station   \n",
       "1  Cempaka Putih           Pizza Place    Acehnese Restaurant   \n",
       "2     Cengkareng           Music Venue              Pet Store   \n",
       "3       Cilandak                   Gym  Indonesian Restaurant   \n",
       "4      Cilincing                  Park                  Diner   \n",
       "\n",
       "  3rd Most Common Venue      4th Most Common Venue 5th Most Common Venue  \n",
       "0              Wine Bar          French Restaurant            Food Stand  \n",
       "1                  Pool  Indonesian Meatball Place             BBQ Joint  \n",
       "2            Restaurant              Movie Theater     Electronics Store  \n",
       "3            Food Truck          Convenience Store           Pizza Place  \n",
       "4         Shopping Mall                   Wine Bar        Farmers Market  "
      ],
      "text/html": "<div>\n<style scoped>\n    .dataframe tbody tr th:only-of-type {\n        vertical-align: middle;\n    }\n\n    .dataframe tbody tr th {\n        vertical-align: top;\n    }\n\n    .dataframe thead th {\n        text-align: right;\n    }\n</style>\n<table border=\"1\" class=\"dataframe\">\n  <thead>\n    <tr style=\"text-align: right;\">\n      <th></th>\n      <th>Neighborhood</th>\n      <th>1st Most Common Venue</th>\n      <th>2nd Most Common Venue</th>\n      <th>3rd Most Common Venue</th>\n      <th>4th Most Common Venue</th>\n      <th>5th Most Common Venue</th>\n    </tr>\n  </thead>\n  <tbody>\n    <tr>\n      <th>0</th>\n      <td>Cakung</td>\n      <td>Lounge</td>\n      <td>Gas Station</td>\n      <td>Wine Bar</td>\n      <td>French Restaurant</td>\n      <td>Food Stand</td>\n    </tr>\n    <tr>\n      <th>1</th>\n      <td>Cempaka Putih</td>\n      <td>Pizza Place</td>\n      <td>Acehnese Restaurant</td>\n      <td>Pool</td>\n      <td>Indonesian Meatball Place</td>\n      <td>BBQ Joint</td>\n    </tr>\n    <tr>\n      <th>2</th>\n      <td>Cengkareng</td>\n      <td>Music Venue</td>\n      <td>Pet Store</td>\n      <td>Restaurant</td>\n      <td>Movie Theater</td>\n      <td>Electronics Store</td>\n    </tr>\n    <tr>\n      <th>3</th>\n      <td>Cilandak</td>\n      <td>Gym</td>\n      <td>Indonesian Restaurant</td>\n      <td>Food Truck</td>\n      <td>Convenience Store</td>\n      <td>Pizza Place</td>\n    </tr>\n    <tr>\n      <th>4</th>\n      <td>Cilincing</td>\n      <td>Park</td>\n      <td>Diner</td>\n      <td>Shopping Mall</td>\n      <td>Wine Bar</td>\n      <td>Farmers Market</td>\n    </tr>\n  </tbody>\n</table>\n</div>"
     },
     "metadata": {},
     "execution_count": 41
    }
   ],
   "source": [
    "num_top_venues = 5\n",
    "\n",
    "indicators = ['st', 'nd', 'rd']\n",
    "\n",
    "# create columns according to number of top venues\n",
    "columns = ['Neighborhood']\n",
    "for ind in np.arange(num_top_venues):\n",
    "    try:\n",
    "        columns.append('{}{} Most Common Venue'.format(ind+1, indicators[ind]))\n",
    "    except:\n",
    "        columns.append('{}th Most Common Venue'.format(ind+1))\n",
    "\n",
    "# create a new dataframe\n",
    "jakarta_neighborhoods_venues_sorted = pd.DataFrame(columns=columns)\n",
    "jakarta_neighborhoods_venues_sorted['Neighborhood'] = jakarta_grouped['Neighborhood']\n",
    "\n",
    "for ind in np.arange(jakarta_grouped.shape[0]):\n",
    "    jakarta_neighborhoods_venues_sorted.iloc[ind, 1:] = return_most_common_venues(jakarta_grouped.iloc[ind, :], num_top_venues)\n",
    "\n",
    "jakarta_neighborhoods_venues_sorted.head()\n"
   ]
  },
  {
   "cell_type": "code",
   "execution_count": 42,
   "metadata": {},
   "outputs": [
    {
     "output_type": "execute_result",
     "data": {
      "text/plain": [
       "(44, 6)"
      ]
     },
     "metadata": {},
     "execution_count": 42
    }
   ],
   "source": [
    "# shape\n",
    "jakarta_neighborhoods_venues_sorted.shape"
   ]
  },
  {
   "source": [
    "### One hot encoding for Surabaya venues "
   ],
   "cell_type": "markdown",
   "metadata": {}
  },
  {
   "cell_type": "code",
   "execution_count": 43,
   "metadata": {},
   "outputs": [
    {
     "output_type": "execute_result",
     "data": {
      "text/plain": [
       "  Neighborhood  Arcade  Asian Restaurant  Australian Restaurant  Bakery  \\\n",
       "0     Asemrowo       0                 0                      0       0   \n",
       "1       Benowo       0                 0                      0       0   \n",
       "2       Benowo       0                 0                      0       0   \n",
       "3       Benowo       0                 0                      0       0   \n",
       "4      Bubutan       0                 0                      0       0   \n",
       "\n",
       "   Balinese Restaurant  Basketball Court  Batik Shop  Beach  Bed & Breakfast  \\\n",
       "0                    0                 0           0      0                0   \n",
       "1                    0                 0           0      0                0   \n",
       "2                    0                 0           0      0                0   \n",
       "3                    0                 0           0      0                0   \n",
       "4                    0                 0           0      0                0   \n",
       "\n",
       "   ...  Soccer Field  Soccer Stadium  Soup Place  Sporting Goods Shop  \\\n",
       "0  ...             0               0           0                    0   \n",
       "1  ...             0               0           0                    0   \n",
       "2  ...             1               0           0                    0   \n",
       "3  ...             0               0           0                    0   \n",
       "4  ...             0               0           0                    0   \n",
       "\n",
       "   Steakhouse  Supermarket  Sushi Restaurant  Theme Park  \\\n",
       "0           0            0                 0           0   \n",
       "1           0            0                 0           0   \n",
       "2           0            0                 0           0   \n",
       "3           0            0                 0           0   \n",
       "4           0            0                 0           0   \n",
       "\n",
       "   Vegetarian / Vegan Restaurant  Wine Bar  \n",
       "0                              0         1  \n",
       "1                              0         0  \n",
       "2                              0         0  \n",
       "3                              0         0  \n",
       "4                              0         0  \n",
       "\n",
       "[5 rows x 77 columns]"
      ],
      "text/html": "<div>\n<style scoped>\n    .dataframe tbody tr th:only-of-type {\n        vertical-align: middle;\n    }\n\n    .dataframe tbody tr th {\n        vertical-align: top;\n    }\n\n    .dataframe thead th {\n        text-align: right;\n    }\n</style>\n<table border=\"1\" class=\"dataframe\">\n  <thead>\n    <tr style=\"text-align: right;\">\n      <th></th>\n      <th>Neighborhood</th>\n      <th>Arcade</th>\n      <th>Asian Restaurant</th>\n      <th>Australian Restaurant</th>\n      <th>Bakery</th>\n      <th>Balinese Restaurant</th>\n      <th>Basketball Court</th>\n      <th>Batik Shop</th>\n      <th>Beach</th>\n      <th>Bed &amp; Breakfast</th>\n      <th>...</th>\n      <th>Soccer Field</th>\n      <th>Soccer Stadium</th>\n      <th>Soup Place</th>\n      <th>Sporting Goods Shop</th>\n      <th>Steakhouse</th>\n      <th>Supermarket</th>\n      <th>Sushi Restaurant</th>\n      <th>Theme Park</th>\n      <th>Vegetarian / Vegan Restaurant</th>\n      <th>Wine Bar</th>\n    </tr>\n  </thead>\n  <tbody>\n    <tr>\n      <th>0</th>\n      <td>Asemrowo</td>\n      <td>0</td>\n      <td>0</td>\n      <td>0</td>\n      <td>0</td>\n      <td>0</td>\n      <td>0</td>\n      <td>0</td>\n      <td>0</td>\n      <td>0</td>\n      <td>...</td>\n      <td>0</td>\n      <td>0</td>\n      <td>0</td>\n      <td>0</td>\n      <td>0</td>\n      <td>0</td>\n      <td>0</td>\n      <td>0</td>\n      <td>0</td>\n      <td>1</td>\n    </tr>\n    <tr>\n      <th>1</th>\n      <td>Benowo</td>\n      <td>0</td>\n      <td>0</td>\n      <td>0</td>\n      <td>0</td>\n      <td>0</td>\n      <td>0</td>\n      <td>0</td>\n      <td>0</td>\n      <td>0</td>\n      <td>...</td>\n      <td>0</td>\n      <td>0</td>\n      <td>0</td>\n      <td>0</td>\n      <td>0</td>\n      <td>0</td>\n      <td>0</td>\n      <td>0</td>\n      <td>0</td>\n      <td>0</td>\n    </tr>\n    <tr>\n      <th>2</th>\n      <td>Benowo</td>\n      <td>0</td>\n      <td>0</td>\n      <td>0</td>\n      <td>0</td>\n      <td>0</td>\n      <td>0</td>\n      <td>0</td>\n      <td>0</td>\n      <td>0</td>\n      <td>...</td>\n      <td>1</td>\n      <td>0</td>\n      <td>0</td>\n      <td>0</td>\n      <td>0</td>\n      <td>0</td>\n      <td>0</td>\n      <td>0</td>\n      <td>0</td>\n      <td>0</td>\n    </tr>\n    <tr>\n      <th>3</th>\n      <td>Benowo</td>\n      <td>0</td>\n      <td>0</td>\n      <td>0</td>\n      <td>0</td>\n      <td>0</td>\n      <td>0</td>\n      <td>0</td>\n      <td>0</td>\n      <td>0</td>\n      <td>...</td>\n      <td>0</td>\n      <td>0</td>\n      <td>0</td>\n      <td>0</td>\n      <td>0</td>\n      <td>0</td>\n      <td>0</td>\n      <td>0</td>\n      <td>0</td>\n      <td>0</td>\n    </tr>\n    <tr>\n      <th>4</th>\n      <td>Bubutan</td>\n      <td>0</td>\n      <td>0</td>\n      <td>0</td>\n      <td>0</td>\n      <td>0</td>\n      <td>0</td>\n      <td>0</td>\n      <td>0</td>\n      <td>0</td>\n      <td>...</td>\n      <td>0</td>\n      <td>0</td>\n      <td>0</td>\n      <td>0</td>\n      <td>0</td>\n      <td>0</td>\n      <td>0</td>\n      <td>0</td>\n      <td>0</td>\n      <td>0</td>\n    </tr>\n  </tbody>\n</table>\n<p>5 rows × 77 columns</p>\n</div>"
     },
     "metadata": {},
     "execution_count": 43
    }
   ],
   "source": [
    "# one hot encoding\n",
    "surabaya_onehot = pd.get_dummies(surabaya_venues[['Venue Category']], prefix=\"\", prefix_sep=\"\")\n",
    "\n",
    "# add neighborhood column back to dataframe\n",
    "surabaya_onehot['Neighborhood'] = surabaya_venues['Neighborhood'] \n",
    "\n",
    "# move neighborhood column to the first column\n",
    "fixed_columns = [surabaya_onehot.columns[-1]] + list(surabaya_onehot.columns[:-1])\n",
    "surabaya_onehot = surabaya_onehot[fixed_columns]\n",
    "\n",
    "surabaya_onehot.head()"
   ]
  },
  {
   "cell_type": "code",
   "execution_count": 44,
   "metadata": {},
   "outputs": [
    {
     "output_type": "execute_result",
     "data": {
      "text/plain": [
       "(224, 77)"
      ]
     },
     "metadata": {},
     "execution_count": 44
    }
   ],
   "source": [
    "# Shape of surabaya_onehot\n",
    "surabaya_onehot.shape"
   ]
  },
  {
   "source": [
    "Group rows by neighborhood and by taking the mean of the frequency of occurrence of each category"
   ],
   "cell_type": "markdown",
   "metadata": {}
  },
  {
   "cell_type": "code",
   "execution_count": 45,
   "metadata": {},
   "outputs": [
    {
     "output_type": "execute_result",
     "data": {
      "text/plain": [
       "  Neighborhood  Arcade  Asian Restaurant  Australian Restaurant  Bakery  \\\n",
       "0     Asemrowo     0.0               0.0                    0.0     0.0   \n",
       "1       Benowo     0.0               0.0                    0.0     0.0   \n",
       "2      Bubutan     0.0               0.0                    0.0     0.0   \n",
       "3        Bulak     0.0               0.0                    0.0     0.0   \n",
       "4  Dukuh Pakis     0.0               0.0                    0.0     0.0   \n",
       "\n",
       "   Balinese Restaurant  Basketball Court  Batik Shop  Beach  Bed & Breakfast  \\\n",
       "0                  0.0               0.0         0.0  0.000              0.0   \n",
       "1                  0.0               0.0         0.0  0.000              0.0   \n",
       "2                  0.0               0.0         0.0  0.000              0.0   \n",
       "3                  0.0               0.0         0.0  0.375              0.0   \n",
       "4                  0.0               0.0         0.0  0.000              0.0   \n",
       "\n",
       "   ...  Soccer Field  Soccer Stadium  Soup Place  Sporting Goods Shop  \\\n",
       "0  ...      0.000000             0.0         0.0                  0.0   \n",
       "1  ...      0.333333             0.0         0.0                  0.0   \n",
       "2  ...      0.000000             0.0         0.0                  0.0   \n",
       "3  ...      0.000000             0.0         0.0                  0.0   \n",
       "4  ...      0.000000             0.0         0.0                  0.0   \n",
       "\n",
       "   Steakhouse  Supermarket  Sushi Restaurant  Theme Park  \\\n",
       "0         0.0     0.000000               0.0       0.000   \n",
       "1         0.0     0.000000               0.0       0.000   \n",
       "2         0.0     0.076923               0.0       0.000   \n",
       "3         0.0     0.000000               0.0       0.125   \n",
       "4         0.0     0.000000               0.0       0.000   \n",
       "\n",
       "   Vegetarian / Vegan Restaurant  Wine Bar  \n",
       "0                            0.0       1.0  \n",
       "1                            0.0       0.0  \n",
       "2                            0.0       0.0  \n",
       "3                            0.0       0.0  \n",
       "4                            0.0       0.0  \n",
       "\n",
       "[5 rows x 77 columns]"
      ],
      "text/html": "<div>\n<style scoped>\n    .dataframe tbody tr th:only-of-type {\n        vertical-align: middle;\n    }\n\n    .dataframe tbody tr th {\n        vertical-align: top;\n    }\n\n    .dataframe thead th {\n        text-align: right;\n    }\n</style>\n<table border=\"1\" class=\"dataframe\">\n  <thead>\n    <tr style=\"text-align: right;\">\n      <th></th>\n      <th>Neighborhood</th>\n      <th>Arcade</th>\n      <th>Asian Restaurant</th>\n      <th>Australian Restaurant</th>\n      <th>Bakery</th>\n      <th>Balinese Restaurant</th>\n      <th>Basketball Court</th>\n      <th>Batik Shop</th>\n      <th>Beach</th>\n      <th>Bed &amp; Breakfast</th>\n      <th>...</th>\n      <th>Soccer Field</th>\n      <th>Soccer Stadium</th>\n      <th>Soup Place</th>\n      <th>Sporting Goods Shop</th>\n      <th>Steakhouse</th>\n      <th>Supermarket</th>\n      <th>Sushi Restaurant</th>\n      <th>Theme Park</th>\n      <th>Vegetarian / Vegan Restaurant</th>\n      <th>Wine Bar</th>\n    </tr>\n  </thead>\n  <tbody>\n    <tr>\n      <th>0</th>\n      <td>Asemrowo</td>\n      <td>0.0</td>\n      <td>0.0</td>\n      <td>0.0</td>\n      <td>0.0</td>\n      <td>0.0</td>\n      <td>0.0</td>\n      <td>0.0</td>\n      <td>0.000</td>\n      <td>0.0</td>\n      <td>...</td>\n      <td>0.000000</td>\n      <td>0.0</td>\n      <td>0.0</td>\n      <td>0.0</td>\n      <td>0.0</td>\n      <td>0.000000</td>\n      <td>0.0</td>\n      <td>0.000</td>\n      <td>0.0</td>\n      <td>1.0</td>\n    </tr>\n    <tr>\n      <th>1</th>\n      <td>Benowo</td>\n      <td>0.0</td>\n      <td>0.0</td>\n      <td>0.0</td>\n      <td>0.0</td>\n      <td>0.0</td>\n      <td>0.0</td>\n      <td>0.0</td>\n      <td>0.000</td>\n      <td>0.0</td>\n      <td>...</td>\n      <td>0.333333</td>\n      <td>0.0</td>\n      <td>0.0</td>\n      <td>0.0</td>\n      <td>0.0</td>\n      <td>0.000000</td>\n      <td>0.0</td>\n      <td>0.000</td>\n      <td>0.0</td>\n      <td>0.0</td>\n    </tr>\n    <tr>\n      <th>2</th>\n      <td>Bubutan</td>\n      <td>0.0</td>\n      <td>0.0</td>\n      <td>0.0</td>\n      <td>0.0</td>\n      <td>0.0</td>\n      <td>0.0</td>\n      <td>0.0</td>\n      <td>0.000</td>\n      <td>0.0</td>\n      <td>...</td>\n      <td>0.000000</td>\n      <td>0.0</td>\n      <td>0.0</td>\n      <td>0.0</td>\n      <td>0.0</td>\n      <td>0.076923</td>\n      <td>0.0</td>\n      <td>0.000</td>\n      <td>0.0</td>\n      <td>0.0</td>\n    </tr>\n    <tr>\n      <th>3</th>\n      <td>Bulak</td>\n      <td>0.0</td>\n      <td>0.0</td>\n      <td>0.0</td>\n      <td>0.0</td>\n      <td>0.0</td>\n      <td>0.0</td>\n      <td>0.0</td>\n      <td>0.375</td>\n      <td>0.0</td>\n      <td>...</td>\n      <td>0.000000</td>\n      <td>0.0</td>\n      <td>0.0</td>\n      <td>0.0</td>\n      <td>0.0</td>\n      <td>0.000000</td>\n      <td>0.0</td>\n      <td>0.125</td>\n      <td>0.0</td>\n      <td>0.0</td>\n    </tr>\n    <tr>\n      <th>4</th>\n      <td>Dukuh Pakis</td>\n      <td>0.0</td>\n      <td>0.0</td>\n      <td>0.0</td>\n      <td>0.0</td>\n      <td>0.0</td>\n      <td>0.0</td>\n      <td>0.0</td>\n      <td>0.000</td>\n      <td>0.0</td>\n      <td>...</td>\n      <td>0.000000</td>\n      <td>0.0</td>\n      <td>0.0</td>\n      <td>0.0</td>\n      <td>0.0</td>\n      <td>0.000000</td>\n      <td>0.0</td>\n      <td>0.000</td>\n      <td>0.0</td>\n      <td>0.0</td>\n    </tr>\n  </tbody>\n</table>\n<p>5 rows × 77 columns</p>\n</div>"
     },
     "metadata": {},
     "execution_count": 45
    }
   ],
   "source": [
    "surabaya_grouped = surabaya_onehot.groupby('Neighborhood').mean().reset_index()\n",
    "surabaya_grouped.head()"
   ]
  },
  {
   "source": [
    "Create a pandas dataframe for each neighborhood with the top 10 most common venues"
   ],
   "cell_type": "markdown",
   "metadata": {}
  },
  {
   "cell_type": "code",
   "execution_count": 46,
   "metadata": {},
   "outputs": [
    {
     "output_type": "execute_result",
     "data": {
      "text/plain": [
       "  Neighborhood  1st Most Common Venue  2nd Most Common Venue  \\\n",
       "0     Asemrowo               Wine Bar      Fish & Chips Shop   \n",
       "1       Benowo             Shoe Store             Food Court   \n",
       "2      Bubutan  Indonesian Restaurant                  Hotel   \n",
       "3        Bulak                  Beach  Indonesian Restaurant   \n",
       "4  Dukuh Pakis      Convenience Store      Mobile Phone Shop   \n",
       "\n",
       "  3rd Most Common Venue 4th Most Common Venue 5th Most Common Venue  \n",
       "0          Dessert Shop                 Diner            Donut Shop  \n",
       "1          Soccer Field              Wine Bar          Dessert Shop  \n",
       "2             Multiplex            Donut Shop           Pizza Place  \n",
       "3            Food Truck     Fish & Chips Shop          Dessert Shop  \n",
       "4              Boutique  Fast Food Restaurant                 Diner  "
      ],
      "text/html": "<div>\n<style scoped>\n    .dataframe tbody tr th:only-of-type {\n        vertical-align: middle;\n    }\n\n    .dataframe tbody tr th {\n        vertical-align: top;\n    }\n\n    .dataframe thead th {\n        text-align: right;\n    }\n</style>\n<table border=\"1\" class=\"dataframe\">\n  <thead>\n    <tr style=\"text-align: right;\">\n      <th></th>\n      <th>Neighborhood</th>\n      <th>1st Most Common Venue</th>\n      <th>2nd Most Common Venue</th>\n      <th>3rd Most Common Venue</th>\n      <th>4th Most Common Venue</th>\n      <th>5th Most Common Venue</th>\n    </tr>\n  </thead>\n  <tbody>\n    <tr>\n      <th>0</th>\n      <td>Asemrowo</td>\n      <td>Wine Bar</td>\n      <td>Fish &amp; Chips Shop</td>\n      <td>Dessert Shop</td>\n      <td>Diner</td>\n      <td>Donut Shop</td>\n    </tr>\n    <tr>\n      <th>1</th>\n      <td>Benowo</td>\n      <td>Shoe Store</td>\n      <td>Food Court</td>\n      <td>Soccer Field</td>\n      <td>Wine Bar</td>\n      <td>Dessert Shop</td>\n    </tr>\n    <tr>\n      <th>2</th>\n      <td>Bubutan</td>\n      <td>Indonesian Restaurant</td>\n      <td>Hotel</td>\n      <td>Multiplex</td>\n      <td>Donut Shop</td>\n      <td>Pizza Place</td>\n    </tr>\n    <tr>\n      <th>3</th>\n      <td>Bulak</td>\n      <td>Beach</td>\n      <td>Indonesian Restaurant</td>\n      <td>Food Truck</td>\n      <td>Fish &amp; Chips Shop</td>\n      <td>Dessert Shop</td>\n    </tr>\n    <tr>\n      <th>4</th>\n      <td>Dukuh Pakis</td>\n      <td>Convenience Store</td>\n      <td>Mobile Phone Shop</td>\n      <td>Boutique</td>\n      <td>Fast Food Restaurant</td>\n      <td>Diner</td>\n    </tr>\n  </tbody>\n</table>\n</div>"
     },
     "metadata": {},
     "execution_count": 46
    }
   ],
   "source": [
    "# create a new dataframe\n",
    "surabaya_neighborhoods_venues_sorted = pd.DataFrame(columns=columns)\n",
    "surabaya_neighborhoods_venues_sorted['Neighborhood'] = surabaya_grouped['Neighborhood']\n",
    "\n",
    "for ind in np.arange(surabaya_grouped.shape[0]):\n",
    "    surabaya_neighborhoods_venues_sorted.iloc[ind, 1:] = return_most_common_venues(surabaya_grouped.iloc[ind, :], num_top_venues)\n",
    "\n",
    "surabaya_neighborhoods_venues_sorted.head()"
   ]
  },
  {
   "cell_type": "code",
   "execution_count": 47,
   "metadata": {},
   "outputs": [
    {
     "output_type": "execute_result",
     "data": {
      "text/plain": [
       "(29, 6)"
      ]
     },
     "metadata": {},
     "execution_count": 47
    }
   ],
   "source": [
    "# shape\n",
    "surabaya_neighborhoods_venues_sorted.shape"
   ]
  },
  {
   "cell_type": "code",
   "execution_count": 48,
   "metadata": {},
   "outputs": [],
   "source": [
    "# Save into csv for further use\n",
    "jakarta_grouped.to_csv('data/jakarta_grouped_onehot.csv')\n",
    "jakarta_neighborhoods_venues_sorted.to_csv('data/jakarta_neighborhoods_venues_sorted.csv')\n",
    "\n",
    "surabaya_grouped.to_csv('data/surabaya_grouped_onehot.csv')\n",
    "surabaya_neighborhoods_venues_sorted.to_csv('data/surabaya_neighborhoods_venues_sorted.csv')"
   ]
  },
  {
   "source": [
    "# 5. Modeling\n",
    "\n",
    "After we get data about top 10 most common venue for each neighborhood in Jakarta and Surabaya we can begin create a clustering model using **K-Means Clustering** library from Scikit-Learn\n",
    "\n",
    "We will run the K-Means Clustering to cluster and segment the neighborhood into 3 different clusters based on type of venues and places."
   ],
   "cell_type": "markdown",
   "metadata": {}
  },
  {
   "cell_type": "code",
   "execution_count": 49,
   "metadata": {},
   "outputs": [],
   "source": [
    "# set number of clusters\n",
    "kclusters = 5\n",
    "\n",
    "# instantiate kmeans model\n",
    "kmeans = KMeans(n_clusters=kclusters, random_state=0)"
   ]
  },
  {
   "source": [
    "## 5.1 Prepare the data (features) for modeling\n",
    "\n",
    "We will use grouped dataframe for Jakarta and Surabaya that is containing values of one hot encoded venues and places and drop 'Neighborhood' column that is contain Neighborhood name (string dtypes)"
   ],
   "cell_type": "markdown",
   "metadata": {}
  },
  {
   "cell_type": "code",
   "execution_count": 50,
   "metadata": {},
   "outputs": [],
   "source": [
    "# Jakarta data\n",
    "jakarta_cluster = jakarta_grouped.drop(columns=['Neighborhood'])\n",
    "\n",
    "# Surabaya data\n",
    "surabaya_cluster = surabaya_grouped.drop(columns=['Neighborhood'])"
   ]
  },
  {
   "source": [
    "## 5.2 Begin modeling"
   ],
   "cell_type": "markdown",
   "metadata": {}
  },
  {
   "source": [
    "### Clustering in Jakarta Neighborhood"
   ],
   "cell_type": "markdown",
   "metadata": {}
  },
  {
   "cell_type": "code",
   "execution_count": 51,
   "metadata": {},
   "outputs": [
    {
     "output_type": "execute_result",
     "data": {
      "text/plain": [
       "array([3, 3, 3, 3, 0, 3, 4, 3, 3, 3, 4, 3, 4, 3, 3, 3, 3, 4, 4, 3, 3, 2,\n",
       "       4, 4, 4, 4, 3, 3, 3, 3, 4, 3, 4, 3, 4, 4, 4, 4, 3, 3, 3, 4, 1, 4])"
      ]
     },
     "metadata": {},
     "execution_count": 51
    }
   ],
   "source": [
    "# fit the data\n",
    "jakarta_kmmeans = kmeans.fit(jakarta_cluster)\n",
    "\n",
    "# check cluster labels generated for each row in the dataframe\n",
    "jakarta_kmmeans.labels_"
   ]
  },
  {
   "cell_type": "code",
   "execution_count": 52,
   "metadata": {},
   "outputs": [
    {
     "output_type": "execute_result",
     "data": {
      "text/plain": [
       "    Neighborhood             Town  Latitude   Longitude  Cluster Labels  \\\n",
       "0  Cempaka Putih  Central Jakarta -6.181214  106.868548               3   \n",
       "1         Gambir  Central Jakarta -6.176684  106.830653               3   \n",
       "2     Johar Baru  Central Jakarta -6.183125  106.855332               4   \n",
       "3      Kemayoran  Central Jakarta -6.162546  106.856890               4   \n",
       "4        Menteng  Central Jakarta -6.195026  106.832224               3   \n",
       "\n",
       "   1st Most Common Venue 2nd Most Common Venue  3rd Most Common Venue  \\\n",
       "0            Pizza Place   Acehnese Restaurant                   Pool   \n",
       "1  Indonesian Restaurant                  Park            Coffee Shop   \n",
       "2             Food Truck     Convenience Store                 Arcade   \n",
       "3                  Diner                Arcade  Indonesian Restaurant   \n",
       "4  Indonesian Restaurant        Breakfast Spot            Coffee Shop   \n",
       "\n",
       "       4th Most Common Venue 5th Most Common Venue  \n",
       "0  Indonesian Meatball Place             BBQ Joint  \n",
       "1       Fast Food Restaurant            Food Court  \n",
       "2      Indonesian Restaurant    Italian Restaurant  \n",
       "3               Noodle House              Wine Bar  \n",
       "4                       Park      Sushi Restaurant  "
      ],
      "text/html": "<div>\n<style scoped>\n    .dataframe tbody tr th:only-of-type {\n        vertical-align: middle;\n    }\n\n    .dataframe tbody tr th {\n        vertical-align: top;\n    }\n\n    .dataframe thead th {\n        text-align: right;\n    }\n</style>\n<table border=\"1\" class=\"dataframe\">\n  <thead>\n    <tr style=\"text-align: right;\">\n      <th></th>\n      <th>Neighborhood</th>\n      <th>Town</th>\n      <th>Latitude</th>\n      <th>Longitude</th>\n      <th>Cluster Labels</th>\n      <th>1st Most Common Venue</th>\n      <th>2nd Most Common Venue</th>\n      <th>3rd Most Common Venue</th>\n      <th>4th Most Common Venue</th>\n      <th>5th Most Common Venue</th>\n    </tr>\n  </thead>\n  <tbody>\n    <tr>\n      <th>0</th>\n      <td>Cempaka Putih</td>\n      <td>Central Jakarta</td>\n      <td>-6.181214</td>\n      <td>106.868548</td>\n      <td>3</td>\n      <td>Pizza Place</td>\n      <td>Acehnese Restaurant</td>\n      <td>Pool</td>\n      <td>Indonesian Meatball Place</td>\n      <td>BBQ Joint</td>\n    </tr>\n    <tr>\n      <th>1</th>\n      <td>Gambir</td>\n      <td>Central Jakarta</td>\n      <td>-6.176684</td>\n      <td>106.830653</td>\n      <td>3</td>\n      <td>Indonesian Restaurant</td>\n      <td>Park</td>\n      <td>Coffee Shop</td>\n      <td>Fast Food Restaurant</td>\n      <td>Food Court</td>\n    </tr>\n    <tr>\n      <th>2</th>\n      <td>Johar Baru</td>\n      <td>Central Jakarta</td>\n      <td>-6.183125</td>\n      <td>106.855332</td>\n      <td>4</td>\n      <td>Food Truck</td>\n      <td>Convenience Store</td>\n      <td>Arcade</td>\n      <td>Indonesian Restaurant</td>\n      <td>Italian Restaurant</td>\n    </tr>\n    <tr>\n      <th>3</th>\n      <td>Kemayoran</td>\n      <td>Central Jakarta</td>\n      <td>-6.162546</td>\n      <td>106.856890</td>\n      <td>4</td>\n      <td>Diner</td>\n      <td>Arcade</td>\n      <td>Indonesian Restaurant</td>\n      <td>Noodle House</td>\n      <td>Wine Bar</td>\n    </tr>\n    <tr>\n      <th>4</th>\n      <td>Menteng</td>\n      <td>Central Jakarta</td>\n      <td>-6.195026</td>\n      <td>106.832224</td>\n      <td>3</td>\n      <td>Indonesian Restaurant</td>\n      <td>Breakfast Spot</td>\n      <td>Coffee Shop</td>\n      <td>Park</td>\n      <td>Sushi Restaurant</td>\n    </tr>\n  </tbody>\n</table>\n</div>"
     },
     "metadata": {},
     "execution_count": 52
    }
   ],
   "source": [
    "# add clustering labels\n",
    "jakarta_neighborhoods_venues_sorted.insert(0, 'Cluster Labels', kmeans.labels_)\n",
    "\n",
    "jakarta_merged = jakarta_df\n",
    "\n",
    "# merge jakarta_grouped with neighborhood_df to add latitude/longitude for each neighborhood\n",
    "jakarta_merged = jakarta_merged.join(jakarta_neighborhoods_venues_sorted.set_index('Neighborhood'), on='Neighborhood')\n",
    "\n",
    "jakarta_merged.head() "
   ]
  },
  {
   "cell_type": "code",
   "execution_count": 53,
   "metadata": {},
   "outputs": [
    {
     "output_type": "execute_result",
     "data": {
      "text/plain": [
       "0"
      ]
     },
     "metadata": {},
     "execution_count": 53
    }
   ],
   "source": [
    "# Check na value for 'Cluster Label'\n",
    "jakarta_merged['Cluster Labels'].isna().sum()"
   ]
  },
  {
   "source": [
    "### Clustering in Surabaya Neighborhood"
   ],
   "cell_type": "markdown",
   "metadata": {}
  },
  {
   "cell_type": "code",
   "execution_count": 54,
   "metadata": {},
   "outputs": [
    {
     "output_type": "execute_result",
     "data": {
      "text/plain": [
       "array([4, 1, 1, 1, 0, 0, 1, 1, 0, 3, 1, 0, 2, 1, 1, 1, 0, 1, 2, 1, 1, 2,\n",
       "       2, 1, 1, 1, 1, 1, 2])"
      ]
     },
     "metadata": {},
     "execution_count": 54
    }
   ],
   "source": [
    "# fit the data\n",
    "surabaya_kmmeans = kmeans.fit(surabaya_cluster)\n",
    "\n",
    "# check cluster labels generated for each row in the dataframe\n",
    "surabaya_kmmeans.labels_"
   ]
  },
  {
   "cell_type": "code",
   "execution_count": 55,
   "metadata": {},
   "outputs": [
    {
     "output_type": "execute_result",
     "data": {
      "text/plain": [
       "  Neighborhood      Town  Latitude   Longitude  Cluster Labels  \\\n",
       "0     Asemrowo  Surabaya -7.241740  112.688802             4.0   \n",
       "1       Benowo  Surabaya -7.229055  112.649775             1.0   \n",
       "2      Bubutan  Surabaya -7.252671  112.730062             1.0   \n",
       "3        Bulak  Surabaya -7.228354  112.787631             1.0   \n",
       "4  Dukuh Pakis  Surabaya -7.293024  112.695125             0.0   \n",
       "\n",
       "   1st Most Common Venue  2nd Most Common Venue 3rd Most Common Venue  \\\n",
       "0               Wine Bar      Fish & Chips Shop          Dessert Shop   \n",
       "1             Shoe Store             Food Court          Soccer Field   \n",
       "2  Indonesian Restaurant                  Hotel             Multiplex   \n",
       "3                  Beach  Indonesian Restaurant            Food Truck   \n",
       "4      Convenience Store      Mobile Phone Shop              Boutique   \n",
       "\n",
       "  4th Most Common Venue 5th Most Common Venue  \n",
       "0                 Diner            Donut Shop  \n",
       "1              Wine Bar          Dessert Shop  \n",
       "2            Donut Shop           Pizza Place  \n",
       "3     Fish & Chips Shop          Dessert Shop  \n",
       "4  Fast Food Restaurant                 Diner  "
      ],
      "text/html": "<div>\n<style scoped>\n    .dataframe tbody tr th:only-of-type {\n        vertical-align: middle;\n    }\n\n    .dataframe tbody tr th {\n        vertical-align: top;\n    }\n\n    .dataframe thead th {\n        text-align: right;\n    }\n</style>\n<table border=\"1\" class=\"dataframe\">\n  <thead>\n    <tr style=\"text-align: right;\">\n      <th></th>\n      <th>Neighborhood</th>\n      <th>Town</th>\n      <th>Latitude</th>\n      <th>Longitude</th>\n      <th>Cluster Labels</th>\n      <th>1st Most Common Venue</th>\n      <th>2nd Most Common Venue</th>\n      <th>3rd Most Common Venue</th>\n      <th>4th Most Common Venue</th>\n      <th>5th Most Common Venue</th>\n    </tr>\n  </thead>\n  <tbody>\n    <tr>\n      <th>0</th>\n      <td>Asemrowo</td>\n      <td>Surabaya</td>\n      <td>-7.241740</td>\n      <td>112.688802</td>\n      <td>4.0</td>\n      <td>Wine Bar</td>\n      <td>Fish &amp; Chips Shop</td>\n      <td>Dessert Shop</td>\n      <td>Diner</td>\n      <td>Donut Shop</td>\n    </tr>\n    <tr>\n      <th>1</th>\n      <td>Benowo</td>\n      <td>Surabaya</td>\n      <td>-7.229055</td>\n      <td>112.649775</td>\n      <td>1.0</td>\n      <td>Shoe Store</td>\n      <td>Food Court</td>\n      <td>Soccer Field</td>\n      <td>Wine Bar</td>\n      <td>Dessert Shop</td>\n    </tr>\n    <tr>\n      <th>2</th>\n      <td>Bubutan</td>\n      <td>Surabaya</td>\n      <td>-7.252671</td>\n      <td>112.730062</td>\n      <td>1.0</td>\n      <td>Indonesian Restaurant</td>\n      <td>Hotel</td>\n      <td>Multiplex</td>\n      <td>Donut Shop</td>\n      <td>Pizza Place</td>\n    </tr>\n    <tr>\n      <th>3</th>\n      <td>Bulak</td>\n      <td>Surabaya</td>\n      <td>-7.228354</td>\n      <td>112.787631</td>\n      <td>1.0</td>\n      <td>Beach</td>\n      <td>Indonesian Restaurant</td>\n      <td>Food Truck</td>\n      <td>Fish &amp; Chips Shop</td>\n      <td>Dessert Shop</td>\n    </tr>\n    <tr>\n      <th>4</th>\n      <td>Dukuh Pakis</td>\n      <td>Surabaya</td>\n      <td>-7.293024</td>\n      <td>112.695125</td>\n      <td>0.0</td>\n      <td>Convenience Store</td>\n      <td>Mobile Phone Shop</td>\n      <td>Boutique</td>\n      <td>Fast Food Restaurant</td>\n      <td>Diner</td>\n    </tr>\n  </tbody>\n</table>\n</div>"
     },
     "metadata": {},
     "execution_count": 55
    }
   ],
   "source": [
    "# add clustering labels\n",
    "surabaya_neighborhoods_venues_sorted.insert(0, 'Cluster Labels', kmeans.labels_)\n",
    "\n",
    "surabaya_merged = surabaya_df\n",
    "\n",
    "# merge surabaya_grouped with neighborhood_df to add latitude/longitude for each neighborhood\n",
    "surabaya_merged = surabaya_merged.join(surabaya_neighborhoods_venues_sorted.set_index('Neighborhood'), on='Neighborhood')\n",
    "\n",
    "surabaya_merged.head() "
   ]
  },
  {
   "cell_type": "code",
   "execution_count": 56,
   "metadata": {},
   "outputs": [
    {
     "output_type": "execute_result",
     "data": {
      "text/plain": [
       "2"
      ]
     },
     "metadata": {},
     "execution_count": 56
    }
   ],
   "source": [
    "# Check na value for 'Cluster Label'\n",
    "surabaya_merged['Cluster Labels'].isna().sum()"
   ]
  },
  {
   "cell_type": "code",
   "execution_count": 57,
   "metadata": {},
   "outputs": [],
   "source": [
    "# drop NA value\n",
    "surabaya_merged.dropna(subset=['Cluster Labels'], inplace=True)"
   ]
  },
  {
   "source": [
    "Shape for each dataframe and save dataframe as csv for further use"
   ],
   "cell_type": "markdown",
   "metadata": {}
  },
  {
   "cell_type": "code",
   "execution_count": 58,
   "metadata": {},
   "outputs": [
    {
     "output_type": "stream",
     "name": "stdout",
     "text": [
      "Shape of jakarta_merged : (44, 10)\nShape of surabaya_merged : (29, 10)\n"
     ]
    }
   ],
   "source": [
    "# shape of jakarta_merged and surabaya_merged\n",
    "print(f'Shape of jakarta_merged : {jakarta_merged.shape}')\n",
    "print(f'Shape of surabaya_merged : {surabaya_merged.shape}')\n",
    "\n",
    "# save dataframe as csv\n",
    "jakarta_merged.to_csv('data/jakarta_clustering.csv')\n",
    "surabaya_merged.to_csv('data/surabaya_clustering.csv')"
   ]
  },
  {
   "source": [
    "## 5.3 Visualizing the clusters"
   ],
   "cell_type": "markdown",
   "metadata": {}
  },
  {
   "source": [
    "### Jakarta Clusters"
   ],
   "cell_type": "markdown",
   "metadata": {}
  },
  {
   "cell_type": "code",
   "execution_count": 59,
   "metadata": {},
   "outputs": [
    {
     "output_type": "execute_result",
     "data": {
      "text/plain": [
       "<folium.folium.Map at 0x15be6af5ee0>"
      ],
      "text/html": "<div style=\"width:100%;\"><div style=\"position:relative;width:100%;height:0;padding-bottom:60%;\"><span style=\"color:#565656\">Make this Notebook Trusted to load map: File -> Trust Notebook</span><iframe src=\"about:blank\" style=\"position:absolute;width:100%;height:100%;left:0;top:0;border:none !important;\" data-html=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 onload=\"this.contentDocument.open();this.contentDocument.write(atob(this.getAttribute('data-html')));this.contentDocument.close();\" allowfullscreen webkitallowfullscreen mozallowfullscreen></iframe></div></div>"
     },
     "metadata": {},
     "execution_count": 59
    }
   ],
   "source": [
    "# create map\n",
    "jakarta_map_clusters = folium.Map(location=[jakarta_latitude, jakarta_longitude], zoom_start=11)\n",
    "\n",
    "# set color scheme for the clusters\n",
    "x = np.arange(kclusters)\n",
    "ys = [i + x + (i*x)**2 for i in range(kclusters)]\n",
    "colors_array = cm.rainbow(np.linspace(0, 1, len(ys)))\n",
    "rainbow = [colors.rgb2hex(i) for i in colors_array]\n",
    "\n",
    "# add markers to the map\n",
    "markers_colors = []\n",
    "for lat, lon, poi, cluster in zip(jakarta_merged['Latitude'], jakarta_merged['Longitude'], jakarta_merged['Neighborhood'], jakarta_merged['Cluster Labels']):\n",
    "    label = folium.Popup(str(poi) + ' Cluster ' + str(cluster), parse_html=True)\n",
    "    folium.CircleMarker(\n",
    "        [lat, lon],\n",
    "        radius=5,\n",
    "        popup=label,\n",
    "        color=rainbow[int(cluster-1)],\n",
    "        fill=True,\n",
    "        fill_color=rainbow[int(cluster-1)],\n",
    "        fill_opacity=0.7).add_to(jakarta_map_clusters)\n",
    "       \n",
    "jakarta_map_clusters"
   ]
  },
  {
   "source": [
    "### Surabaya Clusters"
   ],
   "cell_type": "markdown",
   "metadata": {}
  },
  {
   "cell_type": "code",
   "execution_count": 60,
   "metadata": {},
   "outputs": [
    {
     "output_type": "execute_result",
     "data": {
      "text/plain": [
       "<folium.folium.Map at 0x15be6af5c40>"
      ],
      "text/html": "<div style=\"width:100%;\"><div style=\"position:relative;width:100%;height:0;padding-bottom:60%;\"><span style=\"color:#565656\">Make this Notebook Trusted to load map: File -> Trust Notebook</span><iframe src=\"about:blank\" style=\"position:absolute;width:100%;height:100%;left:0;top:0;border:none !important;\" data-html=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 onload=\"this.contentDocument.open();this.contentDocument.write(atob(this.getAttribute('data-html')));this.contentDocument.close();\" allowfullscreen webkitallowfullscreen mozallowfullscreen></iframe></div></div>"
     },
     "metadata": {},
     "execution_count": 60
    }
   ],
   "source": [
    "# create map\n",
    "surabaya_map_clusters = folium.Map(location=[surabaya_latitude, surabaya_longitude], zoom_start=11)\n",
    "\n",
    "# set color scheme for the clusters\n",
    "x = np.arange(kclusters)\n",
    "ys = [i + x + (i*x)**2 for i in range(kclusters)]\n",
    "colors_array = cm.rainbow(np.linspace(0, 1, len(ys)))\n",
    "rainbow = [colors.rgb2hex(i) for i in colors_array]\n",
    "\n",
    "# add markers to the map\n",
    "markers_colors = []\n",
    "for lat, lon, poi, cluster in zip(surabaya_merged['Latitude'], surabaya_merged['Longitude'], surabaya_merged['Neighborhood'], surabaya_merged['Cluster Labels']):\n",
    "    label = folium.Popup(str(poi) + ' Cluster ' + str(cluster), parse_html=True)\n",
    "    folium.CircleMarker(\n",
    "        [lat, lon],\n",
    "        radius=5,\n",
    "        popup=label,\n",
    "        color=rainbow[int(cluster-1)],\n",
    "        fill=True,\n",
    "        fill_color=rainbow[int(cluster-1)],\n",
    "        fill_opacity=0.7).add_to(surabaya_map_clusters)\n",
    "       \n",
    "surabaya_map_clusters"
   ]
  },
  {
   "source": [
    "# 6. Results and Discussion\n",
    "\n",
    "In this section we will see the clusters results from Jakarta Neighborhood and Surabaya Neighborhood."
   ],
   "cell_type": "markdown",
   "metadata": {}
  },
  {
   "source": [
    "## 6.1 Results in Jakarta Neighborhood"
   ],
   "cell_type": "markdown",
   "metadata": {}
  },
  {
   "source": [
    "### Cluster 1\n",
    "\n",
    "In this cluster we can see there is only "
   ],
   "cell_type": "markdown",
   "metadata": {}
  },
  {
   "cell_type": "code",
   "execution_count": 75,
   "metadata": {},
   "outputs": [
    {
     "output_type": "execute_result",
     "data": {
      "text/plain": [
       "  Neighborhood 1st Most Common Venue 2nd Most Common Venue  \\\n",
       "9    Cilincing                  Park                 Diner   \n",
       "\n",
       "  3rd Most Common Venue 4th Most Common Venue 5th Most Common Venue  \n",
       "9         Shopping Mall              Wine Bar        Farmers Market  "
      ],
      "text/html": "<div>\n<style scoped>\n    .dataframe tbody tr th:only-of-type {\n        vertical-align: middle;\n    }\n\n    .dataframe tbody tr th {\n        vertical-align: top;\n    }\n\n    .dataframe thead th {\n        text-align: right;\n    }\n</style>\n<table border=\"1\" class=\"dataframe\">\n  <thead>\n    <tr style=\"text-align: right;\">\n      <th></th>\n      <th>Neighborhood</th>\n      <th>1st Most Common Venue</th>\n      <th>2nd Most Common Venue</th>\n      <th>3rd Most Common Venue</th>\n      <th>4th Most Common Venue</th>\n      <th>5th Most Common Venue</th>\n    </tr>\n  </thead>\n  <tbody>\n    <tr>\n      <th>9</th>\n      <td>Cilincing</td>\n      <td>Park</td>\n      <td>Diner</td>\n      <td>Shopping Mall</td>\n      <td>Wine Bar</td>\n      <td>Farmers Market</td>\n    </tr>\n  </tbody>\n</table>\n</div>"
     },
     "metadata": {},
     "execution_count": 75
    }
   ],
   "source": [
    "jakarta_merged.loc[jakarta_merged['Cluster Labels'] == 0, jakarta_merged.columns[[0] + list(range(5, jakarta_merged.shape[1]))]]"
   ]
  },
  {
   "source": [
    "### Cluster 2\n",
    "\n",
    "In this cluster we can see"
   ],
   "cell_type": "markdown",
   "metadata": {}
  },
  {
   "cell_type": "code",
   "execution_count": 72,
   "metadata": {},
   "outputs": [
    {
     "output_type": "execute_result",
     "data": {
      "text/plain": [
       "     Neighborhood 1st Most Common Venue 2nd Most Common Venue  \\\n",
       "14  Tanjung Priok                Bakery              Wine Bar   \n",
       "\n",
       "   3rd Most Common Venue 4th Most Common Venue 5th Most Common Venue  \n",
       "14    Frozen Yogurt Shop     French Restaurant            Food Truck  "
      ],
      "text/html": "<div>\n<style scoped>\n    .dataframe tbody tr th:only-of-type {\n        vertical-align: middle;\n    }\n\n    .dataframe tbody tr th {\n        vertical-align: top;\n    }\n\n    .dataframe thead th {\n        text-align: right;\n    }\n</style>\n<table border=\"1\" class=\"dataframe\">\n  <thead>\n    <tr style=\"text-align: right;\">\n      <th></th>\n      <th>Neighborhood</th>\n      <th>1st Most Common Venue</th>\n      <th>2nd Most Common Venue</th>\n      <th>3rd Most Common Venue</th>\n      <th>4th Most Common Venue</th>\n      <th>5th Most Common Venue</th>\n    </tr>\n  </thead>\n  <tbody>\n    <tr>\n      <th>14</th>\n      <td>Tanjung Priok</td>\n      <td>Bakery</td>\n      <td>Wine Bar</td>\n      <td>Frozen Yogurt Shop</td>\n      <td>French Restaurant</td>\n      <td>Food Truck</td>\n    </tr>\n  </tbody>\n</table>\n</div>"
     },
     "metadata": {},
     "execution_count": 72
    }
   ],
   "source": [
    "jakarta_merged.loc[jakarta_merged['Cluster Labels'] == 1, jakarta_merged.columns[[0] + list(range(5, jakarta_merged.shape[1]))]]"
   ]
  },
  {
   "source": [
    "### Cluster 3\n",
    "\n",
    "In this cluster we can see"
   ],
   "cell_type": "markdown",
   "metadata": {}
  },
  {
   "cell_type": "code",
   "execution_count": 73,
   "metadata": {},
   "outputs": [
    {
     "output_type": "execute_result",
     "data": {
      "text/plain": [
       "              Neighborhood 1st Most Common Venue 2nd Most Common Venue  \\\n",
       "47  Kepulauan Seribu Utara                Resort              Wine Bar   \n",
       "\n",
       "   3rd Most Common Venue 4th Most Common Venue 5th Most Common Venue  \n",
       "47     Electronics Store            Food Stand            Food Court  "
      ],
      "text/html": "<div>\n<style scoped>\n    .dataframe tbody tr th:only-of-type {\n        vertical-align: middle;\n    }\n\n    .dataframe tbody tr th {\n        vertical-align: top;\n    }\n\n    .dataframe thead th {\n        text-align: right;\n    }\n</style>\n<table border=\"1\" class=\"dataframe\">\n  <thead>\n    <tr style=\"text-align: right;\">\n      <th></th>\n      <th>Neighborhood</th>\n      <th>1st Most Common Venue</th>\n      <th>2nd Most Common Venue</th>\n      <th>3rd Most Common Venue</th>\n      <th>4th Most Common Venue</th>\n      <th>5th Most Common Venue</th>\n    </tr>\n  </thead>\n  <tbody>\n    <tr>\n      <th>47</th>\n      <td>Kepulauan Seribu Utara</td>\n      <td>Resort</td>\n      <td>Wine Bar</td>\n      <td>Electronics Store</td>\n      <td>Food Stand</td>\n      <td>Food Court</td>\n    </tr>\n  </tbody>\n</table>\n</div>"
     },
     "metadata": {},
     "execution_count": 73
    }
   ],
   "source": [
    "jakarta_merged.loc[jakarta_merged['Cluster Labels'] == 2, jakarta_merged.columns[[0] + list(range(5, jakarta_merged.shape[1]))]]"
   ]
  },
  {
   "source": [
    "### Cluster 4\n",
    "\n",
    "In this cluster we can see"
   ],
   "cell_type": "markdown",
   "metadata": {}
  },
  {
   "cell_type": "code",
   "execution_count": 74,
   "metadata": {},
   "outputs": [
    {
     "output_type": "execute_result",
     "data": {
      "text/plain": [
       "                Neighborhood      1st Most Common Venue  \\\n",
       "0              Cempaka Putih                Pizza Place   \n",
       "1                     Gambir      Indonesian Restaurant   \n",
       "4                    Menteng      Indonesian Restaurant   \n",
       "12                Pademangan                      Hotel   \n",
       "13               Penjaringan                   Boutique   \n",
       "16                    Cakung                     Lounge   \n",
       "17                  Cipayung                       Food   \n",
       "19               Duren Sawit  Indonesian Meatball Place   \n",
       "20                Jatinegara              Jewelry Store   \n",
       "23                  Matraman          Convenience Store   \n",
       "27                  Cilandak                        Gym   \n",
       "29            Kebayoran Baru                Coffee Shop   \n",
       "30            Kebayoran Lama                Coffee Shop   \n",
       "33              Pasar Minggu        Japanese Restaurant   \n",
       "35                 Setiabudi                Coffee Shop   \n",
       "38                Cengkareng                Music Venue   \n",
       "39         Grogol Petamburan               Noodle House   \n",
       "40                Taman Sari         Chinese Restaurant   \n",
       "41                   Tambora                 Food Truck   \n",
       "42               Kebon Jeruk               Noodle House   \n",
       "43                 Kalideres          Convenience Store   \n",
       "44                  Palmerah                Pizza Place   \n",
       "45                 Kembangan                Pizza Place   \n",
       "48  Kepulauan Seribu Selatan              Boat or Ferry   \n",
       "\n",
       "    2nd Most Common Venue  3rd Most Common Venue      4th Most Common Venue  \\\n",
       "0     Acehnese Restaurant                   Pool  Indonesian Meatball Place   \n",
       "1                    Park            Coffee Shop       Fast Food Restaurant   \n",
       "4          Breakfast Spot            Coffee Shop                       Park   \n",
       "12                   Pool          Bowling Alley                 Theme Park   \n",
       "13             Theme Park              Gift Shop              Grocery Store   \n",
       "16            Gas Station               Wine Bar          French Restaurant   \n",
       "17       Asian Restaurant               Wine Bar         Frozen Yogurt Shop   \n",
       "19      Convenience Store            Coffee Shop   Mediterranean Restaurant   \n",
       "20       Asian Restaurant    Arts & Crafts Store                 Donut Shop   \n",
       "23            Pizza Place      Electronics Store                 Food Stand   \n",
       "27  Indonesian Restaurant             Food Truck          Convenience Store   \n",
       "29    Japanese Restaurant       Sushi Restaurant                 Food Truck   \n",
       "30                 Bakery         Clothing Store              Shopping Mall   \n",
       "33       Asian Restaurant            Bus Station                Music Store   \n",
       "35                  Hotel            Pizza Place      Vietnamese Restaurant   \n",
       "38              Pet Store             Restaurant              Movie Theater   \n",
       "39     Chinese Restaurant  Indonesian Restaurant                      Hotel   \n",
       "40       Asian Restaurant                  Hotel                Karaoke Bar   \n",
       "41      Convenience Store          Tanning Salon           Department Store   \n",
       "42           Concert Hall       Asian Restaurant                       Park   \n",
       "43  Indonesian Restaurant           Soccer Field        Fried Chicken Joint   \n",
       "44       Asian Restaurant           Noodle House                Coffee Shop   \n",
       "45       Asian Restaurant                   Park  Indonesian Meatball Place   \n",
       "48         Clothing Store   Fast Food Restaurant          French Restaurant   \n",
       "\n",
       "            5th Most Common Venue  \n",
       "0                       BBQ Joint  \n",
       "1                      Food Court  \n",
       "4                Sushi Restaurant  \n",
       "12  Vegetarian / Vegan Restaurant  \n",
       "13                     Food Truck  \n",
       "16                     Food Stand  \n",
       "17              French Restaurant  \n",
       "19                       Wine Bar  \n",
       "20                     Food Truck  \n",
       "23                     Food Court  \n",
       "27                    Pizza Place  \n",
       "29                          Hotel  \n",
       "30               Satay Restaurant  \n",
       "33           Fast Food Restaurant  \n",
       "35                           Café  \n",
       "38              Electronics Store  \n",
       "39               Asian Restaurant  \n",
       "40                     Restaurant  \n",
       "41                  Train Station  \n",
       "42          Indonesian Restaurant  \n",
       "43               Asian Restaurant  \n",
       "44                 Medical Center  \n",
       "45                Bubble Tea Shop  \n",
       "48                     Food Truck  "
      ],
      "text/html": "<div>\n<style scoped>\n    .dataframe tbody tr th:only-of-type {\n        vertical-align: middle;\n    }\n\n    .dataframe tbody tr th {\n        vertical-align: top;\n    }\n\n    .dataframe thead th {\n        text-align: right;\n    }\n</style>\n<table border=\"1\" class=\"dataframe\">\n  <thead>\n    <tr style=\"text-align: right;\">\n      <th></th>\n      <th>Neighborhood</th>\n      <th>1st Most Common Venue</th>\n      <th>2nd Most Common Venue</th>\n      <th>3rd Most Common Venue</th>\n      <th>4th Most Common Venue</th>\n      <th>5th Most Common Venue</th>\n    </tr>\n  </thead>\n  <tbody>\n    <tr>\n      <th>0</th>\n      <td>Cempaka Putih</td>\n      <td>Pizza Place</td>\n      <td>Acehnese Restaurant</td>\n      <td>Pool</td>\n      <td>Indonesian Meatball Place</td>\n      <td>BBQ Joint</td>\n    </tr>\n    <tr>\n      <th>1</th>\n      <td>Gambir</td>\n      <td>Indonesian Restaurant</td>\n      <td>Park</td>\n      <td>Coffee Shop</td>\n      <td>Fast Food Restaurant</td>\n      <td>Food Court</td>\n    </tr>\n    <tr>\n      <th>4</th>\n      <td>Menteng</td>\n      <td>Indonesian Restaurant</td>\n      <td>Breakfast Spot</td>\n      <td>Coffee Shop</td>\n      <td>Park</td>\n      <td>Sushi Restaurant</td>\n    </tr>\n    <tr>\n      <th>12</th>\n      <td>Pademangan</td>\n      <td>Hotel</td>\n      <td>Pool</td>\n      <td>Bowling Alley</td>\n      <td>Theme Park</td>\n      <td>Vegetarian / Vegan Restaurant</td>\n    </tr>\n    <tr>\n      <th>13</th>\n      <td>Penjaringan</td>\n      <td>Boutique</td>\n      <td>Theme Park</td>\n      <td>Gift Shop</td>\n      <td>Grocery Store</td>\n      <td>Food Truck</td>\n    </tr>\n    <tr>\n      <th>16</th>\n      <td>Cakung</td>\n      <td>Lounge</td>\n      <td>Gas Station</td>\n      <td>Wine Bar</td>\n      <td>French Restaurant</td>\n      <td>Food Stand</td>\n    </tr>\n    <tr>\n      <th>17</th>\n      <td>Cipayung</td>\n      <td>Food</td>\n      <td>Asian Restaurant</td>\n      <td>Wine Bar</td>\n      <td>Frozen Yogurt Shop</td>\n      <td>French Restaurant</td>\n    </tr>\n    <tr>\n      <th>19</th>\n      <td>Duren Sawit</td>\n      <td>Indonesian Meatball Place</td>\n      <td>Convenience Store</td>\n      <td>Coffee Shop</td>\n      <td>Mediterranean Restaurant</td>\n      <td>Wine Bar</td>\n    </tr>\n    <tr>\n      <th>20</th>\n      <td>Jatinegara</td>\n      <td>Jewelry Store</td>\n      <td>Asian Restaurant</td>\n      <td>Arts &amp; Crafts Store</td>\n      <td>Donut Shop</td>\n      <td>Food Truck</td>\n    </tr>\n    <tr>\n      <th>23</th>\n      <td>Matraman</td>\n      <td>Convenience Store</td>\n      <td>Pizza Place</td>\n      <td>Electronics Store</td>\n      <td>Food Stand</td>\n      <td>Food Court</td>\n    </tr>\n    <tr>\n      <th>27</th>\n      <td>Cilandak</td>\n      <td>Gym</td>\n      <td>Indonesian Restaurant</td>\n      <td>Food Truck</td>\n      <td>Convenience Store</td>\n      <td>Pizza Place</td>\n    </tr>\n    <tr>\n      <th>29</th>\n      <td>Kebayoran Baru</td>\n      <td>Coffee Shop</td>\n      <td>Japanese Restaurant</td>\n      <td>Sushi Restaurant</td>\n      <td>Food Truck</td>\n      <td>Hotel</td>\n    </tr>\n    <tr>\n      <th>30</th>\n      <td>Kebayoran Lama</td>\n      <td>Coffee Shop</td>\n      <td>Bakery</td>\n      <td>Clothing Store</td>\n      <td>Shopping Mall</td>\n      <td>Satay Restaurant</td>\n    </tr>\n    <tr>\n      <th>33</th>\n      <td>Pasar Minggu</td>\n      <td>Japanese Restaurant</td>\n      <td>Asian Restaurant</td>\n      <td>Bus Station</td>\n      <td>Music Store</td>\n      <td>Fast Food Restaurant</td>\n    </tr>\n    <tr>\n      <th>35</th>\n      <td>Setiabudi</td>\n      <td>Coffee Shop</td>\n      <td>Hotel</td>\n      <td>Pizza Place</td>\n      <td>Vietnamese Restaurant</td>\n      <td>Café</td>\n    </tr>\n    <tr>\n      <th>38</th>\n      <td>Cengkareng</td>\n      <td>Music Venue</td>\n      <td>Pet Store</td>\n      <td>Restaurant</td>\n      <td>Movie Theater</td>\n      <td>Electronics Store</td>\n    </tr>\n    <tr>\n      <th>39</th>\n      <td>Grogol Petamburan</td>\n      <td>Noodle House</td>\n      <td>Chinese Restaurant</td>\n      <td>Indonesian Restaurant</td>\n      <td>Hotel</td>\n      <td>Asian Restaurant</td>\n    </tr>\n    <tr>\n      <th>40</th>\n      <td>Taman Sari</td>\n      <td>Chinese Restaurant</td>\n      <td>Asian Restaurant</td>\n      <td>Hotel</td>\n      <td>Karaoke Bar</td>\n      <td>Restaurant</td>\n    </tr>\n    <tr>\n      <th>41</th>\n      <td>Tambora</td>\n      <td>Food Truck</td>\n      <td>Convenience Store</td>\n      <td>Tanning Salon</td>\n      <td>Department Store</td>\n      <td>Train Station</td>\n    </tr>\n    <tr>\n      <th>42</th>\n      <td>Kebon Jeruk</td>\n      <td>Noodle House</td>\n      <td>Concert Hall</td>\n      <td>Asian Restaurant</td>\n      <td>Park</td>\n      <td>Indonesian Restaurant</td>\n    </tr>\n    <tr>\n      <th>43</th>\n      <td>Kalideres</td>\n      <td>Convenience Store</td>\n      <td>Indonesian Restaurant</td>\n      <td>Soccer Field</td>\n      <td>Fried Chicken Joint</td>\n      <td>Asian Restaurant</td>\n    </tr>\n    <tr>\n      <th>44</th>\n      <td>Palmerah</td>\n      <td>Pizza Place</td>\n      <td>Asian Restaurant</td>\n      <td>Noodle House</td>\n      <td>Coffee Shop</td>\n      <td>Medical Center</td>\n    </tr>\n    <tr>\n      <th>45</th>\n      <td>Kembangan</td>\n      <td>Pizza Place</td>\n      <td>Asian Restaurant</td>\n      <td>Park</td>\n      <td>Indonesian Meatball Place</td>\n      <td>Bubble Tea Shop</td>\n    </tr>\n    <tr>\n      <th>48</th>\n      <td>Kepulauan Seribu Selatan</td>\n      <td>Boat or Ferry</td>\n      <td>Clothing Store</td>\n      <td>Fast Food Restaurant</td>\n      <td>French Restaurant</td>\n      <td>Food Truck</td>\n    </tr>\n  </tbody>\n</table>\n</div>"
     },
     "metadata": {},
     "execution_count": 74
    }
   ],
   "source": [
    "jakarta_merged.loc[jakarta_merged['Cluster Labels'] == 3, jakarta_merged.columns[[0] + list(range(5, jakarta_merged.shape[1]))]]"
   ]
  },
  {
   "source": [
    "### Cluster 5\n",
    "\n",
    "In this cluster we can see"
   ],
   "cell_type": "markdown",
   "metadata": {}
  },
  {
   "cell_type": "code",
   "execution_count": 76,
   "metadata": {},
   "outputs": [
    {
     "output_type": "execute_result",
     "data": {
      "text/plain": [
       "        Neighborhood  1st Most Common Venue  2nd Most Common Venue  \\\n",
       "2         Johar Baru             Food Truck      Convenience Store   \n",
       "3          Kemayoran                  Diner                 Arcade   \n",
       "5        Sawah Besar  Indonesian Restaurant              Pet Store   \n",
       "6              Senen                  Hotel  Indonesian Restaurant   \n",
       "7        Tanah Abang  Indonesian Restaurant            Coffee Shop   \n",
       "10     Kelapa Gading  Indonesian Restaurant       Asian Restaurant   \n",
       "11              Koja            Pizza Place  Indonesian Restaurant   \n",
       "18           Ciracas           Noodle House  Indonesian Restaurant   \n",
       "21       Kramat Jati               Hospital  Indonesian Restaurant   \n",
       "22           Makasar  Indonesian Restaurant       Airport Terminal   \n",
       "24        Pasar Rebo            Karaoke Bar           Burger Joint   \n",
       "25       Pulo Gadung  Indonesian Restaurant      Convenience Store   \n",
       "28         Jagakarsa  Indonesian Restaurant       Asian Restaurant   \n",
       "31  Mampang Prapatan  Indonesian Restaurant           Noodle House   \n",
       "32          Pancoran  Indonesian Restaurant  Padangnese Restaurant   \n",
       "34      Pesanggrahan      Convenience Store                   Pier   \n",
       "36             Tebet  Indonesian Restaurant                   Café   \n",
       "\n",
       "    3rd Most Common Venue  4th Most Common Venue 5th Most Common Venue  \n",
       "2                  Arcade  Indonesian Restaurant    Italian Restaurant  \n",
       "3   Indonesian Restaurant           Noodle House              Wine Bar  \n",
       "5       Convenience Store           Noodle House      Asian Restaurant  \n",
       "6           Grocery Store         History Museum            University  \n",
       "7      Seafood Restaurant            Pizza Place          Noodle House  \n",
       "10             Steakhouse      Korean Restaurant   Japanese Restaurant  \n",
       "11             Restaurant          Grocery Store            Donut Shop  \n",
       "18            Golf Course         Farmers Market            Food Stand  \n",
       "21     Seafood Restaurant     Chinese Restaurant          Noodle House  \n",
       "22       Asian Restaurant               Wine Bar        Farmers Market  \n",
       "24                 Bakery  Indonesian Restaurant         Grocery Store  \n",
       "25            Pizza Place                   Café    Athletics & Sports  \n",
       "28             Food Court                 Arcade                   Gym  \n",
       "31                   Park      Electronics Store            Food Stand  \n",
       "32       Asian Restaurant   Fast Food Restaurant            Restaurant  \n",
       "34  Indonesian Restaurant                    Gym            Restaurant  \n",
       "36                 Bakery       Asian Restaurant            Restaurant  "
      ],
      "text/html": "<div>\n<style scoped>\n    .dataframe tbody tr th:only-of-type {\n        vertical-align: middle;\n    }\n\n    .dataframe tbody tr th {\n        vertical-align: top;\n    }\n\n    .dataframe thead th {\n        text-align: right;\n    }\n</style>\n<table border=\"1\" class=\"dataframe\">\n  <thead>\n    <tr style=\"text-align: right;\">\n      <th></th>\n      <th>Neighborhood</th>\n      <th>1st Most Common Venue</th>\n      <th>2nd Most Common Venue</th>\n      <th>3rd Most Common Venue</th>\n      <th>4th Most Common Venue</th>\n      <th>5th Most Common Venue</th>\n    </tr>\n  </thead>\n  <tbody>\n    <tr>\n      <th>2</th>\n      <td>Johar Baru</td>\n      <td>Food Truck</td>\n      <td>Convenience Store</td>\n      <td>Arcade</td>\n      <td>Indonesian Restaurant</td>\n      <td>Italian Restaurant</td>\n    </tr>\n    <tr>\n      <th>3</th>\n      <td>Kemayoran</td>\n      <td>Diner</td>\n      <td>Arcade</td>\n      <td>Indonesian Restaurant</td>\n      <td>Noodle House</td>\n      <td>Wine Bar</td>\n    </tr>\n    <tr>\n      <th>5</th>\n      <td>Sawah Besar</td>\n      <td>Indonesian Restaurant</td>\n      <td>Pet Store</td>\n      <td>Convenience Store</td>\n      <td>Noodle House</td>\n      <td>Asian Restaurant</td>\n    </tr>\n    <tr>\n      <th>6</th>\n      <td>Senen</td>\n      <td>Hotel</td>\n      <td>Indonesian Restaurant</td>\n      <td>Grocery Store</td>\n      <td>History Museum</td>\n      <td>University</td>\n    </tr>\n    <tr>\n      <th>7</th>\n      <td>Tanah Abang</td>\n      <td>Indonesian Restaurant</td>\n      <td>Coffee Shop</td>\n      <td>Seafood Restaurant</td>\n      <td>Pizza Place</td>\n      <td>Noodle House</td>\n    </tr>\n    <tr>\n      <th>10</th>\n      <td>Kelapa Gading</td>\n      <td>Indonesian Restaurant</td>\n      <td>Asian Restaurant</td>\n      <td>Steakhouse</td>\n      <td>Korean Restaurant</td>\n      <td>Japanese Restaurant</td>\n    </tr>\n    <tr>\n      <th>11</th>\n      <td>Koja</td>\n      <td>Pizza Place</td>\n      <td>Indonesian Restaurant</td>\n      <td>Restaurant</td>\n      <td>Grocery Store</td>\n      <td>Donut Shop</td>\n    </tr>\n    <tr>\n      <th>18</th>\n      <td>Ciracas</td>\n      <td>Noodle House</td>\n      <td>Indonesian Restaurant</td>\n      <td>Golf Course</td>\n      <td>Farmers Market</td>\n      <td>Food Stand</td>\n    </tr>\n    <tr>\n      <th>21</th>\n      <td>Kramat Jati</td>\n      <td>Hospital</td>\n      <td>Indonesian Restaurant</td>\n      <td>Seafood Restaurant</td>\n      <td>Chinese Restaurant</td>\n      <td>Noodle House</td>\n    </tr>\n    <tr>\n      <th>22</th>\n      <td>Makasar</td>\n      <td>Indonesian Restaurant</td>\n      <td>Airport Terminal</td>\n      <td>Asian Restaurant</td>\n      <td>Wine Bar</td>\n      <td>Farmers Market</td>\n    </tr>\n    <tr>\n      <th>24</th>\n      <td>Pasar Rebo</td>\n      <td>Karaoke Bar</td>\n      <td>Burger Joint</td>\n      <td>Bakery</td>\n      <td>Indonesian Restaurant</td>\n      <td>Grocery Store</td>\n    </tr>\n    <tr>\n      <th>25</th>\n      <td>Pulo Gadung</td>\n      <td>Indonesian Restaurant</td>\n      <td>Convenience Store</td>\n      <td>Pizza Place</td>\n      <td>Café</td>\n      <td>Athletics &amp; Sports</td>\n    </tr>\n    <tr>\n      <th>28</th>\n      <td>Jagakarsa</td>\n      <td>Indonesian Restaurant</td>\n      <td>Asian Restaurant</td>\n      <td>Food Court</td>\n      <td>Arcade</td>\n      <td>Gym</td>\n    </tr>\n    <tr>\n      <th>31</th>\n      <td>Mampang Prapatan</td>\n      <td>Indonesian Restaurant</td>\n      <td>Noodle House</td>\n      <td>Park</td>\n      <td>Electronics Store</td>\n      <td>Food Stand</td>\n    </tr>\n    <tr>\n      <th>32</th>\n      <td>Pancoran</td>\n      <td>Indonesian Restaurant</td>\n      <td>Padangnese Restaurant</td>\n      <td>Asian Restaurant</td>\n      <td>Fast Food Restaurant</td>\n      <td>Restaurant</td>\n    </tr>\n    <tr>\n      <th>34</th>\n      <td>Pesanggrahan</td>\n      <td>Convenience Store</td>\n      <td>Pier</td>\n      <td>Indonesian Restaurant</td>\n      <td>Gym</td>\n      <td>Restaurant</td>\n    </tr>\n    <tr>\n      <th>36</th>\n      <td>Tebet</td>\n      <td>Indonesian Restaurant</td>\n      <td>Café</td>\n      <td>Bakery</td>\n      <td>Asian Restaurant</td>\n      <td>Restaurant</td>\n    </tr>\n  </tbody>\n</table>\n</div>"
     },
     "metadata": {},
     "execution_count": 76
    }
   ],
   "source": [
    "jakarta_merged.loc[jakarta_merged['Cluster Labels'] == 4, jakarta_merged.columns[[0] + list(range(5, jakarta_merged.shape[1]))]]"
   ]
  },
  {
   "source": [
    "## 6.2 Results in Surabaya Neighborhood"
   ],
   "cell_type": "markdown",
   "metadata": {}
  },
  {
   "source": [
    "### Cluster 1\n",
    "\n",
    "In this cluster we can see"
   ],
   "cell_type": "markdown",
   "metadata": {}
  },
  {
   "cell_type": "code",
   "execution_count": 77,
   "metadata": {},
   "outputs": [
    {
     "output_type": "execute_result",
     "data": {
      "text/plain": [
       "   Neighborhood 1st Most Common Venue 2nd Most Common Venue  \\\n",
       "4   Dukuh Pakis     Convenience Store     Mobile Phone Shop   \n",
       "5      Gayungan      Asian Restaurant     Convenience Store   \n",
       "9     Jambangan           Coffee Shop     Convenience Store   \n",
       "12   Krembangan     Convenience Store        Farmers Market   \n",
       "17      Rungkut     Convenience Store           Coffee Shop   \n",
       "\n",
       "   3rd Most Common Venue 4th Most Common Venue 5th Most Common Venue  \n",
       "4               Boutique  Fast Food Restaurant                 Diner  \n",
       "5                  Hotel                  Café              Boutique  \n",
       "9       Asian Restaurant            Food Truck     Fish & Chips Shop  \n",
       "12                Museum           Coffee Shop            Food Truck  \n",
       "17         Grocery Store  Fast Food Restaurant          Dessert Shop  "
      ],
      "text/html": "<div>\n<style scoped>\n    .dataframe tbody tr th:only-of-type {\n        vertical-align: middle;\n    }\n\n    .dataframe tbody tr th {\n        vertical-align: top;\n    }\n\n    .dataframe thead th {\n        text-align: right;\n    }\n</style>\n<table border=\"1\" class=\"dataframe\">\n  <thead>\n    <tr style=\"text-align: right;\">\n      <th></th>\n      <th>Neighborhood</th>\n      <th>1st Most Common Venue</th>\n      <th>2nd Most Common Venue</th>\n      <th>3rd Most Common Venue</th>\n      <th>4th Most Common Venue</th>\n      <th>5th Most Common Venue</th>\n    </tr>\n  </thead>\n  <tbody>\n    <tr>\n      <th>4</th>\n      <td>Dukuh Pakis</td>\n      <td>Convenience Store</td>\n      <td>Mobile Phone Shop</td>\n      <td>Boutique</td>\n      <td>Fast Food Restaurant</td>\n      <td>Diner</td>\n    </tr>\n    <tr>\n      <th>5</th>\n      <td>Gayungan</td>\n      <td>Asian Restaurant</td>\n      <td>Convenience Store</td>\n      <td>Hotel</td>\n      <td>Café</td>\n      <td>Boutique</td>\n    </tr>\n    <tr>\n      <th>9</th>\n      <td>Jambangan</td>\n      <td>Coffee Shop</td>\n      <td>Convenience Store</td>\n      <td>Asian Restaurant</td>\n      <td>Food Truck</td>\n      <td>Fish &amp; Chips Shop</td>\n    </tr>\n    <tr>\n      <th>12</th>\n      <td>Krembangan</td>\n      <td>Convenience Store</td>\n      <td>Farmers Market</td>\n      <td>Museum</td>\n      <td>Coffee Shop</td>\n      <td>Food Truck</td>\n    </tr>\n    <tr>\n      <th>17</th>\n      <td>Rungkut</td>\n      <td>Convenience Store</td>\n      <td>Coffee Shop</td>\n      <td>Grocery Store</td>\n      <td>Fast Food Restaurant</td>\n      <td>Dessert Shop</td>\n    </tr>\n  </tbody>\n</table>\n</div>"
     },
     "metadata": {},
     "execution_count": 77
    }
   ],
   "source": [
    "surabaya_merged.loc[surabaya_merged['Cluster Labels'] == 0, surabaya_merged.columns[[0] + list(range(5, surabaya_merged.shape[1]))]]"
   ]
  },
  {
   "source": [
    "### Cluster 2\n",
    "\n",
    "In this cluster we can see"
   ],
   "cell_type": "markdown",
   "metadata": {}
  },
  {
   "cell_type": "code",
   "execution_count": 78,
   "metadata": {},
   "outputs": [
    {
     "output_type": "execute_result",
     "data": {
      "text/plain": [
       "        Neighborhood  1st Most Common Venue   2nd Most Common Venue  \\\n",
       "1             Benowo             Shoe Store              Food Court   \n",
       "2            Bubutan  Indonesian Restaurant                   Hotel   \n",
       "3              Bulak                  Beach   Indonesian Restaurant   \n",
       "6            Genteng             Soup Place  Furniture / Home Store   \n",
       "7             Gubeng  Indonesian Restaurant              Food Truck   \n",
       "11          Kenjeran             Food Court             Pizza Place   \n",
       "14         Mulyorejo  Indonesian Restaurant             Coffee Shop   \n",
       "15    Pabean Cantian  Indonesian Restaurant          History Museum   \n",
       "16             Pakal             Campground                Wine Bar   \n",
       "18        Sambikerep             Food Truck   Indonesian Restaurant   \n",
       "20          Semampir           Noodle House                    Food   \n",
       "21         Simokerto     Seafood Restaurant        Basketball Court   \n",
       "24        Tambaksari      Convenience Store   Indonesian Restaurant   \n",
       "26         Tegalsari      Convenience Store   Indonesian Restaurant   \n",
       "27  Tenggilis Mejoyo  Indonesian Restaurant              Food Truck   \n",
       "28            Wiyung                 Arcade                   Diner   \n",
       "29          Wonocolo      Convenience Store                  Bakery   \n",
       "\n",
       "   3rd Most Common Venue 4th Most Common Venue 5th Most Common Venue  \n",
       "1           Soccer Field              Wine Bar          Dessert Shop  \n",
       "2              Multiplex            Donut Shop           Pizza Place  \n",
       "3             Food Truck     Fish & Chips Shop          Dessert Shop  \n",
       "6                   Park        Breakfast Spot       Bed & Breakfast  \n",
       "7      Electronics Store    Chinese Restaurant                  Café  \n",
       "11                Mosque     Mobile Phone Shop              Wine Bar  \n",
       "14     Convenience Store           Pizza Place     Mobile Phone Shop  \n",
       "15            Food Truck                  Café        Farmers Market  \n",
       "16     Fish & Chips Shop                 Diner            Donut Shop  \n",
       "18              Wine Bar  Fast Food Restaurant          Dessert Shop  \n",
       "20              Wine Bar  Fast Food Restaurant          Dessert Shop  \n",
       "21                Arcade           Coffee Shop                Market  \n",
       "24      Asian Restaurant                Bakery          Noodle House  \n",
       "26             Pool Hall          Noodle House     Convention Center  \n",
       "27         Grocery Store   Sporting Goods Shop                 Hotel  \n",
       "28              Hospital                  Café        Breakfast Spot  \n",
       "29                  Café   Dumpling Restaurant             Pool Hall  "
      ],
      "text/html": "<div>\n<style scoped>\n    .dataframe tbody tr th:only-of-type {\n        vertical-align: middle;\n    }\n\n    .dataframe tbody tr th {\n        vertical-align: top;\n    }\n\n    .dataframe thead th {\n        text-align: right;\n    }\n</style>\n<table border=\"1\" class=\"dataframe\">\n  <thead>\n    <tr style=\"text-align: right;\">\n      <th></th>\n      <th>Neighborhood</th>\n      <th>1st Most Common Venue</th>\n      <th>2nd Most Common Venue</th>\n      <th>3rd Most Common Venue</th>\n      <th>4th Most Common Venue</th>\n      <th>5th Most Common Venue</th>\n    </tr>\n  </thead>\n  <tbody>\n    <tr>\n      <th>1</th>\n      <td>Benowo</td>\n      <td>Shoe Store</td>\n      <td>Food Court</td>\n      <td>Soccer Field</td>\n      <td>Wine Bar</td>\n      <td>Dessert Shop</td>\n    </tr>\n    <tr>\n      <th>2</th>\n      <td>Bubutan</td>\n      <td>Indonesian Restaurant</td>\n      <td>Hotel</td>\n      <td>Multiplex</td>\n      <td>Donut Shop</td>\n      <td>Pizza Place</td>\n    </tr>\n    <tr>\n      <th>3</th>\n      <td>Bulak</td>\n      <td>Beach</td>\n      <td>Indonesian Restaurant</td>\n      <td>Food Truck</td>\n      <td>Fish &amp; Chips Shop</td>\n      <td>Dessert Shop</td>\n    </tr>\n    <tr>\n      <th>6</th>\n      <td>Genteng</td>\n      <td>Soup Place</td>\n      <td>Furniture / Home Store</td>\n      <td>Park</td>\n      <td>Breakfast Spot</td>\n      <td>Bed &amp; Breakfast</td>\n    </tr>\n    <tr>\n      <th>7</th>\n      <td>Gubeng</td>\n      <td>Indonesian Restaurant</td>\n      <td>Food Truck</td>\n      <td>Electronics Store</td>\n      <td>Chinese Restaurant</td>\n      <td>Café</td>\n    </tr>\n    <tr>\n      <th>11</th>\n      <td>Kenjeran</td>\n      <td>Food Court</td>\n      <td>Pizza Place</td>\n      <td>Mosque</td>\n      <td>Mobile Phone Shop</td>\n      <td>Wine Bar</td>\n    </tr>\n    <tr>\n      <th>14</th>\n      <td>Mulyorejo</td>\n      <td>Indonesian Restaurant</td>\n      <td>Coffee Shop</td>\n      <td>Convenience Store</td>\n      <td>Pizza Place</td>\n      <td>Mobile Phone Shop</td>\n    </tr>\n    <tr>\n      <th>15</th>\n      <td>Pabean Cantian</td>\n      <td>Indonesian Restaurant</td>\n      <td>History Museum</td>\n      <td>Food Truck</td>\n      <td>Café</td>\n      <td>Farmers Market</td>\n    </tr>\n    <tr>\n      <th>16</th>\n      <td>Pakal</td>\n      <td>Campground</td>\n      <td>Wine Bar</td>\n      <td>Fish &amp; Chips Shop</td>\n      <td>Diner</td>\n      <td>Donut Shop</td>\n    </tr>\n    <tr>\n      <th>18</th>\n      <td>Sambikerep</td>\n      <td>Food Truck</td>\n      <td>Indonesian Restaurant</td>\n      <td>Wine Bar</td>\n      <td>Fast Food Restaurant</td>\n      <td>Dessert Shop</td>\n    </tr>\n    <tr>\n      <th>20</th>\n      <td>Semampir</td>\n      <td>Noodle House</td>\n      <td>Food</td>\n      <td>Wine Bar</td>\n      <td>Fast Food Restaurant</td>\n      <td>Dessert Shop</td>\n    </tr>\n    <tr>\n      <th>21</th>\n      <td>Simokerto</td>\n      <td>Seafood Restaurant</td>\n      <td>Basketball Court</td>\n      <td>Arcade</td>\n      <td>Coffee Shop</td>\n      <td>Market</td>\n    </tr>\n    <tr>\n      <th>24</th>\n      <td>Tambaksari</td>\n      <td>Convenience Store</td>\n      <td>Indonesian Restaurant</td>\n      <td>Asian Restaurant</td>\n      <td>Bakery</td>\n      <td>Noodle House</td>\n    </tr>\n    <tr>\n      <th>26</th>\n      <td>Tegalsari</td>\n      <td>Convenience Store</td>\n      <td>Indonesian Restaurant</td>\n      <td>Pool Hall</td>\n      <td>Noodle House</td>\n      <td>Convention Center</td>\n    </tr>\n    <tr>\n      <th>27</th>\n      <td>Tenggilis Mejoyo</td>\n      <td>Indonesian Restaurant</td>\n      <td>Food Truck</td>\n      <td>Grocery Store</td>\n      <td>Sporting Goods Shop</td>\n      <td>Hotel</td>\n    </tr>\n    <tr>\n      <th>28</th>\n      <td>Wiyung</td>\n      <td>Arcade</td>\n      <td>Diner</td>\n      <td>Hospital</td>\n      <td>Café</td>\n      <td>Breakfast Spot</td>\n    </tr>\n    <tr>\n      <th>29</th>\n      <td>Wonocolo</td>\n      <td>Convenience Store</td>\n      <td>Bakery</td>\n      <td>Café</td>\n      <td>Dumpling Restaurant</td>\n      <td>Pool Hall</td>\n    </tr>\n  </tbody>\n</table>\n</div>"
     },
     "metadata": {},
     "execution_count": 78
    }
   ],
   "source": [
    "surabaya_merged.loc[surabaya_merged['Cluster Labels'] == 1, surabaya_merged.columns[[0] + list(range(5, surabaya_merged.shape[1]))]]"
   ]
  },
  {
   "source": [
    "### Cluster 3\n",
    "\n",
    "In this cluster we can see"
   ],
   "cell_type": "markdown",
   "metadata": {}
  },
  {
   "cell_type": "code",
   "execution_count": 79,
   "metadata": {},
   "outputs": [
    {
     "output_type": "execute_result",
     "data": {
      "text/plain": [
       "     Neighborhood 1st Most Common Venue 2nd Most Common Venue  \\\n",
       "13    Lakarsantri                  Café              Wine Bar   \n",
       "19        Sawahan           Karaoke Bar                  Café   \n",
       "22       Sukolilo                  Café           Supermarket   \n",
       "23  Sukomanunggal          Noodle House                  Café   \n",
       "30      Wonokromo           Coffee Shop                  Café   \n",
       "\n",
       "   3rd Most Common Venue 4th Most Common Venue 5th Most Common Venue  \n",
       "13     Fish & Chips Shop                 Diner            Donut Shop  \n",
       "19    Seafood Restaurant     Convention Center                 Diner  \n",
       "22            Steakhouse  Gym / Fitness Center      Asian Restaurant  \n",
       "23        Hardware Store            Soup Place             Juice Bar  \n",
       "30              Wine Bar     Convention Center                 Diner  "
      ],
      "text/html": "<div>\n<style scoped>\n    .dataframe tbody tr th:only-of-type {\n        vertical-align: middle;\n    }\n\n    .dataframe tbody tr th {\n        vertical-align: top;\n    }\n\n    .dataframe thead th {\n        text-align: right;\n    }\n</style>\n<table border=\"1\" class=\"dataframe\">\n  <thead>\n    <tr style=\"text-align: right;\">\n      <th></th>\n      <th>Neighborhood</th>\n      <th>1st Most Common Venue</th>\n      <th>2nd Most Common Venue</th>\n      <th>3rd Most Common Venue</th>\n      <th>4th Most Common Venue</th>\n      <th>5th Most Common Venue</th>\n    </tr>\n  </thead>\n  <tbody>\n    <tr>\n      <th>13</th>\n      <td>Lakarsantri</td>\n      <td>Café</td>\n      <td>Wine Bar</td>\n      <td>Fish &amp; Chips Shop</td>\n      <td>Diner</td>\n      <td>Donut Shop</td>\n    </tr>\n    <tr>\n      <th>19</th>\n      <td>Sawahan</td>\n      <td>Karaoke Bar</td>\n      <td>Café</td>\n      <td>Seafood Restaurant</td>\n      <td>Convention Center</td>\n      <td>Diner</td>\n    </tr>\n    <tr>\n      <th>22</th>\n      <td>Sukolilo</td>\n      <td>Café</td>\n      <td>Supermarket</td>\n      <td>Steakhouse</td>\n      <td>Gym / Fitness Center</td>\n      <td>Asian Restaurant</td>\n    </tr>\n    <tr>\n      <th>23</th>\n      <td>Sukomanunggal</td>\n      <td>Noodle House</td>\n      <td>Café</td>\n      <td>Hardware Store</td>\n      <td>Soup Place</td>\n      <td>Juice Bar</td>\n    </tr>\n    <tr>\n      <th>30</th>\n      <td>Wonokromo</td>\n      <td>Coffee Shop</td>\n      <td>Café</td>\n      <td>Wine Bar</td>\n      <td>Convention Center</td>\n      <td>Diner</td>\n    </tr>\n  </tbody>\n</table>\n</div>"
     },
     "metadata": {},
     "execution_count": 79
    }
   ],
   "source": [
    "surabaya_merged.loc[surabaya_merged['Cluster Labels'] == 2, surabaya_merged.columns[[0] + list(range(5, surabaya_merged.shape[1]))]]"
   ]
  },
  {
   "source": [
    "### Cluster 4\n",
    "\n",
    "In this cluster we can see"
   ],
   "cell_type": "markdown",
   "metadata": {}
  },
  {
   "cell_type": "code",
   "execution_count": 80,
   "metadata": {},
   "outputs": [
    {
     "output_type": "execute_result",
     "data": {
      "text/plain": [
       "     Neighborhood 1st Most Common Venue 2nd Most Common Venue  \\\n",
       "10  Karang Pilang        Soccer Stadium              Wine Bar   \n",
       "\n",
       "   3rd Most Common Venue 4th Most Common Venue 5th Most Common Venue  \n",
       "10     Fish & Chips Shop          Dessert Shop                 Diner  "
      ],
      "text/html": "<div>\n<style scoped>\n    .dataframe tbody tr th:only-of-type {\n        vertical-align: middle;\n    }\n\n    .dataframe tbody tr th {\n        vertical-align: top;\n    }\n\n    .dataframe thead th {\n        text-align: right;\n    }\n</style>\n<table border=\"1\" class=\"dataframe\">\n  <thead>\n    <tr style=\"text-align: right;\">\n      <th></th>\n      <th>Neighborhood</th>\n      <th>1st Most Common Venue</th>\n      <th>2nd Most Common Venue</th>\n      <th>3rd Most Common Venue</th>\n      <th>4th Most Common Venue</th>\n      <th>5th Most Common Venue</th>\n    </tr>\n  </thead>\n  <tbody>\n    <tr>\n      <th>10</th>\n      <td>Karang Pilang</td>\n      <td>Soccer Stadium</td>\n      <td>Wine Bar</td>\n      <td>Fish &amp; Chips Shop</td>\n      <td>Dessert Shop</td>\n      <td>Diner</td>\n    </tr>\n  </tbody>\n</table>\n</div>"
     },
     "metadata": {},
     "execution_count": 80
    }
   ],
   "source": [
    "surabaya_merged.loc[surabaya_merged['Cluster Labels'] == 3, surabaya_merged.columns[[0] + list(range(5, surabaya_merged.shape[1]))]]"
   ]
  },
  {
   "source": [
    "### Cluster 5\n",
    "\n",
    "In this cluster we can see"
   ],
   "cell_type": "markdown",
   "metadata": {}
  },
  {
   "cell_type": "code",
   "execution_count": 81,
   "metadata": {},
   "outputs": [
    {
     "output_type": "execute_result",
     "data": {
      "text/plain": [
       "  Neighborhood 1st Most Common Venue 2nd Most Common Venue  \\\n",
       "0     Asemrowo              Wine Bar     Fish & Chips Shop   \n",
       "\n",
       "  3rd Most Common Venue 4th Most Common Venue 5th Most Common Venue  \n",
       "0          Dessert Shop                 Diner            Donut Shop  "
      ],
      "text/html": "<div>\n<style scoped>\n    .dataframe tbody tr th:only-of-type {\n        vertical-align: middle;\n    }\n\n    .dataframe tbody tr th {\n        vertical-align: top;\n    }\n\n    .dataframe thead th {\n        text-align: right;\n    }\n</style>\n<table border=\"1\" class=\"dataframe\">\n  <thead>\n    <tr style=\"text-align: right;\">\n      <th></th>\n      <th>Neighborhood</th>\n      <th>1st Most Common Venue</th>\n      <th>2nd Most Common Venue</th>\n      <th>3rd Most Common Venue</th>\n      <th>4th Most Common Venue</th>\n      <th>5th Most Common Venue</th>\n    </tr>\n  </thead>\n  <tbody>\n    <tr>\n      <th>0</th>\n      <td>Asemrowo</td>\n      <td>Wine Bar</td>\n      <td>Fish &amp; Chips Shop</td>\n      <td>Dessert Shop</td>\n      <td>Diner</td>\n      <td>Donut Shop</td>\n    </tr>\n  </tbody>\n</table>\n</div>"
     },
     "metadata": {},
     "execution_count": 81
    }
   ],
   "source": [
    "surabaya_merged.loc[surabaya_merged['Cluster Labels'] == 4, surabaya_merged.columns[[0] + list(range(5, surabaya_merged.shape[1]))]]"
   ]
  },
  {
   "source": [
    "## 6.3 Discussion"
   ],
   "cell_type": "markdown",
   "metadata": {}
  },
  {
   "source": [
    "# 7. Conclusion"
   ],
   "cell_type": "markdown",
   "metadata": {}
  },
  {
   "source": [
    "## References :\n",
    "- [Coursera Applied Data Science Capstone Course](https://www.coursera.org/learn/applied-data-science-capstone)\n",
    "\n",
    "## Thanks to : \n",
    "- [Foursquare Developer API](https://foursquare.com/developers/)\n",
    "- [Indonesian Ministry of Internal Affairs (Kemendagri)](https://www.kemendagri.go.id/page/read/48/peraturan-menteri-dalam-negeri-no72-tahun-2019) Accessed via Wikipedia page [neighborhood Jakarta](https://id.wikipedia.org/wiki/Daftar_kecamatan_dan_kelurahan_di_Daerah_Khusus_Ibukota_Jakarta) and [neighborhood Surabaya](https://id.wikipedia.org/wiki/Daftar_kecamatan_dan_kelurahan_di_Kota_Surabaya).\n",
    "- OpenStreetView\n",
    "- Python library package (pandas, numpy, matplotlibt, folium, scikit-learn, and geopy)\n",
    "\n",
    "## Tools :\n",
    "- Jupyter Notebooks using Visual Studio Code\n",
    "- GitHub (version control)"
   ],
   "cell_type": "markdown",
   "metadata": {}
  },
  {
   "cell_type": "code",
   "execution_count": null,
   "metadata": {},
   "outputs": [],
   "source": []
  }
 ]
}